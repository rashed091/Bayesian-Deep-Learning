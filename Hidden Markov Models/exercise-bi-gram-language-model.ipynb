{
 "cells": [
  {
   "cell_type": "markdown",
   "metadata": {},
   "source": [
    "# Text Information Extraction - Sequences - Exercise: Bi-Gram Language Model\n",
    "\n",
    "## Table of Contents\n",
    "\n",
    "* [Introduction](#Introduction)\n",
    "  * [Required Knowledge](#Required-Knowledge)\n",
    "  * [Required Python Modules](#Required-Python-Modules)\n",
    "  * [Required Data](#Required-Data)\n",
    "\n",
    "\n",
    "* [Markov Models](#Markov-Models)\n",
    "  * [Markov Assumption](#Markov-Assumption)\n",
    "  * [Markov Chains](#Markov-Chains)\n",
    "* [Language Models](#Language-Models)\n",
    "* [Pen-and-Paper Exercises](#Pen-and-Paper-Exercises)\n",
    "  * [Exercise: Terminology](#Exercise%3A-Terminology)\n",
    "  * [Exercise: Language Models](#Exercise%3A-Language-Models)\n",
    "* [Programming Exercises](#Programming-Exercises)\n",
    "  * [Exercise: Normalization](#Exercise%3A-Normalization)\n",
    "  * [Exercise: Allowed Terms](#Exercise%3A-Allowed-Terms)\n",
    "  * [Exercise: Count Bi-Grams](#Exercise%3A-Count-Bi-Grams)\n",
    "  * [Exercise: Sentence-Probability](#Exercise%3A-Sentence-Probability)\n",
    "  * [Exercise: Sampling](#Exercise%3A-Sampling)\n",
    "  * [Exercise: Laplace Smoothing](#Exercise%3A-Laplace-Smoothing)\n",
    "  * [Exercise: Perplexity](#Exercise%3A-Perplexity)\n",
    "\n",
    "\n",
    "* [Summary and Outlook](#Summary-and-Outlook)\n",
    "* [Literature](#Literature)\n",
    "* [Licenses](#Licenses)"
   ]
  },
  {
   "cell_type": "markdown",
   "metadata": {},
   "source": [
    "## Introduction\n",
    "\n",
    "This notebook introduces Markov Models as a way to represent Bi-Gram language models. It is advised, but not strictly required, to learn about Bayesian Networks first. Studying Bayesian Networks provides you with a basic understanding of probability theory and graphical models, which is useful in this context.\n",
    "\n",
    "The comprehensive exercises in this notebook will guide you through the steps of implementing a Bi-Gram language model. Due to the general data sparsity in the Natural Language Processing (NLP) domain, the implementation requires various adaptions concerning numerical stability, which will be addressed accordingly.\n",
    "\n",
    "As a data source, the ABC text corpus provided by [Natural Language Toolkit (nltk)](https://www.nltk.org/) is used."
   ]
  },
  {
   "cell_type": "markdown",
   "metadata": {},
   "source": [
    "### Required Knowledge\n",
    "\n",
    "* Basics of Probability Theory, e.g. \n",
    "\n",
    " * Khan Academy [Statistics and probability](https://www.khanacademy.org/math/statistics-probability).\n",
    " * Kurze Übersicht [Wahrscheinlichkeitstheorie](http://christianherta.de/lehre/dataScience/basics/Wahrscheinlichkeitstheorie.php)\n",
    "* Bayesian Networks (Optional), e.g.:\n",
    "    * [Bayesian Networks](http://christianherta.de/lehre/dataScience/bayesian_networks/Bayessche_Netze_Repraesentation.html) \n",
    "    * [Bayesian Networks by Example](https://gitlab.com/deep.TEACHING/educational-materials/blob/master/notebooks/machine-learning-fundamentals/probability-theory/bayesian-networks-by-example.ipynb)"
   ]
  },
  {
   "cell_type": "markdown",
   "metadata": {},
   "source": [
    "### Required Python Modules"
   ]
  },
  {
   "cell_type": "code",
   "execution_count": null,
   "metadata": {},
   "outputs": [],
   "source": [
    "# Python Standard Library\n",
    "from collections import Counter\n",
    "\n",
    "# External Modules\n",
    "import numpy as np\n",
    "from numpy.testing import assert_almost_equal\n",
    "import nltk"
   ]
  },
  {
   "cell_type": "markdown",
   "metadata": {},
   "source": [
    "### Required Data"
   ]
  },
  {
   "cell_type": "code",
   "execution_count": null,
   "metadata": {},
   "outputs": [],
   "source": [
    "nltk.download('abc')\n",
    "nltk.download('punkt')\n",
    "sequences = nltk.corpus.abc.sents()"
   ]
  },
  {
   "cell_type": "code",
   "execution_count": null,
   "metadata": {},
   "outputs": [],
   "source": [
    "# the first two sentences of the data set\n",
    "print(sequences[0:2])"
   ]
  },
  {
   "cell_type": "markdown",
   "metadata": {},
   "source": [
    "## Markov Models\n",
    "\n",
    "In one of the preliminary notebooks _Bayesian Networks by Example_, we have introduced graphical models. Each node in a Bayesian Network corresponds to a random variable, which can take on different values with a certain probability given the predecessors of the variable.\n",
    "\n",
    "A Markov Model is very similar, but represents a sequence of states. For example $W_1, ..., W_n$ could represent a temporal sequence of weather states, where $W_1, ..., W_n$ are random variables.\n",
    "\n",
    "Possible values of $W$ are defined as\n",
    "\n",
    "$$\n",
    "Val(W) = \\{Sunny, Cloudy, Rainy\\}.\n",
    "$$\n",
    "\n",
    "For example, the following graphical representation shows a sequence of weather states for five days.\n",
    "\n",
    "Usually, we observe a specific sequence of events, for example $W_1 = Sunny, W_2 = Sunny, W_3 = Cloudy, W_4 = Rainy$."
   ]
  },
  {
   "cell_type": "markdown",
   "metadata": {},
   "source": [
    "### Markov Assumption\n",
    "\n",
    "\n",
    "\n",
    "Now we make the assumption that the probability of a state depends only on the previous state.\n",
    "This means that $W_5$ becomes independent of $W_1$, $W_2$ and $W_3$ given $W_4$:\n",
    "\n",
    "$$\n",
    "(W_5 \\perp W_1, W_2, W_3 )\\mid W_4 \n",
    "$$\n",
    "\n",
    "e.g. the last term of calculating $P(S)$ is now by the Markov assumption:\n",
    "\n",
    "$$P(W_5 \\mid W_4 , W_3 , W_2 , W_1 ) = P(W_5 \\mid W_4)$$ \n",
    "\n",
    "So we have for the probability for the sequence $S$:\n",
    "\n",
    "$$\n",
    "\\begin{align}\n",
    " P(S) =  P(W_1, W_2, W_3, W_4,  W_5) &=\n",
    " P(W_1) \\cdot P(W_2 \\mid W_1) \\cdot P(W_3 \\mid W_2) \\cdot P(W_4 \\mid W_3) \\cdot P(W_5 \\mid W_4) \n",
    "\\end{align}\n",
    "$$"
   ]
  },
  {
   "attachments": {
    "mm_w1_w2_w3_w4_w5.png": {
     "image/png": "[encoded data removed]"
    }
   },
   "cell_type": "markdown",
   "metadata": {},
   "source": [
    "The Markov Chain as directed graphical model (Bayesian Network):\n",
    "\n",
    "![mm_w1_w2_w3_w4_w5.png](attachment:mm_w1_w2_w3_w4_w5.png)\n",
    "\n",
    "\n",
    "From the graph we can deduce the markov assumption at each time step.\n",
    "\n",
    "In general, so the probability of a Markov sequence $S$ is\n",
    "$$\n",
    "p(S) = p(W_1) \\prod_{t=2}^n P(W_t \\mid W_{t-1})\n",
    "$$"
   ]
  },
  {
   "cell_type": "markdown",
   "metadata": {},
   "source": [
    "### Transition Probabilities\n",
    "\n",
    "We can now predict the next observed state in a sequence, by just looking at the current state. \n",
    "\n",
    "Assume, that we already know all transition probabilities from each possible state to the next state, we can express them in a matrix for the transition probabilities\n",
    "$P(W_t\\mid W_{t-1})$ as follows.\n",
    "\n",
    "$$\n",
    "\\begin{bmatrix}\n",
    "p(Sunny\\mid Sunny) & p(Cloudy\\mid Sunny) & p(Rainy\\mid Sunny) \\\\\n",
    "p(Sunny\\mid Cloudy) & p(Cloudy\\mid Cloudy) & p(Rainy\\mid Cloudy) \\\\\n",
    "p(Sunny\\mid Rainy) & p(Cloudy\\mid Rainy) & p(Rainy\\mid Rainy) \\\\\n",
    "\\end{bmatrix} = \n",
    "\\begin{bmatrix}\n",
    "0.8 & 0.15 & 0.05 \\\\\n",
    "0.2 & 0.5 & 0.3 \\\\\n",
    "0.2 & 0.2 & 0.6 \\\\\n",
    "\\end{bmatrix} \n",
    "$$"
   ]
  },
  {
   "cell_type": "markdown",
   "metadata": {},
   "source": [
    "If it is $Sunny$ at a given point in a sequence, the probability that it will be $Cloudy$ afterwards can be expressed as $P(W_t = Cloudy \\mid W_{t-1} = Sunny)$. "
   ]
  },
  {
   "cell_type": "code",
   "execution_count": null,
   "metadata": {},
   "outputs": [],
   "source": [
    "index = {\n",
    "    'Sunny': 0,\n",
    "    'Cloudy': 1,\n",
    "    'Rainy': 2\n",
    "}\n",
    "\n",
    "W = np.array([\n",
    "    [0.8, 0.15, 0.05],\n",
    "    [0.2, 0.5, 0.3],\n",
    "    [0.2, 0.2, 0.6]\n",
    "])"
   ]
  },
  {
   "cell_type": "markdown",
   "metadata": {},
   "source": [
    "The value of $P(W_t = Cloudy \\mid W_{t-1} = Sunny)$ can be accessed in the probability table $W$ as follows."
   ]
  },
  {
   "cell_type": "code",
   "execution_count": null,
   "metadata": {},
   "outputs": [],
   "source": [
    "W[index['Sunny'], index['Cloudy']]"
   ]
  },
  {
   "attachments": {
    "mc_sunny_cloudy_rainy.png": {
     "image/png": "[encoded data removed]"
    }
   },
   "cell_type": "markdown",
   "metadata": {},
   "source": [
    "#### State transition graphs\n",
    "\n",
    "The transition probabilities can also be illustrated by state transitions graphs as follows:\n",
    "\n",
    "![mc_sunny_cloudy_rainy.png](attachment:mc_sunny_cloudy_rainy.png)\n",
    "\n",
    "The edges between nodes represent the transition probability from state to another, as shown in the example below.\n",
    "\n",
    "Note: The state transition graph is not a probabilistical graphical model."
   ]
  },
  {
   "cell_type": "markdown",
   "metadata": {},
   "source": [
    "#### Markov Processes\n",
    "\n",
    "A _Markov process_ consists of\n",
    "- a set of states \n",
    "- a transition (probability) matrix\n",
    "\n",
    "Such a Markov process can generate a Markov chain, a sequence of random variables."
   ]
  },
  {
   "cell_type": "markdown",
   "metadata": {},
   "source": [
    "## Application: Language Models\n",
    "\n",
    "Markov Models can be used as language models. Here we consider only Bi-Grams. In practice, \n",
    "higher n-Grams language models are used which are quite similar.\n",
    "\n",
    "A language model maps each sequence of terms (states) to a probability. The probability of the sentence in the language.\n",
    "Typically such a language model is learnt from a training corpus.\n",
    "\n",
    "Consider the following sentence `s`, which is contained in the ABC text corpus. The sentence is a sequence of terms."
   ]
  },
  {
   "cell_type": "code",
   "execution_count": null,
   "metadata": {},
   "outputs": [],
   "source": [
    "s = sequences[12215]\n",
    "print(s)"
   ]
  },
  {
   "attachments": {
    "mm_Start_Life___End.png": {
     "image/png": "[encoded data removed]"
    }
   },
   "cell_type": "markdown",
   "metadata": {},
   "source": [
    "Prepending a `START` tag and appending an `END` tag allows us to assign probabilities to a term being at the beginning or the end of sentence respectively.\n",
    "\n",
    "![mm_Start_Life___End.png](attachment:mm_Start_Life___End.png)"
   ]
  },
  {
   "cell_type": "code",
   "execution_count": null,
   "metadata": {},
   "outputs": [],
   "source": [
    "sse = ['START'] + s + ['END']\n",
    "print(sse)"
   ]
  },
  {
   "cell_type": "markdown",
   "metadata": {},
   "source": [
    "Bi-Grams are all possible combinations of two subsequent words in the sentence. See the following code, for a list of all Bi-Grams in `sse`."
   ]
  },
  {
   "cell_type": "code",
   "execution_count": null,
   "metadata": {},
   "outputs": [],
   "source": [
    "list(zip(sse[:-1], sse[1:]))"
   ]
  },
  {
   "cell_type": "markdown",
   "metadata": {},
   "source": [
    "In order to estimate probabilities for all possible terms and their successors (transition probabilities), we have to count all Bi-Grams in the training corpus. Since the number of possible terms in a text corpus is large, the resulting transition matrix requires a lot of memory and is sparse. A sparse matrix has a lot of $0$-entries, i.e. here transition probabilities equal zero."
   ]
  },
  {
   "cell_type": "code",
   "execution_count": null,
   "metadata": {},
   "outputs": [],
   "source": [
    "raw_terms = set()\n",
    "\n",
    "for sentence in sequences:\n",
    "    raw_terms.update(sentence)\n",
    "\n",
    "len(raw_terms)"
   ]
  },
  {
   "cell_type": "markdown",
   "metadata": {},
   "source": [
    "## Pen-and-Paper Exercises"
   ]
  },
  {
   "cell_type": "markdown",
   "metadata": {},
   "source": [
    "\n",
    "\n",
    "The exercises in this notebook will we prepare you and \n",
    "guide through the implementation of a language model.\n",
    "<!-- and how to apply some tricks to reduce sparsity.-->\n"
   ]
  },
  {
   "cell_type": "markdown",
   "metadata": {
    "slideshow": {
     "slide_type": "-"
    }
   },
   "source": [
    "### Exercise: Terminology\n",
    "\n",
    "What is the difference between *Word*, *Token*, *Type* and *Term*?\n",
    "\n",
    "To answer the question, read the beginning of [2.2.1. Tokenization](https://nlp.stanford.edu/IR-book/pdf/02voc.pdf) of \"Introduction to information retrieval\" [[SCH08](#SCH08)].\n",
    "<!-- Word: A delimited string of characters as it appears in the text.\n",
    "Term: A normalized word (case, morphology, spelling etc); an equivalence class of words.\n",
    "Token: An instance of a word or term occurring in a document.\n",
    "Type: The same as a term in most cases: an equivalence class of tokens.\n",
    "-->"
   ]
  },
  {
   "cell_type": "markdown",
   "metadata": {},
   "source": [
    "### Exercise: Language Models\n",
    "\n",
    "Study the fundamentals of N-Gram language models in [Chapter 3](https://web.stanford.edu/~jurafsky/slp3/3.pdf) \"Language Modeling with N-Grams\" (accessed online 16.12.2018) of [\"Speech and Language Processing\"](https://web.stanford.edu/~jurafsky/slp3/) [[JUR18](#JUR18)].\n",
    "\n",
    " \n",
    "Further Readings: [Language Modeling (Lecture Notes for NLP)](http://www.cs.columbia.edu/~mcollins/lm-spring2013.pdf) [[COL13](#COL13)], accessed online 05.04.2018\n",
    " \n",
    "\n",
    "Solve the following exercises in [Chapter 3](https://web.stanford.edu/~jurafsky/slp3/3.pdf)  [[JUR18](#JUR18)] (see pp. 25 in the linked PDF). The exercises 3.1-3.5 are strongly recommended. \n"
   ]
  },
  {
   "cell_type": "markdown",
   "metadata": {},
   "source": [
    "## Programming Exercises"
   ]
  },
  {
   "cell_type": "markdown",
   "metadata": {},
   "source": [
    "### Exercise: Normalization\n",
    "\n",
    "Write a python function which normalizes the corpus as follows:\n",
    "\n",
    "* convert all uppercase letters to lower case\n",
    "* replace all digits by char `#`"
   ]
  },
  {
   "cell_type": "code",
   "execution_count": null,
   "metadata": {},
   "outputs": [],
   "source": [
    "DIGIT = '#'"
   ]
  },
  {
   "cell_type": "code",
   "execution_count": null,
   "metadata": {},
   "outputs": [],
   "source": [
    "# fill in your normalization code in the function body\n",
    "def normalize(corpus):\n",
    "    for s in corpus:\n",
    "        normalized_sentence = None\n",
    "        raise NotImplementedError()\n",
    "        yield normalized_sentence"
   ]
  },
  {
   "cell_type": "code",
   "execution_count": null,
   "metadata": {},
   "outputs": [],
   "source": [
    "# a normalised sentence\n",
    "for i, s in enumerate(normalize(sequences)):\n",
    "    if i == 3:\n",
    "        print(s)\n",
    "        break"
   ]
  },
  {
   "cell_type": "code",
   "execution_count": null,
   "metadata": {},
   "outputs": [],
   "source": [
    "def test_normalize():\n",
    "    input_corpus = [['R2D2', 'ist', 'ein', 'Roboter', 'aus', 'dem', 'Jahr', '1977', '.']]\n",
    "    output_corpus = [['r#d#', 'ist', 'ein', 'roboter', 'aus', 'dem', 'jahr', '####', '.']]\n",
    "    normalized_corpus = list(normalize(input_corpus))\n",
    "    assert normalized_corpus == output_corpus\n",
    "    \n",
    "test_normalize()"
   ]
  },
  {
   "cell_type": "markdown",
   "metadata": {},
   "source": [
    "### Exercise: Allowed Terms\n",
    "\n",
    "Create a set of allowed terms. In this case we allow only the 8190 most common terms, to artificially reduce the size of our vocabulary. This is an important step to reduce the memory consumption of our Bi-Gram matrix, which we will construct in a later step.\n",
    "\n",
    "* Create a Python set, containing only the most common terms.\n",
    "* Hint: for the initial counting you could use the Counter class from collections."
   ]
  },
  {
   "cell_type": "code",
   "execution_count": null,
   "metadata": {},
   "outputs": [],
   "source": [
    "NUM_ALLOWED = 8190"
   ]
  },
  {
   "cell_type": "code",
   "execution_count": null,
   "metadata": {},
   "outputs": [],
   "source": [
    "# fill in code to create a list containing allowed terms\n",
    "allowed_terms = None"
   ]
  },
  {
   "cell_type": "code",
   "execution_count": null,
   "metadata": {},
   "outputs": [],
   "source": [
    "def test_allowed_terms():\n",
    "    assert isinstance(allowed_terms, set)\n",
    "    assert 'suggests' in allowed_terms\n",
    "    assert 'research' in allowed_terms\n",
    "    assert 'astonishing' not in allowed_terms\n",
    "    assert len(allowed_terms) == NUM_ALLOWED\n",
    "    \n",
    "test_allowed_terms()"
   ]
  },
  {
   "cell_type": "markdown",
   "metadata": {},
   "source": [
    "The allowed terms are used in an additional filter function `allowed` which is applied as a generator. The filter function will replace every unknown term, not contained in the vocabulary by `UNK`."
   ]
  },
  {
   "cell_type": "code",
   "execution_count": null,
   "metadata": {},
   "outputs": [],
   "source": [
    "UNKNOWN = 'UNK'"
   ]
  },
  {
   "cell_type": "code",
   "execution_count": null,
   "metadata": {},
   "outputs": [],
   "source": [
    "# we create a function, which filters infrequent terms\n",
    "def allowed_func(allowed_terms):\n",
    "    # this is a closure (allowed_terms are stored)\n",
    "    def allowed(corpus):\n",
    "        for s in corpus:\n",
    "            yield [term if term in allowed_terms else UNKNOWN for term in s]\n",
    "    \n",
    "    # the returned function will have access to allowed_terms from its definition context\n",
    "    return allowed"
   ]
  },
  {
   "cell_type": "code",
   "execution_count": null,
   "metadata": {},
   "outputs": [],
   "source": [
    "allowed = allowed_func(allowed_terms)"
   ]
  },
  {
   "cell_type": "code",
   "execution_count": null,
   "metadata": {},
   "outputs": [],
   "source": [
    "# filter infrequent terms from a normalised sentence\n",
    "for i, s in enumerate(allowed(normalize(sequences))):\n",
    "    if i == 3:\n",
    "        print(s)\n",
    "        break"
   ]
  },
  {
   "cell_type": "markdown",
   "metadata": {},
   "source": [
    "### Exercise: Index\n",
    "\n",
    "Now that we have reduced the allowed vocabulary to a certain number of terms $N$, we can build an index. This index does not only include each $TERM$, but also special symbols $UNK$ and $START\\_END$. We can use $START\\_END$ as a shared index for $START$ and $END$, because $START$ can only be on the left side of a Bi-Gram and $END$ can only be on the right side of a Bi-Gram. [Exercise: Count Bi-Grams](#Exercise%3A-Count-Bi-Grams) will explain this in detail.\n",
    "\n",
    "* Create Python dictionary `index` where terms and special symbols are keys, while assigned values are integers."
   ]
  },
  {
   "cell_type": "code",
   "execution_count": null,
   "metadata": {},
   "outputs": [],
   "source": [
    "START_END = 'START_END'"
   ]
  },
  {
   "cell_type": "code",
   "execution_count": null,
   "metadata": {},
   "outputs": [],
   "source": [
    "# fill in code to create a dictionary containing a term index\n",
    "index = dict()\n",
    "# e.g. index['research'] has index 8045"
   ]
  },
  {
   "cell_type": "code",
   "execution_count": null,
   "metadata": {},
   "outputs": [],
   "source": [
    "len(index)"
   ]
  },
  {
   "cell_type": "code",
   "execution_count": null,
   "metadata": {},
   "outputs": [],
   "source": [
    "index['research']"
   ]
  },
  {
   "cell_type": "code",
   "execution_count": null,
   "metadata": {},
   "outputs": [],
   "source": [
    "def test_index():\n",
    "    assert isinstance(index, dict)\n",
    "    assert len(index) == len(allowed_terms) + 2\n",
    "    assert UNKNOWN in index\n",
    "    assert START_END in index\n",
    "    \n",
    "    for key, val in index.items():\n",
    "        assert isinstance(key, str)\n",
    "        assert isinstance(val, int)\n",
    "    \n",
    "    assert list(sorted(index.values())) == list(range(len(allowed_terms) + 2))\n",
    "    \n",
    "test_index()"
   ]
  },
  {
   "cell_type": "markdown",
   "metadata": {},
   "source": [
    "### Exercise: Count Bi-Grams\n",
    "\n",
    "In this exercise you will create a numpy matrix, which stores the number of occurrences of each Bi-Gram from our training corpus. We can think of a Bi-Gram as a combination of two subsequent elements $a$ and $b$, where $a$ can be $START$, $UNK$ or a $TERM$ and where $b$ can be $END$, $UNK$ or a $TERM$. We can store a count for each possible combination of $a$ and $b$ in a matrix, by assigning the first dimension to $a$ and the second dimension to $b$.\n",
    "\n",
    "The `index`, which lets us map $a$ or $b$ to a fixed position in the array, has already been defined. For $START$ we only need a row, but no column, while for $END$ we only need a column, but not row. Therefore the shared index $START\\_END$ is a useful trick.\n",
    "\n",
    "* Initialize a numpy array $C$, which stores Bi-Gram counts $ab$ for all combinations of $a$ and $b$.\n",
    "  * Use the first dimension (rows) for $a$ and the second dimension (columns) for $b$.\n",
    "* For lower memory consumption, use the numpy datatype ([dtype](https://docs.scipy.org/doc/numpy-1.13.0/reference/arrays.dtypes.html)) `np.uint16`, instead of `np.int64`.\n",
    "* Fill the array with Bi-Gram counts from the training corpus.\n",
    "  * Use the dict `index` to refer to the correct indices in the matrix.\n",
    "  * START $\\rightarrow$ END is a valid Bi-Gram for empty sequences."
   ]
  },
  {
   "cell_type": "code",
   "execution_count": null,
   "metadata": {},
   "outputs": [],
   "source": [
    "# fill in code to initialize numpy data structures and fill them with bi-gram counts\n",
    "C = None\n",
    "\n",
    "for s in allowed(normalize(sequences)):\n",
    "    pass"
   ]
  },
  {
   "cell_type": "code",
   "execution_count": null,
   "metadata": {},
   "outputs": [],
   "source": [
    "C[index['research'], index['suggests']]"
   ]
  },
  {
   "cell_type": "code",
   "execution_count": null,
   "metadata": {},
   "outputs": [],
   "source": [
    "def test_C():\n",
    "    assert C.shape == (len(index), len(index))\n",
    "    assert C.dtype == np.uint16\n",
    "    assert C[index[START_END], index[START_END]] == 0\n",
    "    \n",
    "test_C()"
   ]
  },
  {
   "cell_type": "markdown",
   "metadata": {},
   "source": [
    "### Exercise: Bi-Gram Probability\n",
    "\n",
    "Implement a function `p(a, b)`, which returns the probability $P(b \\mid a)$ for a given Bi-Gram $a$, $b$. The probability of a Bi-Gram, is defined as\n",
    "\n",
    "$$\n",
    "\\begin{align}\n",
    "P(a, b) &= \\frac{C(a, b)}{\\sum\\limits_{v\\in V} C(a, v)}\n",
    "\\end{align}\n",
    "$$\n",
    "\n",
    "where $V$ is the vocabulary (the terms $v$ in `index`).\n",
    "$|V|$ is the size of the vocabulary, including the `START_END` tag, \n",
    "and where $C(a,b)$ is the Bi-Gram count of $ab$. \n",
    "\n",
    "* `p(a, b)` must have access to `C` and the `index`.\n",
    "  * Hint: You can use a closure as demonstrated in [Exercise: Allowed Terms](#Exercise%3A-Allowed-Terms).\n",
    "* Raise exception if `a == END`.\n",
    "* Raise exception if `b == START`."
   ]
  },
  {
   "cell_type": "code",
   "execution_count": null,
   "metadata": {},
   "outputs": [],
   "source": [
    "START = 'START'\n",
    "END = 'END'"
   ]
  },
  {
   "cell_type": "code",
   "execution_count": null,
   "metadata": {},
   "outputs": [],
   "source": [
    "# fill in code to implement a closure p_func, which returns p\n",
    "def p_func(C, index):\n",
    "    raise NotImplementedError()\n",
    "    # variables which are defined here, will be available in p\n",
    "    \n",
    "    def p(a, b):\n",
    "        pass\n",
    "    \n",
    "    return p"
   ]
  },
  {
   "cell_type": "code",
   "execution_count": null,
   "metadata": {},
   "outputs": [],
   "source": [
    "p = p_func(C, index)"
   ]
  },
  {
   "cell_type": "code",
   "execution_count": null,
   "metadata": {},
   "outputs": [],
   "source": [
    "p('research', 'suggests')"
   ]
  },
  {
   "cell_type": "code",
   "execution_count": null,
   "metadata": {},
   "outputs": [],
   "source": [
    "def test_probability(p):\n",
    "    test_terms = set(allowed_terms)\n",
    "    test_terms.update([UNKNOWN, END])\n",
    "    \n",
    "    assert_almost_equal(sum(p(START, term) for term in test_terms), 1.0)\n",
    "    assert_almost_equal(sum(p(UNKNOWN, term) for term in test_terms), 1.0)\n",
    "    assert_almost_equal(sum(p('research', term) for term in test_terms), 1.0)\n",
    "    assert_almost_equal(sum(p('suggests', term) for term in test_terms), 1.0)\n",
    "    \n",
    "    def exception_raised(a, b):\n",
    "        raised = False\n",
    "        try:\n",
    "            p(a, b)\n",
    "        except:\n",
    "            raised = True\n",
    "\n",
    "        return raised\n",
    "    \n",
    "    assert exception_raised(END, UNKNOWN)\n",
    "    assert exception_raised(UNKNOWN, START)\n",
    "\n",
    "test_probability(p)"
   ]
  },
  {
   "cell_type": "markdown",
   "metadata": {},
   "source": [
    "### Exercise: Sentence Probability\n",
    "\n",
    "\n",
    "The probability of a sentece $S$ is by the product of the probabilities of all Bi-Grams in the sequence:\n",
    "\n",
    "$$\n",
    "P(S) =  P(v_0) \\prod_{t=1}^{n} P(v_t \\mid v_{t-1}) = \\prod_{t=1}^{n} P(v_t \\mid v_{t-1})\n",
    "$$\n",
    "\n",
    "* $v_0$ refers to `START` ($P(v_0)=1$)\n",
    "* $v_n$ refers to `END`\n",
    "* $n$ is the length of the sentence\n",
    "\n",
    "\n",
    "First implement a function `sentence_probability(s, p)` which calculates the probability $P(S)$.\n",
    "\n",
    "* Parameter `s` is a sentence, without `START` or `END` tags.\n",
    "* Parameter `p` takes a function to calculate Bi-Gram probabilities, for example `p(a, b)`.\n",
    "\n",
    "\n",
    "The multipication of small numbers can result in numerical instabilities. So it's numerically more stable to add logarithms of the probabilities.\n",
    "\n",
    "Recall: adding in logarithmic space is equivalent to multiplying without logarithms (see example below), but prevents numerical instabilities due to floating-point arithmetic.\n",
    "\n",
    "$$\n",
    "log(P(v_1 \\mid START) \\cdot P(v_2 \\mid v_1) \\cdot P(END \\mid v_2)) = log(P(v_1 \\mid START)) + log(P(\n",
    "v_2 \\mid v_1)) + log(P(END \\mid v_2))\n",
    "$$\n",
    "\n",
    "\n",
    "You should also implement a second function `sentence_log_probability(s, p)`, which calculates the probability of a full sentence $P(S)$, by adding the logarithmic probabilites of all Bi-Grams in sentence.\n",
    "\n",
    "$$\n",
    "\\log P(S) =   \\sum_{t=1}^{n} \\log P(v_t \\mid v_{t-1}) \n",
    "$$\n",
    "\n",
    "\n",
    "Hint: Use [np.log](https://docs.scipy.org/doc/numpy/reference/generated/numpy.log.html).\n",
    "\n"
   ]
  },
  {
   "cell_type": "code",
   "execution_count": null,
   "metadata": {},
   "outputs": [],
   "source": [
    "# fill in code to implement a function which return a sequence probabiliy\n",
    "def sentence_probability(s, p):\n",
    "    raise NotImplementedError()\n",
    "    \n",
    "def sentence_log_probability(s, p):\n",
    "    raise NotImplementedError()"
   ]
  },
  {
   "cell_type": "code",
   "execution_count": null,
   "metadata": {},
   "outputs": [],
   "source": [
    "s1 = ['research', 'suggests', '.']\n",
    "s2 = ['research', 'data', '.']"
   ]
  },
  {
   "cell_type": "code",
   "execution_count": null,
   "metadata": {},
   "outputs": [],
   "source": [
    "sentence_probability(s1, p), sentence_probability(s2, p)"
   ]
  },
  {
   "cell_type": "code",
   "execution_count": null,
   "metadata": {},
   "outputs": [],
   "source": [
    "sentence_log_probability(s1, p), sentence_log_probability(s2, p)"
   ]
  },
  {
   "cell_type": "code",
   "execution_count": null,
   "metadata": {},
   "outputs": [],
   "source": [
    "np.log(sentence_probability(s1, p)), sentence_log_probability(s1, p)"
   ]
  },
  {
   "cell_type": "code",
   "execution_count": null,
   "metadata": {},
   "outputs": [],
   "source": [
    "def test_sentence_probability(p):\n",
    "    for s in allowed(normalize(sequences)):\n",
    "        break\n",
    "    \n",
    "    assert_almost_equal(np.log(sentence_probability(s, p)), sentence_log_probability(s, p))\n",
    "    \n",
    "test_sentence_probability(p)"
   ]
  },
  {
   "cell_type": "markdown",
   "metadata": {},
   "source": [
    "### Exercise: Sampling\n",
    "\n",
    "Implement a function `sample(max_length=50)`, which returns a random sentence generated from the model.\n",
    "\n",
    "* `sample(max_length=50)` must have access to `C` and the `index`.\n",
    "  * Use a closure as demonstrated in [Exercise: Allowed Terms](#Exercise%3A-Allowed-Terms).\n",
    "* You can use [np.random.choice](https://docs.scipy.org/doc/numpy/reference/generated/numpy.random.choice.html) to draw from a random distribution of the model.\n",
    "* Sampled sentences should not include `START` or `END` tags.\n",
    "* Remember to use `START` Bi-Grams to determine the probabilities of possible sentence beginnings.\n",
    "* Return a sentence as soon as an `END` tag has been sampled or if `max_length` is reached."
   ]
  },
  {
   "cell_type": "code",
   "execution_count": null,
   "metadata": {},
   "outputs": [],
   "source": [
    "# fill in code to implement a closure sample_func, which returns sample\n",
    "def sample_func(C, index):\n",
    "    raise NotImplementedError()\n",
    "    # variables which are defined here, will be available in sample\n",
    "    \n",
    "    def sample(max_length=50):\n",
    "        pass\n",
    "    \n",
    "    return sample"
   ]
  },
  {
   "cell_type": "code",
   "execution_count": null,
   "metadata": {},
   "outputs": [],
   "source": [
    "sample = sample_func(C, index)"
   ]
  },
  {
   "cell_type": "code",
   "execution_count": null,
   "metadata": {},
   "outputs": [],
   "source": [
    "for _ in range(2):\n",
    "    print(' '.join(sample()))"
   ]
  },
  {
   "cell_type": "markdown",
   "metadata": {},
   "source": [
    "### Exercise: Laplace Smoothing\n",
    "\n",
    "When we want to assign a probability to a new sentence (not in the training set), it can be possible that it contains Bi-Grams with estimated transition probability zero. So the probability of the sentence under the model would be zero.\n",
    "A remedy for this is smoothing.\n",
    "\n",
    "Implement a function `p_laplace(a, b)`, which returns the probability $\\hat{P}(b \\mid a)$ for a given Bi-Gram $a$, $b$ with Laplace smoothing applied. Laplacing smoothing, also known as Add-One smoothing, is defined as\n",
    "\n",
    "\n",
    "\n",
    "$$\n",
    "\\begin{align}\n",
    "\\hat{P}(a, b) &= \\frac{C(a, b) + 1}{\\sum\\limits_{v\\in V} (C(a, v) + 1)} \\\\\n",
    "           &= \\frac{C(a, b) + 1}{\\sum\\limits_{v\\in V} C(a, v) + |V|}\n",
    "\\end{align}\n",
    "$$\n",
    "\n",
    "where $|V|$ is the size of the vocabilary (`index`), including the `START_END` tag, and where $C$ is the Bi-Gram count.\n",
    "\n",
    "* `p_laplace(a, b)` must have access to `C` and the `index`.\n",
    "  * Use a closure as demonstrated in [Exercise: Allowed Terms](#Exercise%3A-Allowed-Terms).\n",
    "* The implementation is similar to the existing function `p(a, b)` and must pass the same tests.\n",
    "* Raise exception if `a == END`.\n",
    "* Raise exception if `b == START`."
   ]
  },
  {
   "cell_type": "code",
   "execution_count": null,
   "metadata": {},
   "outputs": [],
   "source": [
    "# fill in code to implement a closure p_laplace_func, which returns p_laplace\n",
    "def p_laplace_func(C, index):\n",
    "    raise NotImplementedError()\n",
    "    # variables which are defined here, will be available in sample\n",
    "    \n",
    "    def p_laplace(a, b):\n",
    "        pass\n",
    "    \n",
    "    return p_laplace"
   ]
  },
  {
   "cell_type": "code",
   "execution_count": null,
   "metadata": {},
   "outputs": [],
   "source": [
    "p_laplace = p_laplace_func(C, index)"
   ]
  },
  {
   "cell_type": "code",
   "execution_count": null,
   "metadata": {},
   "outputs": [],
   "source": [
    "p_laplace('research', 'suggests'), p('research', 'suggests')"
   ]
  },
  {
   "cell_type": "markdown",
   "metadata": {},
   "source": [
    "We can use `p_laplace` as replacement for `p` in our existing functions."
   ]
  },
  {
   "cell_type": "code",
   "execution_count": null,
   "metadata": {},
   "outputs": [],
   "source": [
    "sentence_log_probability(s1, p), sentence_log_probability(s1, p_laplace)"
   ]
  },
  {
   "cell_type": "markdown",
   "metadata": {},
   "source": [
    "We can also use `p_laplace` in our existing tests."
   ]
  },
  {
   "cell_type": "code",
   "execution_count": null,
   "metadata": {},
   "outputs": [],
   "source": [
    "test_probability(p_laplace)"
   ]
  },
  {
   "cell_type": "code",
   "execution_count": null,
   "metadata": {},
   "outputs": [],
   "source": [
    "test_sentence_probability(p_laplace)"
   ]
  },
  {
   "cell_type": "markdown",
   "metadata": {},
   "source": [
    "### Exercise: Perplexity\n",
    "\n",
    "Implement a function `perplexity(corpus)`, which returns the perplexity score of the model on a complete test corpus. Perplexity is defined as\n",
    "\n",
    "$$\n",
    "\\begin{align}\n",
    "Perplexity(T) &= \\sqrt[N]{ \\frac{1}{\\prod\\limits_{S \\in T} P(S)} } \\\\\n",
    "&= \\left(\\frac{1}{\\prod\\limits_{S \\in T} P(S)}\\right)^{\\frac{1}{N}} \\\\\n",
    "&= exp\\left(log\\left(\\left(\\frac{1}{\\prod\\limits_{S \\in T} P(S)}\\right)^{\\frac{1}{N}}\\right)\\right) \\\\\n",
    "&= exp\\left(\\frac{1}{N} \\cdot log\\left(\\frac{1}{\\prod\\limits_{S \\in T} P(S)}\\right)\\right) \\\\\n",
    "&= exp\\left(\\frac{1}{N} \\cdot \\left(log(1) - log\\left(\\prod\\limits_{S \\in T} P(S)\\right)\\right)\\right) \\\\\n",
    "&= exp\\left(-\\frac{1}{N} \\cdot log\\left(\\prod\\limits_{S \\in T} P(S)\\right)\\right) \\\\\n",
    "&= exp\\left(-\\frac{1}{N} \\cdot \\sum\\limits_{S \\in T} log\\left(P(S)\\right)\\right)\n",
    "\\end{align}\n",
    "$$\n",
    "\n",
    "where $T$ is a test corpus and $N$ is the number of all Bi-Grams in the corpus. The formula above gives you a clean mathematical definition at the top, and a numerically stable conversion using logarithmic probabilities at the bottom. For more intuition on perplexity watch [Nlp - 2.3 - Evaluation and Perplexity](https://www.youtube.com/watch?v=BAN3NB_SNHY) by Daniel Jurafsky.\n",
    "\n",
    "* Use the numerically stable formula at the bottom as a reference for your implementation.\n",
    "* Use your exiting functions `sentence_log_probabilities` and `p_laplace` for Bi-Gram probabilities.\n",
    "* Use [np.exp](https://docs.scipy.org/doc/numpy/reference/generated/numpy.exp.html)."
   ]
  },
  {
   "cell_type": "code",
   "execution_count": null,
   "metadata": {},
   "outputs": [],
   "source": [
    "# use a test corpus, instead of the training corpus\n",
    "for s in allowed(normalize(sequences)):\n",
    "    break\n",
    "print(s)"
   ]
  },
  {
   "cell_type": "code",
   "execution_count": null,
   "metadata": {},
   "outputs": [],
   "source": [
    "# fill in your perplexity code in the function body\n",
    "def perplexity(corpus):\n",
    "    # your code goes here\n",
    "    raise NotImplementedError()"
   ]
  },
  {
   "cell_type": "code",
   "execution_count": null,
   "metadata": {},
   "outputs": [],
   "source": [
    "# Here we compute the perplexity on our training corpus. \n",
    "# But for comparing the quality of different language models\n",
    "# a separate test corpus would be necessary.\n",
    "\n",
    "perplexity(allowed(normalize(sequences)))"
   ]
  },
  {
   "cell_type": "markdown",
   "metadata": {},
   "source": [
    "## Summary and Outlook\n",
    "\n",
    "You have learned about Markov Models and how to implement a language model. With your acquired knowledge you can move on to Hidden Markov Models and apply them to tagging problems like [Named Entity Recognition](../../../text-information-extraction.md)."
   ]
  },
  {
   "cell_type": "markdown",
   "metadata": {},
   "source": [
    "## Literature\n",
    "\n",
    "<table>\n",
    "    <tr>\n",
    "        <td>\n",
    "            <a name=\"SCH08\"></a>[SCH08]\n",
    "        </td>\n",
    "        <td>\n",
    "            Schütze, Hinrich, Christopher D. Manning, and Prabhakar Raghavan. \"Introduction to information retrieval\". Vol. 39. Cambridge University Press, 2008\n",
    "        </td>\n",
    "    </tr>\n",
    "    <tr>\n",
    "        <td>\n",
    "            <a name=\"JUR18\"></a>[JUR18]\n",
    "        </td>\n",
    "        <td>\n",
    "            Daniel Jurafsky, James H. Martin. \"Speech and Language Processing\", Chapter 3: Language Modeling with N-Grams. 3rd ed. draft n.p. Draft of Sep 23, 2018 published at <a href='https://web.stanford.edu/~jurafsky/slp3/'>https://web.stanford.edu/~jurafsky/slp3/</a> [accessed Dec 16 2018]\n",
    "        </td>\n",
    "    </tr>\n",
    "    <tr>\n",
    "        <td>\n",
    "            <a name=\"COL13\"></a>[COL13]\n",
    "        </td>\n",
    "        <td>\n",
    "            Michael Collins. \"Course notes for NLP\", Columbia University, 2013\n",
    "        </td>\n",
    "    </tr>\n",
    "</table>"
   ]
  },
  {
   "cell_type": "markdown",
   "metadata": {},
   "source": [
    "## Licenses\n",
    "\n",
    "### Notebook License (CC-BY-SA 4.0)\n",
    "\n",
    "*The following license applies to the complete notebook, including code cells. It does however not apply to any referenced external media (e.g. images).*\n",
    "\n",
    "Text Information Extraction - Sequences - Exercise: Bi-Gram Language Model<br/>\n",
    "by [Christoph Jansen](https://www.htw-berlin.de/hochschule/personen/person/?eid=9225) and [Christian Herta](https://www.htw-berlin.de/hochschule/personen/person/?eid=2605) (deep.TEACHING - HTW Berlin)<br/>\n",
    "is licensed under a [Creative Commons Attribution-ShareAlike 4.0 International License](http://creativecommons.org/licenses/by-sa/4.0/).<br/>\n",
    "Based on a work at https://gitlab.com/deep.TEACHING.\n",
    "\n",
    "\n",
    "### Code License (MIT)\n",
    "\n",
    "*The following license only applies to code cells of the notebook.*\n",
    "\n",
    "Copyright 2018 Christoph Jansen, Christian Herta\n",
    "\n",
    "Permission is hereby granted, free of charge, to any person obtaining a copy of this software and associated documentation files (the \"Software\"), to deal in the Software without restriction, including without limitation the rights to use, copy, modify, merge, publish, distribute, sublicense, and/or sell copies of the Software, and to permit persons to whom the Software is furnished to do so, subject to the following conditions:\n",
    "\n",
    "The above copyright notice and this permission notice shall be included in all copies or substantial portions of the Software.\n",
    "\n",
    "THE SOFTWARE IS PROVIDED \"AS IS\", WITHOUT WARRANTY OF ANY KIND, EXPRESS OR IMPLIED, INCLUDING BUT NOT LIMITED TO THE WARRANTIES OF MERCHANTABILITY, FITNESS FOR A PARTICULAR PURPOSE AND NONINFRINGEMENT. IN NO EVENT SHALL THE AUTHORS OR COPYRIGHT HOLDERS BE LIABLE FOR ANY CLAIM, DAMAGES OR OTHER LIABILITY, WHETHER IN AN ACTION OF CONTRACT, TORT OR OTHERWISE, ARISING FROM, OUT OF OR IN CONNECTION WITH THE SOFTWARE OR THE USE OR OTHER DEALINGS IN THE SOFTWARE."
   ]
  },
  {
   "cell_type": "code",
   "execution_count": null,
   "metadata": {},
   "outputs": [],
   "source": []
  }
 ],
 "metadata": {
  "celltoolbar": "Slideshow",
  "kernelspec": {
   "display_name": "Python 3",
   "language": "python",
   "name": "python3"
  },
  "language_info": {
   "codemirror_mode": {
    "name": "ipython",
    "version": 3
   },
   "file_extension": ".py",
   "mimetype": "text/x-python",
   "name": "python",
   "nbconvert_exporter": "python",
   "pygments_lexer": "ipython3",
   "version": "3.7.5"
  }
 },
 "nbformat": 4,
 "nbformat_minor": 4
}
