{
 "cells": [
  {
   "cell_type": "markdown",
   "metadata": {},
   "source": [
    "# Text Information Extraction - Exercise - Linear Chain Conditional Random Fields"
   ]
  },
  {
   "cell_type": "markdown",
   "metadata": {},
   "source": [
    "## Table of Contents\n",
    "* [Introduction](#Introduction)\n",
    "* [Requirements](#Requirements) \n",
    "  * [Knowledge](#Knowledge)\n",
    "  * [Modules](#Python-Modules)\n",
    "* [Linear Chain CRFs](#Linear-Chain-CRFs)\n",
    "  * [Model of the conditional probability](#Model-of-the-conditional-probability)\n",
    "  * [Feature Functions](#Feature-Functions)\n",
    "  * [Simple Example](#Simple-Example)\n",
    "  * [Negative energy of the system](#Negative-energy-of-the-system)\n",
    "* [Exercises](#Exercises)\n",
    "  * [Weight Vector $\\vec{\\theta}$](#ex-weight-vector-theta)\n",
    "  * [Setup for programming exercises](#Setup-for-programming-exercises) (not a task)\n",
    "  * [Total negative energy](#Exercise%3A-Total-negative-energy)\n",
    "  * [Probabilities for the Spin System](#Exercise%3A-Probabilities-for-the-Spin-System)\n",
    "  * [Conditional Probability](#Exercise%3A-Conditional-Probability) \n",
    "  * [Data](#Exercise%3A-Data)\n",
    "  * [Dynamic Programming for the Partition Function](#Exercise%3A-Dynamic-Programming-for-the-partition-function)\n",
    "  * [Brute Force Comparison](#Exercise%3A-Brute-force-comparison)\n",
    "  * [Alpha values](#Exercise%3A-Alpha-values)\n",
    "  * [Beta values](#Exercise%3A-Beta-values)\n",
    "* [Summary and Outlook](#Summary-and-outlook)\n",
    "* [Literature](#Literature)\n",
    "* [Licenses](#Licenses)"
   ]
  },
  {
   "cell_type": "markdown",
   "metadata": {},
   "source": [
    "## Introduction\n",
    "\n",
    "This notebook aims to provide a gentle introduction to Linear Chain Conditional Random Fields.\n",
    "\n",
    "First, we'll introduce an example that uses two hidden states and short sequences of length 3. This allows us to\n",
    "* model a CRF with a managable size\n",
    "* find features and assign weights by hand\n",
    "* calculate probabilities through brute force\n",
    "\n",
    "Then, you'll implement more efficient algorithms that can handle longer sequences. Your findings from the initial approach can help you debug those algorithms.\n",
    "\n",
    "At the end of the notebook you'll have a good grasp of the CRF model. We won't be dealing with training/classifiying CRFs but you'll have implemented a collection of algorithms to prepare you for the task."
   ]
  },
  {
   "cell_type": "markdown",
   "metadata": {},
   "source": [
    "## Requirements\n",
    "\n",
    "### Knowledge\n",
    "Linear Chain CRFs are an advanced method of sequence classification. If you're new to the topic, starting with the more common approaches of Hidden Markov Models (HMM / MEMM) is recommended.\n",
    "\n",
    "CRF:\n",
    "* The original paper \\[[LAF01](#LAF01)\\]\n",
    "* Videos and slies from \\[[LAR13](#LAR13)\\]"
   ]
  },
  {
   "cell_type": "markdown",
   "metadata": {},
   "source": [
    "### Python Modules"
   ]
  },
  {
   "cell_type": "code",
   "execution_count": null,
   "metadata": {},
   "outputs": [],
   "source": [
    "import numpy as np\n",
    "import pandas as pd\n",
    "import scipy.misc\n",
    "from IPython.display import display\n",
    "\n",
    "def print_weights(w):\n",
    "    for i,prev_state in enumerate(crf_data.states):\n",
    "        weights = pd.DataFrame(\n",
    "            index=crf_data.states,\n",
    "            columns=crf_data.features,\n",
    "            data=w[i,:,:]\n",
    "        )\n",
    "        weights.name = 'previous state: {}'.format(prev_state)\n",
    "        display(weights)\n",
    "\n",
    "np.random.seed(seed=99)"
   ]
  },
  {
   "cell_type": "markdown",
   "metadata": {},
   "source": [
    "## Linear Chain CRFs"
   ]
  },
  {
   "attachments": {
    "crf.png": {
     "image/png": "[encoded data removed]"
    }
   },
   "cell_type": "markdown",
   "metadata": {},
   "source": [
    "![crf.png](attachment:crf.png)"
   ]
  },
  {
   "cell_type": "markdown",
   "metadata": {},
   "source": [
    "### Model of the conditional probability\n",
    "We're interested in the conditional probability of the entire sequence of labels $z$ given the input sequence $x$. In this notation there are $T$ positions (or time points) in the sequence.\n",
    "\n",
    "$$\n",
    "p(z_{1:T} \\mid x_{1:T}, \\vec \\theta) = \\frac{1}{Z}\\prod_{t=1}^T F(z_{t-1}, z_t, x_{1:T}, t)\n",
    "$$\n",
    "\n",
    "$F(z_{t-1}, z_t, x_{1:T}, t)$ are the (unnormed) Factors with\n",
    "* weight vector $\\vec{\\theta}$\n",
    "* feature vector $\\vec{f}$, which we get by applying a feature function to the input.\n",
    "$$\n",
    "= \\frac{1}{Z}\\prod_{t=1}^T \\exp\\left (\\vec \\theta \\cdot \\vec f(z_{t-1}, z_t, x_{1:T}, t)\\right)\n",
    "$$\n",
    "\n",
    "For normalisation we divide by the partition function $Z$ (Zustandssumme), which is the sum of unnormed factors over all possible sequences $\\vec z'$\n",
    "$$\n",
    "Z = \\sum_{\\vec z'}\\prod_{t=1}^T  \\exp\\left (\\vec \\theta \\cdot \\vec f(z'_{t-1}, z'_t, x_{1:T}, t)\\right)\n",
    "$$"
   ]
  },
  {
   "cell_type": "markdown",
   "metadata": {},
   "source": [
    "### Feature Functions"
   ]
  },
  {
   "cell_type": "markdown",
   "metadata": {},
   "source": [
    "$$\n",
    "f_j(z_{t-1}, z_t, x_{1:T}, t)\n",
    "$$\n",
    "\n",
    "The (indicator) features can depend on the previous hidden state, the current hidden state, all the observations and the time index. "
   ]
  },
  {
   "cell_type": "markdown",
   "metadata": {},
   "source": [
    "We introduce a simple example for two purposes:\n",
    "- for didactic reasons\n",
    "- to have a simple example we can solve by enumeration. So we can test and debug our algorithms much better."
   ]
  },
  {
   "cell_type": "markdown",
   "metadata": {},
   "source": [
    "### Simple Example\n",
    "\n",
    "Let's assume we have a small spin system of 6 spins:\n",
    "\n",
    "- Three hidden spins $s_t$ and three observed spins $x_t$ with $t \\in\\{1,2,3\\}$).  \n",
    "\n",
    "- The possible spin states are: $val(s_t)$ = $val(x_t)$ = {UP, DOWN}.\n",
    "- The first (hidden) spin $s_1$ sees a small magnetic field, so the energy between UP and DOWN is slightly different:\n",
    "$E(s_1=\\text{UP})<E(s_1=\\text{DOWN})$.\n",
    "- The hidden spins $s_1, s_2, s_3$ are coupled such that adjacent spins with equal state values have lower contibution to the energy, e.g. $E(s_1=\\text{UP}, s_2=\\text{UP})<E(s_1=\\text{UP}, s_2=\\text{DOWN})$.\n",
    "- We observe 3 spins ${x_1, x_2, x_3}$. Each observed spin is coupled with exactly one hidden spin. \n",
    "e.g. $E(s_t=\\text{UP}, x_t=\\text{UP})<E(s_t=\\text{UP}, x_t=\\text{DOWN})$.\n",
    "\n",
    "i.e. the coupling coeffients (see below) $c_1, c_{sx}, c_{ss}$ are all positive."
   ]
  },
  {
   "cell_type": "markdown",
   "metadata": {},
   "source": [
    "### CRF\n",
    "\n",
    "Graphical representation of a linear chain CRF with two possible types of factors $F(z_{t-1}, z_t, t)$ and $F(z_t, x_t)$ and $t \\in {1,2,3}$."
   ]
  },
  {
   "attachments": {
    "crf.png": {
     "image/png": "[encoded data removed]"
    }
   },
   "cell_type": "markdown",
   "metadata": {},
   "source": [
    "![crf.png](attachment:crf.png)"
   ]
  },
  {
   "cell_type": "markdown",
   "metadata": {},
   "source": [
    "The probability of the state of the system depends on its total energy $E$ and is given by the Boltzman Factor:\n",
    "$$\n",
    "P(E) = \\exp \\left( - \\frac{E}{kT}\\right)\n",
    "$$\n",
    "\n",
    "We set $kT$ equals 1 for simplicity:\n",
    "\n",
    "$$\n",
    "P(E) =  \\exp \\left( - E \\right)\n",
    "$$\n",
    "\n",
    "The higher the energy, the (exponentially) lower is the probability of a state. "
   ]
  },
  {
   "cell_type": "markdown",
   "metadata": {},
   "source": [
    "### Negative energy of the system\n",
    "\n",
    "with \n",
    "- DOWN $s_i=-1$ and \n",
    "- UP $s_i= +1$ \n",
    "\n",
    "\n",
    "$$\n",
    "- E(s_{1:T}, x_{1:T}) = c_1  s_1+ c_{sx} \\sum_{t=1}^3 s_t x_t  + c_{ss} \\sum_{t=2}^3 s_{t-1} s_t\n",
    "$$\n",
    "\n",
    "with\n",
    "- $s_{1:T} = (s_1, s_2, s_3)$ (hidden spins)\n",
    "- $x_{1:T} = (x_1, x_2, x_3)$ (observed spins)\n",
    "\n",
    "here $T=3$.\n",
    "\n",
    "The total energy of the system is a sum of local contributions."
   ]
  },
  {
   "cell_type": "markdown",
   "metadata": {},
   "source": [
    "$$\n",
    "\\begin{align}\n",
    "p(s_{1:T}, x_{1:T})\n",
    "& = \\frac{1}{Z} \\exp\\left(-E(s_{1:T}, x_{1:T})\\right) \\\\\n",
    "& = \\frac{1}{Z} \\exp\\left( c_1  s_1+ c_{sx} \\sum_{t=1}^3 s_t x_t  + c_{ss} \\sum_{t=2}^3 s_{t-1} s_t\\right)\n",
    "\\end{align}\n",
    "$$\n",
    "\n",
    "with the partition function $Z$ (Zustandsumme) for the normalization:\n",
    "$$\n",
    "Z = \\sum_{s'_{1:T}, x'_{1:T}}  \\exp \\left(-E(s'_{1:T}, x'_{1:T}) \\right)\n",
    "$$"
   ]
  },
  {
   "cell_type": "markdown",
   "metadata": {},
   "source": [
    "We get the conditional probability just by using another $Z$:\n",
    "$$\n",
    "\\begin{align}\n",
    "p(s_{1:T} \\mid  x_{1:T})\n",
    "& = \\frac{1}{Z(x_{1:T})} \\exp\\left(-E(s_{1:T}, x_{1:T})\\right) \\\\\n",
    "& = \\frac{1}{Z(x_{1:T})} \\exp\\left(  c_1  s_1+ c_{sx}\\sum_{t=1}^3 s_t x_t  + c_{ss} \\sum_{t=2}^3 s_{t-1} s_t\\right)\n",
    "\\end{align}\n",
    "$$\n",
    "\n",
    "Here the partition function $Z$ is given by the sum over all possible hidden states $s'_{1:T}$:\n",
    "\n",
    "$$\n",
    "Z(x_{1:T})= \\sum_{s'_{1:T}}  \\exp \\left(-E(s'_{1:T}, x_{1:T}) \\right)\n",
    "$$"
   ]
  },
  {
   "cell_type": "markdown",
   "metadata": {},
   "source": [
    "## Exercises"
   ]
  },
  {
   "cell_type": "markdown",
   "metadata": {},
   "source": [
    "## Feature function templates\n",
    "\n",
    "As for HMMs we introduce a special start state $\\text{BOS}$ (begin of sequence) \n",
    "for a probability factor which depends only on the first state ($t=1$).\n",
    "\n",
    "We write $z_t$ for the random variable of the hidden states with $z_t \\in \\{\\text{BOS, DOWN, UP}\\}$ \n",
    "\n",
    "So: $z_0 = \\text{BOS}$\n",
    "\n",
    "We introduce general feature function templates of the following form $f_k(z_{t-1}, z_t, \\vec x, t)$.\n",
    "Here we use only indicator functions ($\\mathbb 1$) as features (as for MEMMs). There are three different templates of features :\n",
    "- Bias-Feature Template:   \n",
    "$f_j(z_{t-1}, z_t, \\vec x, t) = \\mathbb 1(z_{t-1} = v_n \\land z_t=v_m$)\n",
    "- Observation=DOWN Template:   \n",
    "  $f_k(z_{t-1}, z_t, \\vec x, t) = \\mathbb 1(x_t=\\text{DOWN} \\land z_{t-1} = v_n\\land z_t=v_m)$\n",
    "- Observation=UP Template:     \n",
    "$f_l(z_{t-1}, z_t, \\vec x, t) = \\mathbb 1(x_t=\\text{UP} \\land z_{t-1} = v_n\\land z_t=v_m)$\n",
    "\n",
    "\n",
    "Here each feature template has $3 \\cdot 3 \\cdot 3$  different features (3 possible hidden states). In total we have $3\\cdot3\\cdot3$ features.\n",
    "\n",
    "Note: The hidden states $z_{t-1}$ and $z_t$ are arguments of the feature functions.\n",
    "With the possible values for the hidden states: $v_n\\in \\{ \\text{BOS, DOWN, UP}\\}$\n",
    "\n",
    "Note that some of the features are never used. But to keep the notation clear and to generate the features (from the \n",
    "feature templates) automatically we use this structure.\n",
    "In a more efficient implementation we would eliminate never used features."
   ]
  },
  {
   "cell_type": "markdown",
   "metadata": {},
   "source": [
    "## Exercises"
   ]
  },
  {
   "cell_type": "markdown",
   "metadata": {},
   "source": [
    "<a name='ex-weight-vector-theta'></a>\n",
    "### Exercise: Weight vector $\\vec \\theta$\n",
    "\n",
    "\n",
    "\n",
    "---\n",
    "\n",
    "We can express each local feature using our feature function templates. Assume a sequence starts with the DOWN state. This sequence exhibits a bias-feature from START to DOWN, expressed by the feature function\n",
    "\n",
    "- $f_0(z_{t-1}, z_t, \\vec x, t) = \\mathbb 1(z_{t-1} = START\\land z_t=DOWN)$\n",
    "\n",
    "The weight we assign to this feature is $c_1 * s_i=DOWN$ with the coupling  coefficient $c_1$ and the energy contribution from the down state $-1$.\n",
    "\n",
    "- $\\theta_0$ = -$c_1$\n",
    "\n",
    "--- \n",
    "\n",
    "Another example: A transition from $z_{t-1} = DOWN$ to $z_t = UP$ can be expressed with the bias-feature\n",
    "- $f_{7}(z_{t-1}, z_t, \\vec x, t) = \\mathbb 1(z_{t-1} = DOWN\\land z_t=UP)$\n",
    "\n",
    "The weight we assign to this feature is\n",
    "$$\n",
    "\\begin{align}\n",
    "    c_{ss} &* s_i = DOWN * s_i = UP \\\\\n",
    "  = c_{ss}   & * -1 * 1\n",
    "\\end{align}\n",
    "$$\n",
    "i.e. the coupling coefficient $c_{ss}$, multiplied by the energy contribution from the DOWN state and the energy contribution from the UP state. So\n",
    "\n",
    "- $\\theta_1$ = -$c_{ss}$\n",
    "\n",
    "---\n",
    "\n",
    "With the general template feature function $f_k(z_{t-1}, z_t, \\vec x, t)$, we could construct $3 \\cdot 3 \\cdot 3 = 27$ feature functions in total. (Three possible states for each of the previous state, current state and current observation).\n",
    "\n",
    "---\n",
    "\n",
    "\n",
    "What is the purpose of this notation? In the previous exercise we mentioned the total negative energy is a sum of its local contributions, using the formula\n",
    "$$\n",
    "\\begin{align}\n",
    "p(s_{1:T} \\mid x_{1:T}) & = \n",
    "  \\frac{1}{Z(x_{1:T})} \\exp\\left(-E(s_{1:T} , x_{1:T})\\right) \\\\\n",
    "  & =\n",
    "   \\frac{1}{Z(x_{1:T})} \\exp\\left(  c_1  s_1 + c_{sx} \\sum_{t=1}^3 s_t x_t  + c_{ss}  \\sum_{t=2}^3 s_{t-1} s_t\\right)\n",
    "\\end{align}\n",
    "$$\n",
    "\n",
    "\n",
    "We now generalize this calculation for a CRF model, where we extract each feature present in the sequence. We can then calculate the negative energy as the sum of all weighted features exhibited by the sequence.\n",
    "\n",
    "$$\n",
    "\\begin{align}\n",
    "p(z_{1:T} \\mid x_{1:T}, \\vec \\theta) & = \n",
    "  \\frac{1}{Z(x_{1:T})}\\prod_{t=1}^T \\exp\\left (\\vec \\theta \\cdot \\vec f(z_{t-1}, z_t, x_{1:T}, t)\\right)\\\\\n",
    "  & = \\frac{1}{Z(x_{1:T})} \\exp\\left( \\sum_{t=1}^T (\\vec \\theta \\cdot \\vec f(z_{t-1}, z_t, x_{1:T}, t))\\right)\n",
    "\\end{align}\n",
    "$$\n",
    "\n",
    "\n",
    "\n",
    "---\n",
    "\n",
    "**Task**: Assign appropriate weights to the feature functions listed below. We mentioned there are 27 possible feature functions, but some features are never used. For example, a transition from START to START cannot occur. These impossible features should be assigned a weight of 0, but here we omitted them altogether.\n",
    "\n",
    "Bias-Features:\n",
    "- $f_0(z_{t-1}, z_t, \\vec x, t) = \\mathbb 1(z_{t-1} = START \\land z_t= DOWN)$\n",
    "- $f_1(z_{t-1}, z_t, \\vec x, t) = \\mathbb 1(z_{t-1} = START \\land z_t= UP)$\n",
    "- $f_2(z_{t-1}, z_t, \\vec x, t) = \\mathbb 1(z_{t-1} = DOWN \\land z_t= DOWN)$\n",
    "- $f_3(z_{t-1}, z_t, \\vec x, t) = \\mathbb 1(z_{t-1} = DOWN \\land z_t= UP)$\n",
    "- $f_4(z_{t-1}, z_t, \\vec x, t) = \\mathbb 1(z_{t-1} = UP \\land z_t= DOWN)$\n",
    "- $f_5(z_{t-1}, z_t, \\vec x, t) = \\mathbb 1(z_{t-1} = UP \\land z_t= UP)$\n",
    "\n",
    "Observation-Features:\n",
    "- $f_6(z_{t-1}, z_t, \\vec x, t) = \\mathbb 1(z_{t} = DOWN \\land x_t= DOWN)$\n",
    "- $f_7(z_{t-1}, z_t, \\vec x, t) = \\mathbb 1(z_{t} = DOWN \\land x_t= UP)$\n",
    "- $f_8(z_{t-1}, z_t, \\vec x, t) = \\mathbb 1(z_{t} = UP \\land x_t= DOWN)$\n",
    "- $f_9(z_{t-1}, z_t, \\vec x, t) = \\mathbb 1(z_{t} = UP \\land x_t= UP)$\n",
    "\n",
    "Corresponding weights:\n",
    " - $\\theta_0 = $\n",
    " - $\\theta_1 = $\n",
    " - $\\theta_2 = $\n",
    " - $\\theta_3 = $\n",
    " - $\\theta_4 = $\n",
    " - $\\theta_5 = $\n",
    " - $\\theta_6 = $\n",
    " - $\\theta_7 = $\n",
    " - $\\theta_8 = $\n",
    " - $\\theta_9 = $"
   ]
  },
  {
   "cell_type": "markdown",
   "metadata": {},
   "source": [
    "_Start-Features_:    \n",
    " - $f_0(z_{t-1}, z_t, \\vec x, t) = \\mathbb 1(t=1 \\land z_{t-1} = START \\land z_t= START)$\n",
    " - $f_1(z_{t-1}, z_t, \\vec x, t) = \\mathbb 1(t=1 \\land z_{t-1} = START\\land z_t=DOWN)$\n",
    " - $f_2(z_{t-1}, z_t, \\vec x, t) = \\mathbb 1(t=1 \\land z_{t-1} = START \\land z_t=UP)$\n",
    " - $f_3(z_{t-1}, z_t, \\vec x, t) = \\mathbb 1(t=1 \\land z_{t-1} = DOWN \\land z_t= START)$\n",
    " - $f_4(z_{t-1}, z_t, \\vec x, t) = \\mathbb 1(t=1 \\land z_{t-1} = DOWN\\land z_t=DOWN)$\n",
    " - $f_5(z_{t-1}, z_t, \\vec x, t) = \\mathbb 1(t=1 \\land z_{t-1} = DOWN \\land z_t=UP)$\n",
    " - $f_6(z_{t-1}, z_t, \\vec x, t) = \\mathbb 1(t=1 \\land z_{t-1} = UP \\land z_t= START)$\n",
    " - $f_7(z_{t-1}, z_t, \\vec x, t) = \\mathbb 1(t=1 \\land z_{t-1} = UP\\land z_t=DOWN)$\n",
    " - $f_8(z_{t-1}, z_t, \\vec x, t) = \\mathbb 1(t=1 \\land z_{t-1} = UP \\land z_t=UP)$"
   ]
  },
  {
   "cell_type": "markdown",
   "metadata": {},
   "source": [
    "Corresponding weights:\n",
    " - $\\theta_0 = $\n",
    " - $\\theta_1 = $\n",
    " - $\\theta_2 = $\n",
    " - $\\theta_3 = $\n",
    " - $\\theta_4 = $\n",
    " - $\\theta_5 = $\n",
    " - $\\theta_6 = $\n",
    " - $\\theta_7 = $\n",
    " - $\\theta_8 = $"
   ]
  },
  {
   "cell_type": "markdown",
   "metadata": {},
   "source": [
    "_Bias-Features_:   \n",
    " - $f_9(z_{t-1}, z_t, \\vec x, t) = \\mathbb 1(z_{t-1} = START \\land z_t=START)$\n",
    " - $f_{10}(z_{t-1}, z_t, \\vec x, t) = \\mathbb 1(z_{t-1} = START \\land z_t=DOWN)$\n",
    " - $f_{11}(z_{t-1}, z_t, \\vec x, t) = \\mathbb 1(z_{t-1} = START \\land z_t=UP)$\n",
    " - $f_{12}(z_{t-1}, z_t, \\vec x, t) = \\mathbb 1(z_{t-1} = DOWN \\land z_t=START)$\n",
    " - $f_{13}(z_{t-1}, z_t, \\vec x, t) = \\mathbb 1(z_{t-1} = DOWN \\land z_t=DOWN)$\n",
    " - $f_{14}(z_{t-1}, z_t, \\vec x, t) = \\mathbb 1(z_{t-1} = DOWN \\land z_t=UP)$\n",
    " - $f_{15}(z_{t-1}, z_t, \\vec x, t) = \\mathbb 1(z_{t-1} = UP \\land z_t=START)$\n",
    " - $f_{16}(z_{t-1}, z_t, \\vec x, t) = \\mathbb 1(z_{t-1} = UP \\land z_t=DOWN)$\n",
    " - $f_{17}(z_{t-1}, z_t, \\vec x, t) = \\mathbb 1(z_{t-1} = UP \\land z_t=UP)$"
   ]
  },
  {
   "cell_type": "markdown",
   "metadata": {},
   "source": [
    "Corresponding weights:\n",
    " - $\\theta_9 = $\n",
    " - $\\theta_{10} = $\n",
    " - $\\theta_{11} = $\n",
    " - $\\theta_{12} = $\n",
    " - $\\theta_{13} = $\n",
    " - $\\theta_{14} = $\n",
    " - $\\theta_{15} = $\n",
    " - $\\theta_{16} = $\n",
    " - $\\theta_{17} = $"
   ]
  },
  {
   "cell_type": "markdown",
   "metadata": {},
   "source": [
    "_Observation=DOWN Features_:   \n",
    " - $f_{18}(z_{t-1}, z_t, \\vec x, t) = \\mathbb 1(x_t=\\text{DOWN} \\land z_{t-1} = START\\land z_t=START)$\n",
    " - $f_{19}(z_{t-1}, z_t, \\vec x, t) = \\mathbb 1(x_t=\\text{DOWN} \\land z_{t-1} = START\\land z_t=DOWN)$\n",
    " - $f_{20}(z_{t-1}, z_t, \\vec x, t) = \\mathbb 1(x_t=\\text{DOWN} \\land z_{t-1} = START\\land z_t=UP)$\n",
    " - $f_{21}(z_{t-1}, z_t, \\vec x, t) = \\mathbb 1(x_t=\\text{DOWN} \\land z_{t-1} = DOWN\\land z_t=START)$\n",
    " - $f_{22}(z_{t-1}, z_t, \\vec x, t) = \\mathbb 1(x_t=\\text{DOWN} \\land z_{t-1} = DOWN\\land z_t=DOWN)$\n",
    " - $f_{23}(z_{t-1}, z_t, \\vec x, t) = \\mathbb 1(x_t=\\text{DOWN} \\land z_{t-1} = DOWN\\land z_t=UP)$\n",
    " - $f_{24}(z_{t-1}, z_t, \\vec x, t) = \\mathbb 1(x_t=\\text{DOWN} \\land z_{t-1} = UP\\land z_t=START)$\n",
    " - $f_{25}(z_{t-1}, z_t, \\vec x, t) = \\mathbb 1(x_t=\\text{DOWN} \\land z_{t-1} = UP\\land z_t=DOWN)$\n",
    " - $f_{26}(z_{t-1}, z_t, \\vec x, t) = \\mathbb 1(x_t=\\text{DOWN} \\land z_{t-1} = UP\\land z_t=UP)$"
   ]
  },
  {
   "cell_type": "markdown",
   "metadata": {},
   "source": [
    "Corresponding weights:\n",
    " - $\\theta_{18} =$\n",
    " - $\\theta_{19} =$\n",
    " - $\\theta_{20} =$\n",
    " - $\\theta_{21} =$\n",
    " - $\\theta_{22} =$\n",
    " - $\\theta_{23} =$\n",
    " - $\\theta_{24} =$\n",
    " - $\\theta_{25} =$\n",
    " - $\\theta_{26} =$"
   ]
  },
  {
   "cell_type": "markdown",
   "metadata": {},
   "source": [
    "_Observation=UP Features_:   \n",
    " - $f_{27}(z_{t-1}, z_t, \\vec x, t) = \\mathbb 1(x_t=\\text{UP} \\land z_{t-1} = START\\land z_t=START)$\n",
    " - $f_{28}(z_{t-1}, z_t, \\vec x, t) = \\mathbb 1(x_t=\\text{UP} \\land z_{t-1} = START\\land z_t=DOWN)$\n",
    " - $f_{29}(z_{t-1}, z_t, \\vec x, t) = \\mathbb 1(x_t=\\text{UP} \\land z_{t-1} = START\\land z_t=UP)$\n",
    " - $f_{30}(z_{t-1}, z_t, \\vec x, t) = \\mathbb 1(x_t=\\text{UP} \\land z_{t-1} = DOWN\\land z_t=START)$\n",
    " - $f_{31}(z_{t-1}, z_t, \\vec x, t) = \\mathbb 1(x_t=\\text{UP} \\land z_{t-1} = DOWN\\land z_t=DOWN)$\n",
    " - $f_{32}(z_{t-1}, z_t, \\vec x, t) = \\mathbb 1(x_t=\\text{UP} \\land z_{t-1} = DOWN\\land z_t=UP)$\n",
    " - $f_{33}(z_{t-1}, z_t, \\vec x, t) = \\mathbb 1(x_t=\\text{UP} \\land z_{t-1} = UP\\land z_t=START)$\n",
    " - $f_{34}(z_{t-1}, z_t, \\vec x, t) = \\mathbb 1(x_t=\\text{UP} \\land z_{t-1} = UP\\land z_t=DOWN)$\n",
    " - $f_{35}(z_{t-1}, z_t, \\vec x, t) = \\mathbb 1(x_t=\\text{UP} \\land z_{t-1} = UP\\land z_t=UP)$"
   ]
  },
  {
   "cell_type": "markdown",
   "metadata": {},
   "source": [
    "Corresponding weights:\n",
    " - $\\theta_{28} =$\n",
    " - $\\theta_{28} =$\n",
    " - $\\theta_{29} =$\n",
    " - $\\theta_{30} =$\n",
    " - $\\theta_{31} =$\n",
    " - $\\theta_{32} =$\n",
    " - $\\theta_{33} =$\n",
    " - $\\theta_{34} =$\n",
    " - $\\theta_{35} =$"
   ]
  },
  {
   "cell_type": "markdown",
   "metadata": {},
   "source": [
    "### Setup for programming exercises"
   ]
  },
  {
   "cell_type": "markdown",
   "metadata": {},
   "source": [
    "This snippet defines a few useful constants regarding each state and their respective energy contributions."
   ]
  },
  {
   "cell_type": "code",
   "execution_count": null,
   "metadata": {},
   "outputs": [],
   "source": [
    "# Names for each state\n",
    "UP = \"UP\"\n",
    "DOWN = \"DOWN\"\n",
    "START = \"<BOS>\"\n",
    "\n",
    "# Energy contribution from the state\n",
    "E_UP = 1.\n",
    "E_DOWN = -1.\n",
    "E_START = 1.5\n",
    "\n",
    "# Map name of the state to its energy contribution\n",
    "STATE_DICT = {\n",
    "    START: E_START,\n",
    "    DOWN: E_DOWN,\n",
    "    UP: E_UP\n",
    "}\n",
    "\n",
    "# States without START\n",
    "INNER_STATES = [UP, DOWN]\n",
    "\n",
    "# Length of the example sequence\n",
    "LENGTH = 3\n",
    "\n",
    "# Values of the coupling constants\n",
    "smn = 5 # influence of the first spin energy due to outer magnetic field \n",
    "c_1 = 1/smn\n",
    "\n",
    "c_ss = .5\n",
    "c_sx = .75"
   ]
  },
  {
   "cell_type": "markdown",
   "metadata": {},
   "source": [
    "### Exercise: Total negative energy"
   ]
  },
  {
   "cell_type": "markdown",
   "metadata": {},
   "source": [
    "Implement a python function to calculate the total negative energy for a spin system. In [Negative energy of the system](#Negative-energy-of-the-system) we defined this value as the sum of its local contributions\n",
    "$$\n",
    "- E(s_{1:T}, x_{1:T}) = c_1  s_1+ c_{sx} \\sum_{t=1}^3 s_t x_t  + c_{ss} \\sum_{t=2}^3 s_{t-1} s_t\n",
    "$$"
   ]
  },
  {
   "cell_type": "code",
   "execution_count": null,
   "metadata": {},
   "outputs": [],
   "source": [
    "def negative_sequence_energy(s,x):\n",
    "    # s : hidden spins\n",
    "    # x : observed spins\n",
    "    # returns : the total negative energy of the sequence -E(s,x)\n",
    "    raise NotImplementedError()"
   ]
  },
  {
   "cell_type": "markdown",
   "metadata": {},
   "source": [
    "Verify your result:"
   ]
  },
  {
   "cell_type": "code",
   "execution_count": null,
   "metadata": {},
   "outputs": [],
   "source": [
    "s = [UP,UP,UP]\n",
    "x = [UP,UP,UP]\n",
    "np.testing.assert_almost_equal(negative_sequence_energy(s,x), 3.45)"
   ]
  },
  {
   "cell_type": "code",
   "execution_count": null,
   "metadata": {},
   "outputs": [],
   "source": [
    "s = [DOWN,DOWN,UP]\n",
    "x = [UP,UP,DOWN]\n",
    "np.testing.assert_almost_equal(negative_sequence_energy(s,x), -2.45)"
   ]
  },
  {
   "cell_type": "markdown",
   "metadata": {},
   "source": [
    "### Exercise: Probabilities for the Spin System\n",
    "\n",
    "Implement a python function to compute the probability by (brute force) enumeration of the Spin-System for $p(s_{1:T}, x_{1:T})$.\n",
    "\n",
    "**Hint:**\n",
    "\n",
    "\n",
    "That means, calculate \n",
    "$$\n",
    "p(s_{1:T} , x_{1:T}) = \\frac{1}{Z(x_{1:T})} \\exp\\left(-E(s_{1:T}, x_{1:T})\\right)\n",
    "$$\n",
    "\n",
    "by calculating $Z$ for every possible combination of $s'_{1:T}$ and $x'_{1:T}$:\n",
    "\n",
    "$$\n",
    "Z = \\sum_{s'_{1:T}, x'_{1:T}}  \\exp \\left(-E(s'_{1:T}, x'_{1:T}) \\right)\n",
    "$$"
   ]
  },
  {
   "cell_type": "code",
   "execution_count": null,
   "metadata": {},
   "outputs": [],
   "source": [
    "def prob(s,x):\n",
    "    # Returns the probability of the hidden spins s and observed spins x.\n",
    "    # Don't confuse this with the conditional probability p(s|x)!\n",
    "    raise NotImplementedError()"
   ]
  },
  {
   "cell_type": "markdown",
   "metadata": {},
   "source": [
    "Verify your result:"
   ]
  },
  {
   "cell_type": "code",
   "execution_count": null,
   "metadata": {},
   "outputs": [],
   "source": [
    "s = [UP,UP,UP]\n",
    "x = [UP,UP,UP]\n",
    "np.testing.assert_almost_equal(prob(s, x), 0.1748584549)"
   ]
  },
  {
   "cell_type": "code",
   "execution_count": null,
   "metadata": {},
   "outputs": [],
   "source": [
    "s = [DOWN,DOWN,DOWN]\n",
    "x = [DOWN,DOWN,DOWN]\n",
    "np.testing.assert_almost_equal(prob(s, x), 0.117211127549)"
   ]
  },
  {
   "cell_type": "code",
   "execution_count": null,
   "metadata": {},
   "outputs": [],
   "source": [
    "s = [DOWN,UP,DOWN]\n",
    "x = [UP,DOWN,UP]\n",
    "np.testing.assert_almost_equal(prob(s, x), 0.0001762198)"
   ]
  },
  {
   "cell_type": "markdown",
   "metadata": {},
   "source": [
    "### Exercise: Conditional Probability"
   ]
  },
  {
   "cell_type": "markdown",
   "metadata": {},
   "source": [
    "Implement a function `cond_prob(s, x)` which computes the probability of a given hidden sequence \n",
    "conditioned on a observed sequence, i.e. $p(s_{1:T} \\mid x_{1:T})$"
   ]
  },
  {
   "cell_type": "markdown",
   "metadata": {},
   "source": [
    "How many terms must we add to compute $Z(x_{1:T})$ (for $p(s_{1:T} \\mid x_{1:T})$)?\n",
    "- For our Spin System\n",
    "- In general (with the number of possible hidden states $|\\mathcal S|$) (without the start state)"
   ]
  },
  {
   "cell_type": "code",
   "execution_count": null,
   "metadata": {},
   "outputs": [],
   "source": [
    "def cond_prob(s,x):\n",
    "    # s : sequence of hidden spins\n",
    "    # x : sequence of observed spins\n",
    "    # returns p(s|x) the conditional probability of hidden spins given observed spins\n",
    "    raise NotImplementedError()"
   ]
  },
  {
   "cell_type": "markdown",
   "metadata": {},
   "source": [
    "Verify your result:"
   ]
  },
  {
   "cell_type": "code",
   "execution_count": null,
   "metadata": {},
   "outputs": [],
   "source": [
    "s = [UP,UP,DOWN]\n",
    "x = [UP,UP,DOWN]\n",
    "np.testing.assert_approx_equal(cond_prob(s, x), 0.49151220231149634)"
   ]
  },
  {
   "cell_type": "code",
   "execution_count": null,
   "metadata": {},
   "outputs": [],
   "source": [
    "s = [UP,UP,UP]\n",
    "x = [UP,UP,UP]\n",
    "cp = cond_prob(s, x)\n",
    "np.testing.assert_approx_equal(cp, 0.826540721870722)"
   ]
  },
  {
   "cell_type": "markdown",
   "metadata": {},
   "source": [
    "### Exercise: Data\n",
    "\n",
    "Note: It's not possible to sample from a CRF which models $p(z_{1:T}\\mid  x_{1:T})$. \n",
    "It's a discriminative model and not a generative model.\n",
    "\n",
    "But here we can sample because we have also model of $p(z_{1:T}, x_{1:T})$\n",
    "\n",
    "The sequences should be in the format used by CRF Suite. Have a look at [their tutorial](#https://github.com/scrapinghub/python-crfsuite/blob/master/examples/CoNLL%202002.ipynb) or the docstring in the code skeleton below.\n",
    "\n",
    "We'll be using sequences of a fixed length $T$. So far we've dealt with sequences with  $T = 3$ but feel free to choose a different value now.\n",
    "\n",
    "1. Sample data by \"naive brute force\" sampling, i.e.:\n",
    " * Enumerate all possible sequences $z_{1:T} \\in \\{UP, DOWN\\}$ and $x_{1:T} \\in \\{UP, DOWN\\}$.\n",
    " * Compute the probability of each sequence using your implementation `prob(s,x)`\n",
    " * Then you can sample by `np.random.choice(a=possible_seq,size=size,p=pp)`\n",
    "2. Explain why (brute force) enumeration doesn't work with larger sequences."
   ]
  },
  {
   "cell_type": "markdown",
   "metadata": {},
   "source": [
    "# Feature Generation\n",
    "Following the CRF suite example we now extract features from our sampled sequences"
   ]
  },
  {
   "cell_type": "code",
   "execution_count": null,
   "metadata": {},
   "outputs": [],
   "source": [
    "BIAS_F = 'bias'\n",
    "WORD_F = 'word'\n",
    "\n",
    "def word2features(sent, i):\n",
    "    # Parameters:\n",
    "    # sent: the whole input sequence s \n",
    "    # i : the i-th position\n",
    "    word = sent[i][0]\n",
    "    postag = sent[i][1]\n",
    "    \n",
    "    features = [\n",
    "        '{}={}'.format(BIAS_F, 1.0),\n",
    "        '{}={}'.format(WORD_F, word)\n",
    "    ]\n",
    "    \n",
    "    return features\n",
    "\n",
    "def sent2features(sent):\n",
    "    return [word2features(sent,i) for i in range(len(sent))]\n",
    "\n",
    "def sent2labels(sent):\n",
    "    return [label for token,label in sent]\n",
    "\n",
    "def sent2tokens(sent):\n",
    "    return [token for token,label in sent]"
   ]
  },
  {
   "cell_type": "markdown",
   "metadata": {},
   "source": [
    "### Exercise: Data Management\n",
    "\n",
    "The class `CRF_data` is meant to handle training sequences and labels. It identifies the vocabulary of states and features and transforms the input. The methods are explained below and your task will be to implement them."
   ]
  },
  {
   "cell_type": "code",
   "execution_count": null,
   "metadata": {},
   "outputs": [],
   "source": [
    "train_data = sample(500)\n",
    "test_data = sample(50)\n",
    "X_train = [sent2features(sent) for sent in train_data]\n",
    "y_train = [sent2labels(sent) for sent in train_data]\n",
    "X_test = [sent2features(sent) for sent in test_data]\n",
    "y_test = [sent2labels(sent) for sent in test_data]\n",
    "# not yet implemented:\n",
    "# crf_data = CRF_data(X_train,y_train)"
   ]
  },
  {
   "cell_type": "code",
   "execution_count": null,
   "metadata": {},
   "outputs": [],
   "source": [
    "class CRF_data():\n",
    "    def __init__(self,X,y):\n",
    "        # Training sequences and training labels\n",
    "        self.X = X\n",
    "        self.y = y\n",
    "        \n",
    "        # States and features\n",
    "        self.states = self.build_states(y)\n",
    "        self.features = self.build_features(X)\n",
    "        self.num_states = len(self.states)\n",
    "        self.num_features = len(self.features)\n",
    "        \n",
    "        # Training sequences and training labels transformed into a format\n",
    "        # suitable for linear algebra in training\n",
    "        self.F, self.feature_mask = self.build_feature_matrices()\n",
    "        self.z, self.z_trace = self.build_z(y)\n",
    "    \n",
    "    def build_states(self):\n",
    "        raise NotImplementedError()\n",
    "        return states\n",
    "    \n",
    "    def build_features(self, X):\n",
    "        raise NotImplementedError()\n",
    "        return features\n",
    "    \n",
    "    def build_z(self, y):\n",
    "        raise NotImplementedError()\n",
    "        return z, z_trace\n",
    "    \n",
    "    def build_feature_matrices(self, X):\n",
    "        raise NotImplementedError()\n",
    "        return F, feature_mask"
   ]
  },
  {
   "cell_type": "markdown",
   "metadata": {},
   "source": [
    "#### States and features\n",
    "\n",
    "We enumerate all states we find in the training sequences. Then we manually prepend the `<BOS>` (beginning of sequence) state since it doesn't occur in the sequences themselves.\n",
    "We also enumerate all features we find in the training sequences."
   ]
  },
  {
   "cell_type": "code",
   "execution_count": null,
   "metadata": {},
   "outputs": [],
   "source": [
    "crf_data = CRF_data(X_train,y_train)\n",
    "crf_data.states"
   ]
  },
  {
   "cell_type": "markdown",
   "metadata": {},
   "source": [
    "We also enumerate all features we find in the training sequences."
   ]
  },
  {
   "cell_type": "code",
   "execution_count": null,
   "metadata": {},
   "outputs": [],
   "source": [
    "crf_data.features"
   ]
  },
  {
   "cell_type": "code",
   "execution_count": null,
   "metadata": {
    "scrolled": true
   },
   "outputs": [],
   "source": [
    "crf_data.feature_mask"
   ]
  },
  {
   "cell_type": "markdown",
   "metadata": {},
   "source": [
    "Verify your states, features and masks."
   ]
  },
  {
   "cell_type": "code",
   "execution_count": null,
   "metadata": {},
   "outputs": [],
   "source": [
    "assert crf_data.states.index(START) == 0\n",
    "assert set(crf_data.states) == set([START, UP, DOWN])\n",
    "assert set(crf_data.features) == set(['bias=1.0', 'word=UP', 'word=DOWN'])\n",
    "# no transitions to start state\n",
    "desired_mask = np.ones((crf_data.num_states, crf_data.num_states, crf_data.num_features), dtype=bool)\n",
    "desired_mask[:,0,:] = False\n",
    "assert np.array_equal(crf_data.feature_mask, desired_mask)"
   ]
  },
  {
   "cell_type": "markdown",
   "metadata": {},
   "source": [
    "### Label sequences z/z-trace\n",
    "\n",
    "After we've built the state vocabulary, we transform each label sequence `y` into a label sequence `z`. `z` transforms each label in `y` into the label's numeric index in the state vocabulary.\n",
    "\n",
    "`z_trace` transforms each sequence `z` into an array with two rows. The second row stores stores the label at the current time point (so it's just a copy of `z`). The first row stores the label at the previous time point. The reason to use `z_trace` is because we often need to look at the label for the current and previous time point for a position in a sequence, so `z_trace` is a convenience to pass both around our functions."
   ]
  },
  {
   "cell_type": "code",
   "execution_count": null,
   "metadata": {},
   "outputs": [],
   "source": [
    "print(\"Label sequence:\", y_train[0])\n",
    "print(\"Label sequence (as z)\", crf_data.z[0])\n",
    "print(\"Label sequence z-trace\", crf_data.z_trace[0])"
   ]
  },
  {
   "cell_type": "markdown",
   "metadata": {},
   "source": [
    "Verify your z-traces."
   ]
  },
  {
   "cell_type": "code",
   "execution_count": null,
   "metadata": {},
   "outputs": [],
   "source": [
    "# check z-trace lines up with z\n",
    "for i in range(len(crf_data.z)):\n",
    "    z_trace = crf_data.z_trace[i]\n",
    "    assert z_trace[0,0] == 0 #first previous state is BOS\n",
    "    assert np.array_equal(crf_data.z_trace[i][1,:], crf_data.z[i])\n",
    "    assert np.array_equal(crf_data.z_trace[i][0,1:], crf_data.z_trace[i][1,:-1]) # previous/current time point match"
   ]
  },
  {
   "cell_type": "markdown",
   "metadata": {},
   "source": [
    "### Feature matrix F\n",
    "We transform each input sequence into a binary matrix `F`. Each row is a position in the sequence. Each column is a feature from our list of possible features. The entry `F[i,j]` is `True` if the j-th feature occurs at the i-th position, or `False` otherwise."
   ]
  },
  {
   "cell_type": "code",
   "execution_count": null,
   "metadata": {},
   "outputs": [],
   "source": [
    "pd.DataFrame(\n",
    "    columns=crf_data.features,\n",
    "    data=crf_data.F[0].toarray()\n",
    ")"
   ]
  },
  {
   "cell_type": "markdown",
   "metadata": {},
   "source": [
    "### Feature mask\n",
    "\n",
    "A feature mask is an 3D boolean array to mask valid combinations of previous state, current state and feature.\n",
    "\n",
    "The axes `(num_states(from), num_states(to), num_features)` represent the previous state $z'$, the current state $z$ and feature $f$. The entry at index `[a,b,f]` is `True` if anywhere in the training a transition from $z'=a$ to $z=b$ occurs and the observation at $z$ exhibits feature $f$.\n",
    "\n",
    "To give an example, we never observe transitions from `<BOS>` to `<BOS>` so the corresponding cells are set to false."
   ]
  },
  {
   "cell_type": "code",
   "execution_count": null,
   "metadata": {},
   "outputs": [],
   "source": [
    "print_weights(crf_data.feature_mask)"
   ]
  },
  {
   "cell_type": "markdown",
   "metadata": {},
   "source": [
    "### Potential of the seuence $\\psi$\n",
    "\n",
    "Recall the log-linear model for CRFs presented in Collins' lecture on CRFs p.8. [#COL_CRF](#COL_CRF) Now we address the numerator. In the Forward-Backward lecture [#COL_FB](#COL_FB) it is defined as\n",
    "\n",
    "$$\n",
    "\\psi(z', z, t) = \\exp\\left(\\vec \\theta \\cdot \\vec \\phi(\\vec x, z',z,t)\\right)\n",
    "$$\n",
    "\n",
    "where\n",
    "* $\\vec\\phi(\\vec x, z',z,t)$ is the feature matrix for an entire input sequence. In our `CRF_data` class, this is equivalent to an `F` matrix.\n",
    "* $\\vec\\theta$ are the weights of the current model.\n",
    "* $z'$ is the previous state and $z$ is the current state\n",
    "* $t$ is the time index, or position in the sequence.\n",
    "\n",
    "Remember in a previous exercise we enumerated all feature templates $f_0 \\dots f_{26}$ and manually assigned weights $\\theta_0 \\dots \\theta_{26}$. $\\psi$ is the exponential of the sum over all weighted fetures for a given input sequence.\n",
    "$$\n",
    "\\psi(z', z, t) = \\exp \\left( \\sum_{i=0}^{26} \\theta_i * f_i (\\vec x, z',z,t) \\right)\n",
    "$$\n",
    "This can be succinctly calculated as the dot product of the weights and a feature matrix."
   ]
  },
  {
   "cell_type": "markdown",
   "metadata": {},
   "source": [
    "### Exercise: Weights matrix\n",
    "\n",
    "Previously we set the weights $\\theta_i$ for each feature $i$ manually. In a similar fashion, we can construct the weights matrix manually.\n",
    "\n",
    "**Axes:** Our weights matrix needs three axis: For the previous time point $z'$, the current time point $z$ and each feature $f$.\n",
    "\n",
    "**Values:** For example, for the feature template $f_{26}(z_{t-1}, z_t, \\vec x, t) = \\mathbb 1(x_t=\\text{UP} \\land z_{t-1} = UP\\land z_t=UP)$ we assigned the weight $\\theta_{26}$ as the coupling coefficient $c_{sx}$. Correspondingly, the entry in the weights matrix that represents this feature `w[z',z,f]` should be $c_{sx}$\n",
    "\n",
    "**Task:** Implement a function that given a crf_data instance returns the true weights matrix $w$. The indices in the weights matrix should align with the state/feature indices in the crf_data.features and crf_data.states members. Like before, the weights in $w$ should refer to the coupling coefficients $c_1$, $c_{sx}$ and $c_{xx}$ with a positive/negative sign. Features that never occur have a weight of 0."
   ]
  },
  {
   "cell_type": "code",
   "execution_count": null,
   "metadata": {},
   "outputs": [],
   "source": [
    "def get_true_w(crf_data):\n",
    "    # True weights matrix. The weights refer to the coupling coefficients. Feature functions\n",
    "    # that never occur have a weight of 0\n",
    "    #\n",
    "    # Parameters: crf_data : CRF_data instance\n",
    "    #   used to determine the indices of states/features \n",
    "    #\n",
    "    # Returns: w_true : np.ndarray\n",
    "    #   shape : (num_states(from), num_states(to), num_features)\n",
    "    raise NotImplementedError()\n",
    "    return w_true"
   ]
  },
  {
   "cell_type": "code",
   "execution_count": null,
   "metadata": {},
   "outputs": [],
   "source": [
    "w_true = get_true_w(crf_data)\n",
    "print_weights(w_true)"
   ]
  },
  {
   "cell_type": "markdown",
   "metadata": {},
   "source": [
    "In a previous exercise we calculated the negative energy of a sequence as the sum of its local contributions.\n",
    "\n",
    "Equivalently, we can calculate the negative sequence energy using the weights matrix. A local contribution encompasses a transition from state `a` to state `b` and the observed feature vector `f`. The dot product of the feature vector and the weights that correspond to the transition `a` to `b` is the local energy contribution.\n",
    "\n",
    "By summing the local contribution over all time points we get the negative energy of the sequence.\n",
    "\n",
    "Compare your implementations:"
   ]
  },
  {
   "cell_type": "code",
   "execution_count": null,
   "metadata": {},
   "outputs": [],
   "source": [
    "def negative_sequence_energy_by_w(f,z_trace,w):\n",
    "    raise NotImplementedError()\n",
    "    return negative_energy"
   ]
  },
  {
   "cell_type": "code",
   "execution_count": null,
   "metadata": {},
   "outputs": [],
   "source": [
    "# Verify your implementation:\n",
    "for nth_sample in range(1,100):\n",
    "    x,s = list(zip(*train_data[nth_sample]))\n",
    "    x,s = list(x), list(s)\n",
    "    # test if previous implementation/weights matrix\n",
    "    # return the same value for the potential\n",
    "    np.testing.assert_almost_equal(\n",
    "        negative_sequence_energy(s,x), # previous implementation\n",
    "        negative_sequence_energy_by_w(crf_data.F[nth_sample], crf_data.z_trace[nth_sample], w_true) # using weights matrix\n",
    "    )"
   ]
  },
  {
   "cell_type": "markdown",
   "metadata": {},
   "source": [
    "### Decoding\n",
    "\n",
    "Study the Viterbi algorithm for decoding sequences, presented in Collins pp.6 [#COL_CRF](#COL_CRF).\n",
    "Then implement a function to decode sequecnes."
   ]
  },
  {
   "cell_type": "code",
   "execution_count": null,
   "metadata": {},
   "outputs": [],
   "source": [
    "def viterbi(f,w):\n",
    "    \"\"\"Parameters\n",
    "    ----------\n",
    "    feature: np.array (shape=(length, num_features), dtype=bool)\n",
    "        features \n",
    "    \n",
    "    w: np.array (shape=(num_states(from), num_states(to), num_features,) dtype=double)\n",
    "        weight vector (parameters)\n",
    "    \"\"\"\n",
    "    return viterbi_table, backpointer, trace"
   ]
  },
  {
   "cell_type": "code",
   "execution_count": null,
   "metadata": {},
   "outputs": [],
   "source": [
    "nth_sample = 0\n",
    "viterbi_table, backpointer, trace = viterbi(crf_data.F[nth_sample].toarray(), w_true)\n",
    "print(\"Decoded trace \", trace)\n",
    "print(\"Actual trace \", crf_data.z[nth_sample])"
   ]
  },
  {
   "cell_type": "markdown",
   "metadata": {},
   "source": [
    "### Forward and backward algorithm\n",
    "\n",
    "Now we tackle the denominator of the log-linear model, which is the sum of $\\psi$ over all possible sequences:\n",
    "$$\n",
    "\\sum_{s \\epsilon S^m} \\psi = \\sum_{s \\epsilon S^m} \\exp\\left(\\vec \\theta \\cdot \\vec \\phi(\\vec x, z',z,t)\\right)\n",
    "$$\n",
    "                                                                                         \n",
    "\n",
    "The brute force approach of enumerating all sequences is not going to work for longer sequences. The forward algorithm and the backward algorithm are used instead.\n",
    "\n",
    "The forward algorithm provides the summation of $\\psi$ over all sequences, starting from the left, i.e. the beginning of a sequence. The backward algorithm provides the summation from the right. Both algorithms provide the partition function $Z$ which is the sum of $\\psi$ over all sequences.\n",
    "\n",
    "Collins provides a lecture on these algorithms [#COL_FB](#COL_FB), which you can study and implement.\n",
    "\n",
    "Another resource is [Neural networks \\[3.4\\] : Conditional random fields - computing the partition function](https://www.youtube.com/watch?v=fGdXkVv1qNQ&list=PL6Xpj9I5qXYEcOhn7TqghAJ6NAPrNmUBH&index=21) by Hugo Larochelle for the forward and backward algorithm, plus [Neural networks [3.5] : Conditional random fields - computing marginals](#https://www.youtube.com/watch?v=hjkwp-eDwt8&index=22&list=PL6Xpj9I5qXYEcOhn7TqghAJ6NAPrNmUBH) for the forward-backward algorithm."
   ]
  },
  {
   "cell_type": "code",
   "execution_count": null,
   "metadata": {},
   "outputs": [],
   "source": [
    "def forward(psi):\n",
    "    # Forward algorithm to compute the alpha values.\n",
    "    #\n",
    "    # Parameters:\n",
    "    # psi: np.array (shape=(length, num_states(from), num_states(to)), dtype=double)\n",
    "    #\n",
    "    # Returns:\n",
    "    # Z : float64 ; the partition function\n",
    "    # alpha : np.ndarray ; (shape=length, num_states)\n",
    "    raise NotImplementedError()\n",
    "    return Z, alpha"
   ]
  },
  {
   "cell_type": "code",
   "execution_count": null,
   "metadata": {},
   "outputs": [],
   "source": [
    "def backward(psi):\n",
    "    # Backward algorithm to compute the beta values.\n",
    "    #\n",
    "    # Parameters:\n",
    "    # psi: np.array (shape=(length, num_states(from), num_states(to)), dtype=double)\n",
    "    #\n",
    "    # Returns:\n",
    "    # Z : float64 ; the partition function\n",
    "    # beta : np.ndarray ; (shape=length, num_states)\n",
    "    raise NotImplementedError()\n",
    "    return Z, beta"
   ]
  },
  {
   "cell_type": "markdown",
   "metadata": {},
   "source": [
    "The partition function Z returned by the forward and backward algorithm should return the same value."
   ]
  },
  {
   "cell_type": "code",
   "execution_count": null,
   "metadata": {},
   "outputs": [],
   "source": [
    "nth = 0\n",
    "f, w_ = crf_data.F[nth].toarray(), get_true_w(crf_data)\n",
    "psi = np.exp(np.dot(f, w_.transpose(0,2,1)))\n",
    "Za, alpha = forward(psi)\n",
    "Zb, beta = backward(psi)\n",
    "np.testing.assert_almost_equal(Za, Zb)"
   ]
  },
  {
   "cell_type": "markdown",
   "metadata": {},
   "source": [
    "### Parameter Estimation\n",
    "\n",
    "Collins [#COL_CRF](#COL_CRF) defines the quantity $q_j^i(a,b)$ as\n",
    "\n",
    ">\"the probabilty of the $i$’th training example $x^i$ having state $a$ at position $j−1$ and state $b$ at position $j$, under the distribution $p(\\underline{s}|\\underline{x};\\underline{w})$\"\n",
    "    \n",
    "    $$\n",
    "q_t^{(i)}(a,b) = \\sum_{\\vec s \\in \\mathcal S^m: s_{j-1}=a, s_j = b} p(\\vec s \\mid \\vec x^{(i)}; \\vec w)\n",
    "$$\n",
    "\n",
    "As a valid probability distribution, the values of $q$ for a given time point $t$ in the sequence should sum to 1. Formally:\n",
    "$$\n",
    "\\sum_{a \\in \\mathcal S, b \\in \\mathcal S} q_t^{i}(a,b) = \\sum_{a \\in \\mathcal S, b \\in \\mathcal S}  \\left(\\sum_{\\vec s \\in \\mathcal S^m: s_{j-1}=a, s_j = b} p(\\vec s \\mid \\vec x^{(i)}; \\vec w)\\right) = 1\n",
    "$$\n",
    "We can use this as a test of our implementation.\n",
    "\n",
    "\n",
    "To compute $q$, we're first going to compute an iterim quantity $\\mu$, using the forward-backward algorithm.\n",
    "For the input sequence $\\vec{x}$ the forward-backward algortithm considers\n",
    "* the summation from the left, found in the $\\alpha$ values in the forward algorithm\n",
    "* the $\\psi$ at the current time point\n",
    "* the summation from the right, found in the $\\beta$ values in the backward algorithm\n",
    "\n",
    "For all $j \\in \\{2 \\dots (m-1), a,b \\in \\mathcal S$:\n",
    "$$\n",
    "    \\mu(t,a,b) = \\alpha(t-1,a) \\psi(a,b,t) \\beta(t, b)\n",
    "$$\n",
    "\n",
    "Finally we didivde $\\mu$ by the partition function of the sequence to get the valid probability distribution $q$\n",
    "\n",
    "$$\n",
    "q_t^{i} = \\frac{\\mu(t,a,b)^{i}}{Z(\\vec{x}^{i})}\n",
    "$$\n",
    "Study Collins lecture [The Forward-Backward Algorithm](http://www.cs.columbia.edu/~mcollins/fb.pdf) [[#COL_FB](#COL_FB)] and implement a function to calculate $q$."
   ]
  },
  {
   "cell_type": "code",
   "execution_count": null,
   "metadata": {},
   "outputs": [],
   "source": [
    "def get_q(f, w):\n",
    "    # f: Feature matrix of an input sequence;\n",
    "    #   shape: (num_time_points, num_features)\n",
    "    #\n",
    "    # w : weights of the current model\n",
    "    #   shape: (num_states, num_states, num_features)\n",
    "    #\n",
    "    # Returns: q[t,a,b]\n",
    "    #  shape: (num_time_points, num_states, num_states)\n",
    "    #  The probability of being in state a at time point t-1 and\n",
    "    #  statesb at time point t\n",
    "    raise NotImplementedError()\n",
    "    return q, mu, alpha, beta, Z"
   ]
  },
  {
   "cell_type": "markdown",
   "metadata": {},
   "source": [
    "Verify that your $q$ provides a valid distribution over state transitions across all time points."
   ]
  },
  {
   "cell_type": "code",
   "execution_count": null,
   "metadata": {},
   "outputs": [],
   "source": [
    "q, mu, alpha, beta, Z = get_q(crf_data.F[0].toarray(), get_true_w(crf_data))\n",
    "np.testing.assert_allclose(q.sum(axis=2).sum(axis=1), desired=1)"
   ]
  },
  {
   "cell_type": "markdown",
   "metadata": {},
   "source": [
    "### Negative log-likelihood\n",
    "\n",
    "Study the log-likelihood function presented on Collins p. 10 [#COL_CRF](#COL_CRF). Then implement a function to calculate the negative log-likelihood of the data."
   ]
  },
  {
   "cell_type": "code",
   "execution_count": null,
   "metadata": {},
   "outputs": [],
   "source": [
    "def negloglikelihod(F, Z_traces, w):\n",
    "    # Parameters:\n",
    "    # F : list of scipy.sparse.dok_matrix ; shape=(length_sequence, num_features)\n",
    "    #   list of feature matrices\n",
    "    # Z_traces : list of np.ndarray ; shape=(2, length_sequence)\n",
    "    #   list of z-traces\n",
    "    # w : np.ndarray ;\n",
    "    #   weights matrix\n",
    "    raise NotImplementedError()\n",
    "    return negative_log_likelihood"
   ]
  },
  {
   "cell_type": "markdown",
   "metadata": {},
   "source": [
    "### Gradient of the log-likelihood function\n",
    "\n",
    "The likelihood function is presented on p.10 of Collin's lecture on CRFs. [COL_CRF](#COL_CRF)\n",
    "\n",
    "The first term is the **actual** use of features in the training data. We set up a 3D array whose axes represent the previous state, current state and feature. For every transition from state $a$ at time point $t-1$ to state $b$ at time point $t$ with feature $f$ present in the observation at $t$, we increment the value at `[a,b,f]` by 1.\n",
    "\n",
    "\n",
    "The second term is the **estimated** use of features in the training data, which we find through our probability distribution $q(a,b,t)$."
   ]
  },
  {
   "cell_type": "code",
   "execution_count": null,
   "metadata": {},
   "outputs": [],
   "source": [
    "def get_first_term(crf_data):\n",
    "    # Actual use of features in the training data\n",
    "    #\n",
    "    # Returns: first_term\n",
    "    #  First term of the gradient of the log-likelihood function\n",
    "    #  shape: (num_previous_states, num_current_states, num_features)\n",
    "    raise NotImplementedError()\n",
    "    \n",
    "def get_second_term(F, z, crf_data, w):\n",
    "    # Estimated use of features in the data F, z given the weights w.\n",
    "    #\n",
    "    # F : list of scipy.sparse.dok_matrix\n",
    "    # z : \n",
    "    # crf_data : CRF_data instance\n",
    "    # w : weights vector\n",
    "    #\n",
    "    # Returns: second_term\n",
    "    #  Second term of the gradient of the log-likelihood function\n",
    "    #  shape: (num_previous_states, num_pcurrent_states, num_features)\n",
    "    raise NotImplementedError()"
   ]
  },
  {
   "cell_type": "markdown",
   "metadata": {},
   "source": [
    "### Learning\n",
    "\n",
    "With functions for the first and second term at our disposal, we can finally compute the gradient of the likelihood function. We use mini-batch gradient descent to estimate parameters $w$ for our data."
   ]
  },
  {
   "cell_type": "code",
   "execution_count": null,
   "metadata": {},
   "outputs": [],
   "source": [
    "def gradient_descent(crf_data, w_start, learning_rate=0.1, epochs=100, batch_size=250):\n",
    "    # Gradient descent algorithm to estimate weights for a CRF.\n",
    "    #\n",
    "    # crf_data: Stores data produced from a CRF\n",
    "    # w_start: Initial model/weights\n",
    "    # learning_rate, epochs, batch_size: hyperparameters\n",
    "    #\n",
    "    # Returns:\n",
    "    #  w ; shape(num_previous_states, num_current_states, num_features)\n",
    "    raise NotImplementedError()\n",
    "    return w"
   ]
  },
  {
   "cell_type": "code",
   "execution_count": null,
   "metadata": {},
   "outputs": [],
   "source": [
    "w_true\n",
    "w_start = np.zeros_like(w_true)\n",
    "w_est = gradient_descent(crf_data, w_start, learning_rate=0.2, batch_size=250, epochs=20)\n",
    "\n",
    "crf_test_data = CRF_data(X_test, y_test)\n",
    "print(\"Negative log likelihood with\")\n",
    "print (\"...true paramaters: \", negloglikelihood(crf_test_data.F, crf_test_data.z_trace, w_true))\n",
    "print (\"...initial paramaters: \", negloglikelihood(crf_test_data.F, crf_test_data.z_trace, w_start))\n",
    "print (\"...fitted parameters: \", negloglikelihood(crf_test_data.F, crf_test_data.z_trace, w_est))"
   ]
  },
  {
   "cell_type": "code",
   "execution_count": null,
   "metadata": {},
   "outputs": [],
   "source": [
    "print_weights(w_est)"
   ]
  },
  {
   "cell_type": "markdown",
   "metadata": {},
   "source": [
    "## Summary and Outlook"
   ]
  },
  {
   "cell_type": "markdown",
   "metadata": {},
   "source": [
    "In this notebook, you have\n",
    "* modeled a spin system as a linear chain CRF\n",
    "* engineered feature functions to transform input into feature vectors\n",
    "* assigned weights to features by hand\n",
    "* implemented brute force algorithms for the probability and conditional probability of sequences\n",
    "* implemented dynamic programming algorithms to calculate the alpha values, beta values and the partition function\n",
    "\n",
    "In the next step, you can use your alpha and beta algorithms to comute the marginals i.e. the likelihood of a label at a given position. Then you can turn to the problem of decoding i.e. finding the best label sequence for a given input sequence.\n",
    "\n",
    "This notebook ends here, but if you're motivated to continue working with CRFs, I recommend you check out the [playlist on Neural Networks](https://www.youtube.com/watch?v=SGZ6BttHMPw&list=PL6Xpj9I5qXYEcOhn7TqghAJ6NAPrNmUBH) by Hugo Larochelle. "
   ]
  },
  {
   "cell_type": "markdown",
   "metadata": {},
   "source": [
    "## Literature\n",
    "\n",
    "<table>\n",
    "        <tr>\n",
    "        <td>\n",
    "            <a name=\"LAF01\"></a>[LAF01]\n",
    "        </td>\n",
    "        <td>\n",
    "            Lafferty, John, Andrew McCallum, and Fernando CN Pereira. \"Conditional random fields: Probabilistic models for segmenting and labeling sequence data.\" (2001).\n",
    "            </a>.\n",
    "        </td>\n",
    "    </tr>\n",
    "    <tr>\n",
    "        <td>\n",
    "            <a name=\"LAR13\"></a>[LAR13]\n",
    "        </td>\n",
    "        <td>\n",
    "           H. Larochelle, “Neural Networks: Course content,” 2013. Université de Sherbrooke, (Québec, Canada). [Online]. Available: <a href='http://www.dmi.usherb.ca/~larocheh/neural_networks/content.html'>http://www.dmi.usherb.ca/~larocheh/neural_networks/content.html</a>. [Accessed: 06-Feb-2019].\n",
    "Weeks 3 and 4\n",
    "        </td>\n",
    "    </tr>\n",
    "</table>"
   ]
  },
  {
   "cell_type": "markdown",
   "metadata": {},
   "source": [
    "## Licenses\n",
    "\n",
    "### Notebook License (CC-BY-SA 4.0)\n",
    "\n",
    "*The following license applies to the complete notebook, including code cells. It does however not apply to any referenced external media (e.g., images).*\n",
    "\n",
    "_Exercise - Linear Chain Conditional Random Fields_ <br/>\n",
    "by _[Christian Herta](https://www.htw-berlin.de/hochschule/personen/person/?eid=2605), Diyar Oktay_<br/>\n",
    "is licensed under a [Creative Commons Attribution-ShareAlike 4.0 International License](http://creativecommons.org/licenses/by-sa/4.0/).<br/>\n",
    "Based on a work at https://gitlab.com/deep.TEACHING.\n",
    "\n",
    "\n",
    "### Code License (MIT)\n",
    "\n",
    "*The following license only applies to code cells of the notebook.*\n",
    "\n",
    "Copyright 2019 _Exercise - Linear Chain Conditional Random Fields_\n",
    "\n",
    "Permission is hereby granted, free of charge, to any person obtaining a copy of this software and associated documentation files (the \"Software\"), to deal in the Software without restriction, including without limitation the rights to use, copy, modify, merge, publish, distribute, sublicense, and/or sell copies of the Software, and to permit persons to whom the Software is furnished to do so, subject to the following conditions:\n",
    "\n",
    "The above copyright notice and this permission notice shall be included in all copies or substantial portions of the Software.\n",
    "\n",
    "THE SOFTWARE IS PROVIDED \"AS IS\", WITHOUT WARRANTY OF ANY KIND, EXPRESS OR IMPLIED, INCLUDING BUT NOT LIMITED TO THE WARRANTIES OF MERCHANTABILITY, FITNESS FOR A PARTICULAR PURPOSE AND NONINFRINGEMENT. IN NO EVENT SHALL THE AUTHORS OR COPYRIGHT HOLDERS BE LIABLE FOR ANY CLAIM, DAMAGES OR OTHER LIABILITY, WHETHER IN AN ACTION OF CONTRACT, TORT OR OTHERWISE, ARISING FROM, OUT OF OR IN CONNECTION WITH THE SOFTWARE OR THE USE OR OTHER DEALINGS IN THE SOFTWARE."
   ]
  },
  {
   "cell_type": "code",
   "execution_count": null,
   "metadata": {},
   "outputs": [],
   "source": []
  }
 ],
 "metadata": {
  "celltoolbar": "Slideshow",
  "kernelspec": {
   "display_name": "Python 3",
   "language": "python",
   "name": "python3"
  },
  "language_info": {
   "codemirror_mode": {
    "name": "ipython",
    "version": 3
   },
   "file_extension": ".py",
   "mimetype": "text/x-python",
   "name": "python",
   "nbconvert_exporter": "python",
   "pygments_lexer": "ipython3",
   "version": "3.7.5rc1"
  }
 },
 "nbformat": 4,
 "nbformat_minor": 4
}
