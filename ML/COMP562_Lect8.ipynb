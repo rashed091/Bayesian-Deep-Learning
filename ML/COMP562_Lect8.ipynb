{
 "cells": [
  {
   "cell_type": "markdown",
   "metadata": {
    "slideshow": {
     "slide_type": "slide"
    }
   },
   "source": [
    "# <center> COMP 562 : Inroduction to Machine Learning </center>\n",
    "## <center> <font color='red'>Lecture 8 : Naive Bayes Classifier, Tuning and Evaluating Models </font> </center> \n",
    "### <center> Mahmoud Mostapha </center> \n",
    "### <center> Department of Computer Science -- UNC Chapel Hill</center>\n",
    "###  <center> September 24, 2018 </center>"
   ]
  },
  {
   "cell_type": "markdown",
   "metadata": {
    "slideshow": {
     "slide_type": "slide"
    }
   },
   "source": [
    "# COMP 562 – Lecture 8\n",
    "\n",
    "Plan for today\n",
    "\n",
    "1. Review Generative models for classification\n",
    "2. Naive Bayes with continous feature distribution\n",
    "4. Naive Bayes with discrete feature distribution\n",
    "3. Tuning and evaluating models\n",
    "\n",
    "$$\n",
    "\\renewcommand{\\xx}{\\mathbf{x}}\n",
    "\\renewcommand{\\yy}{\\mathbf{y}}\n",
    "\\renewcommand{\\zz}{\\mathbf{z}}\n",
    "\\renewcommand{\\vv}{\\mathbf{v}}\n",
    "\\renewcommand{\\bbeta}{\\boldsymbol{\\mathbf{\\beta}}}\n",
    "\\renewcommand{\\mmu}{\\boldsymbol{\\mathbf{\\mu}}}\n",
    "\\renewcommand{\\ssigma}{\\boldsymbol{\\mathbf{\\sigma}}}\n",
    "\\renewcommand{\\reals}{\\mathbb{R}}\n",
    "\\renewcommand{\\loglik}{\\mathcal{LL}}\n",
    "\\renewcommand{\\penloglik}{\\mathcal{PLL}}\n",
    "\\renewcommand{\\likelihood}{\\mathcal{L}}\n",
    "\\renewcommand{\\Data}{\\textrm{Data}}\n",
    "\\renewcommand{\\given}{ | }\n",
    "\\renewcommand{\\MLE}{\\textrm{MLE}}\n",
    "\\renewcommand{\\tth}{\\textrm{th}}\n",
    "\\renewcommand{\\Gaussian}[2]{\\mathcal{N}\\left(#1,#2\\right)}\n",
    "\\renewcommand{\\norm}[1]{\\left\\lVert#1\\right\\rVert}\n",
    "\\renewcommand{\\ones}{\\mathbf{1}}\n",
    "\\renewcommand{\\diag}[1]{\\textrm{diag}\\left( #1 \\right)}\n",
    "\\renewcommand{\\sigmoid}[1]{\\sigma\\left(#1\\right)}\n",
    "\\renewcommand{\\myexp}[1]{\\exp\\left\\{#1\\right\\}}\n",
    "\\renewcommand{\\mylog}[1]{\\log\\left\\{#1\\right\\}}\n",
    "\\renewcommand{\\argmax}{\\mathop{\\textrm{argmax}}}\n",
    "$$"
   ]
  },
  {
   "cell_type": "markdown",
   "metadata": {
    "slideshow": {
     "slide_type": "slide"
    }
   },
   "source": [
    "# Multivariate Gaussian Distribution -- Dependent Case\n",
    "\n",
    "Suppose we have $p$ standard random variables  (0 mean, unit variance)\n",
    "\n",
    "$$\n",
    "\\begin{aligned}\n",
    "z_i \\sim& \\Gaussian{0}{1},&  i=1,\\dots p\n",
    "\\end{aligned}\n",
    "$$\n",
    "\n",
    "and we are given a vector $\\mmu$ of length $n$ and a full-rank matrix $A$ of size $p \\times p$\n",
    "\n",
    "Distribution of $\\xx = A\\zz + \\mu$ is\n",
    "$$\n",
    "p(\\xx) = \\left(2\\pi\\right)^{-\\frac{p}{2}}(\\det{\\Sigma})^{-\\frac{1}{2}}\\myexp{\\frac{1}{2}(\\xx - \\mmu)^T\\Sigma^{-1}(\\xx-\\mmu)}\n",
    "$$\n",
    "where $\\Sigma = AA^T$.\n",
    "\n",
    "* $\\mu$ is **mean** of the Gaussian\n",
    "* $\\Sigma$ is **covariance** matrix\n"
   ]
  },
  {
   "cell_type": "markdown",
   "metadata": {
    "slideshow": {
     "slide_type": "slide"
    }
   },
   "source": [
    "# Maximum Likelihood Estimates of Mean and Covariance\n",
    "\n",
    "Given data $\\{\\xx_i \\in \\reals^N|i=1,\\dots,N\\}$ maximum likelihood estimates (MLE) of mean and covariance are:\n",
    "\n",
    "$$\n",
    "\\begin{aligned}\n",
    "\\mmu^{\\MLE} &= \\frac{1}{N}\\sum_{i=1}^N \\xx_i\\\\\n",
    "\\Sigma^{\\MLE} & = \\frac{1}{N}\\sum_{i=1}^N \\underbrace{\\left(\\xx_i - \\mmu^{\\MLE}\\right)\\left(\\xx_i - \\mmu^{\\MLE}\\right)^T}_{\\textrm{ a matrix of size $p \\times p$}}\n",
    "\\end{aligned}\n",
    "$$\n",
    "\n",
    "Dimensionality\n",
    "* $\\mmu^{\\MLE}$ is of same dimension as a single data point $p \\times 1$.\n",
    "* $\\Sigma^{\\MLE}$ is a matrix of size $p \\times p$ \n",
    "\n",
    "Note that $\\xx\\xx^T$ and $\\xx^T\\xx$ are not the same, former is a matrix, latter is a scalar\n"
   ]
  },
  {
   "cell_type": "markdown",
   "metadata": {
    "slideshow": {
     "slide_type": "slide"
    }
   },
   "source": [
    "# Generative Models for Classification \n",
    "\n",
    "There are two ways to factorize joint probability of labels and features\n",
    "\n",
    "$$\n",
    "p(y,\\xx\\given\\theta) = p(y\\given\\xx,\\theta)p(\\xx\\given\\theta) =  p(\\xx\\given y,\\theta)p(y\\given\\theta) \n",
    "$$\n",
    "\n",
    "The second one given us a simple process to *GENERATE* data:\n",
    "\n",
    "1. First select label according $p(y\\given\\theta)$, say it was $c$\n",
    "2. Now generate features $p(\\xx\\given y=c,\\theta)$\n",
    "\n",
    "Once we have such a model we can obtain the conditional probability $p(y\\given\\xx)$ using Bayes rule\n",
    "\n",
    "$$\n",
    "p(y=c\\given \\xx) = \\frac{p(y=c\\given\\theta)p(\\xx\\given y=c,\\theta)}{\\sum_k p(y=k\\given\\theta)p(\\xx\\given y=k,\\theta)}\n",
    "$$\n",
    "\n",
    "and we can predict label for a new feature vector $\\xx$ "
   ]
  },
  {
   "cell_type": "markdown",
   "metadata": {
    "slideshow": {
     "slide_type": "slide"
    }
   },
   "source": [
    "# Generative Models for Classification \n",
    "\n",
    "In order to specify a generative model we have to specify its parts\n",
    "\n",
    "1. Prior probability for a label $p(y\\given\\theta)$\n",
    "2. Probability for features in each of the classes $p(\\xx\\given y=1,\\theta),...,p(\\xx\\given y=k,\\theta)$.\n",
    "\n",
    "**<font color='red'> Q: How would you specify probability of labels? What would be your guess? Can you learn that probability? </font>**\n",
    "\n",
    "**<font color='red'> Q: Let's say that we have $p$ features and $C$ classes give a guess about the number of parameters need to specify $p(\\xx\\given y,\\theta)$ </font>**"
   ]
  },
  {
   "cell_type": "markdown",
   "metadata": {
    "slideshow": {
     "slide_type": "slide"
    }
   },
   "source": [
    "# Generative Models for Classification \n",
    "\n",
    "We will make a simplifying assumptions about feature distribution\n",
    "\n",
    "$$\n",
    "p(\\xx\\given y,\\theta) = \\prod_j p(x_j \\given y, \\theta)\n",
    "$$\n",
    "\n",
    "**<font color='red'> Q: What does this say about features? Recall what it means to be able to factorize $p(x_1,x_2) = p(x_1)p(x_2)$ </font>**\n",
    "\n",
    "This assumption underlies the **Naive Bayes** method"
   ]
  },
  {
   "cell_type": "markdown",
   "metadata": {
    "slideshow": {
     "slide_type": "slide"
    }
   },
   "source": [
    "# Naive Bayes\n",
    "\n",
    "$$\n",
    "\\begin{aligned}\n",
    "p(y = c \\given \\pi ) &= \\pi_c \\\\\n",
    "p(\\xx \\given y=c, \\theta) &= \\prod_j p(x_j \\given y= c,\\theta_{j,c})\n",
    "\\end{aligned}\n",
    "$$\n",
    "Parameters are \n",
    "* $\\pi_c$ prior probability that a sample comes from the class $c$\n",
    "* $\\theta_{j,c}$ parameters for the $j^\\tth$ feature for class $c$\n",
    "\n",
    "In general, there are many variants of Naive Bayes, you can choose different distributions for $p(x_j \\given y = c)$\n",
    "* Gaussian -- continuous features\n",
    "* Bernoulli -- binary features\n",
    "* Binomial -- count of positive outcomes\n",
    "* Categorical -- discrete features\n",
    "* Multinomial -- count of particular discrete outcomes"
   ]
  },
  {
   "cell_type": "markdown",
   "metadata": {
    "slideshow": {
     "slide_type": "slide"
    }
   },
   "source": [
    "# Naive Bayes with Gaussian Features\n",
    "\n",
    "We will assume that \n",
    "\n",
    "$$\n",
    "\\begin{aligned}\n",
    "x_j\\given y_c, \\theta &\\sim \\Gaussian{\\theta_{j,c}}{\\sigma^2}\n",
    "\\end{aligned}\n",
    "$$\n",
    "\n",
    "Each feature is Gaussian distributed around class specific mean and with shared spherical variance\n",
    "\n",
    "Let's take a look at the data we generated earlier and read-off these parameters"
   ]
  },
  {
   "cell_type": "code",
   "execution_count": 1,
   "metadata": {
    "slideshow": {
     "slide_type": "skip"
    }
   },
   "outputs": [],
   "source": [
    "import numpy\n",
    "import matplotlib.pyplot as plt\n",
    "\n",
    "def generate_data(N,d,K,proby,mus,A):\n",
    "    # This function will generate data from \n",
    "    # K Gaussians. Each Gaussian has different mean\n",
    "    # mus[:,c] is mean for the c-th Gaussian\n",
    "    # Covariance Sigma = A^T A is shared between \n",
    "    # Gaussians.\n",
    "    ys = [0]*N\n",
    "    xs = numpy.zeros((d,N))\n",
    "    for i in range(N):\n",
    "        # Sample class according to the prior p(y)\n",
    "        # in this case it is uniform\n",
    "        ys[i] = numpy.random.choice(K,1)      \n",
    "        # Sample feature values according to p(x|y)\n",
    "        # In this case, x ~ N(mmu[y[i]],sigma2*I)\n",
    "        # To accomplish this, draw z1,z2 ~ N(0,I)    \n",
    "        z = numpy.random.randn(2,1)\n",
    "        # transform by matrix A and shift by class mean\n",
    "        x = numpy.dot(A,z) + mus[:,ys[i]]  \n",
    "        xs[:,i] = x[:,0]\n",
    "    return xs,ys\n",
    "\n",
    "def plot_sample(xs,ys,mus=None,colors=['r','g','b']):\n",
    "    K = numpy.max(ys)+1\n",
    "    colors = ['r','g','b']\n",
    "    for c in range(K):\n",
    "        # indices of samples assigned to class c\n",
    "        ind = [i for i in range(N) if ys[i]==c]\n",
    "        plt.plot(xs[0,ind],xs[1,ind],colors[c]+'.',label='Samples in class '+str(c))    \n",
    "        if not mus is None:\n",
    "            plt.plot(mus[0,c],mus[1,c],'kx',markersize=9,markeredgewidth=5)\n",
    "            plt.plot(mus[0,c],mus[1,c],'wx',markersize=7,markeredgewidth=3)\n",
    "    plt.legend(loc=2, bbox_to_anchor=(1,1))"
   ]
  },
  {
   "cell_type": "code",
   "execution_count": 3,
   "metadata": {
    "slideshow": {
     "slide_type": "slide"
    }
   },
   "outputs": [
    {
     "data": {
      "image/png": "[encoded data removed]",
      "text/plain": [
       "<Figure size 576x576 with 1 Axes>"
      ]
     },
     "metadata": {},
     "output_type": "display_data"
    }
   ],
   "source": [
    "N = 1000 # 100 samples\n",
    "K = 3   # 3 classes\n",
    "d = 2   # x is 2d \n",
    "proby = [1.0/K]*K # [1./3. , 1./3., 1./3.]\n",
    "mus = 1.0*numpy.asarray([[-1.0,1.0,2],[1.0,-1.0,2.0]])\n",
    "sigma = 0.1 # standard deviation, variance is 0.01\n",
    "A = sigma*numpy.eye(2) # A just scales each coordinate by sigma\n",
    "xs,ys = generate_data(N,d,K,proby,mus,A)\n",
    "fig = plt.figure(figsize=(8, 8))\n",
    "plot_sample(xs,ys,mus)\n",
    "plt.title('Shared spherical covariances.');\n",
    "plt.xlabel('$x_1$')\n",
    "plt.ylabel('$x_2$');"
   ]
  },
  {
   "cell_type": "markdown",
   "metadata": {
    "slideshow": {
     "slide_type": "slide"
    }
   },
   "source": [
    "# Learning Parameters for Naive Bayes\n",
    "\n",
    "In the synthetic data examples, we know the ground truth parameters -- after all, we generated the data\n",
    "\n",
    "**<font color='red'> Q: How do we go about learning parameters for a Naive Bayes model? </font>**"
   ]
  },
  {
   "cell_type": "markdown",
   "metadata": {
    "slideshow": {
     "slide_type": "slide"
    }
   },
   "source": [
    "**joint** Log-likelihood\n",
    "\n",
    "$$\n",
    "\\begin{aligned}\n",
    "\\loglik(\\theta,\\pi\\given\\yy,X) & = \\sum_i \\log p(y_i,\\xx_i\\given\\theta,\\pi)  && \\textrm{definition of likelihood} \\\\\n",
    "& = \\sum_i \\log p(y_i\\given\\pi) + \\log p(\\xx_i\\given y_i,\\theta) && \\textrm{factorization } p(y,\\xx) = p(y) p(\\xx|y) \\\\\n",
    "& = \\sum_i \\log p(y_i\\given\\pi) + \\log \\prod_j p(x_{j,i}\\given y_i,\\theta_j) && \\textrm{ Naive Bayes assumption}\\\\\n",
    "& = \\sum_i \\log p(y_i\\given\\pi) + \\sum_j \\log p(x_{j,i}\\given y_i,\\theta_j)\n",
    "\\end{aligned}\n",
    "$$\n",
    "\n",
    "Note that we have not yet used our assumptions about distribution of $x_{j,i}$"
   ]
  },
  {
   "cell_type": "markdown",
   "metadata": {
    "slideshow": {
     "slide_type": "slide"
    }
   },
   "source": [
    "# Learning parameters for Naive Bayes with Gaussian features\n",
    "\n",
    "**joint** Log-likelihood\n",
    "\n",
    "$$\n",
    "\\begin{aligned}\n",
    "\\loglik(\\theta,\\pi\\given\\yy,X)  &= \\sum_i \\left[\\log p(y_i\\given\\pi) + \\sum_j \\log p(x_{j,i}\\given y_i,\\theta_j) \\right]\\\\\n",
    "& = \\sum_i \\left[\\log \\pi_{\\color{red}{y_i}} + \\sum_j \\log \\frac{1}{\\sqrt{2\\pi\\sigma^2}}\\myexp{-\\frac{1}{2\\sigma^2}(x_{j,i} - \\theta_{j,\\color{red}{y_i}})^2}\\right]\\\\\n",
    "& = \\sum_i \\left[\\log \\pi_{\\color{red}{y_i}} - \\frac{1}{2} \\sum_j \\log (2\\pi\\sigma^2) - \\frac{1}{2\\sigma^2} \\sum_j (x_{j,i} - \\theta_{j,\\color{red}{y_i}})^2\\right]\n",
    "\\end{aligned}\n",
    "$$\n",
    "\n",
    "Note that parameters $\\pi_c$ and $\\theta_{i,c}$ are only used for samples that belong to class $c$ ($y_i=c$)\n",
    "\n",
    "Hence, we can learn of parameters for each class separately"
   ]
  },
  {
   "cell_type": "markdown",
   "metadata": {
    "slideshow": {
     "slide_type": "slide"
    }
   },
   "source": [
    "# Learning Parameters for Naive Bayes with Gaussian Features\n",
    "\n",
    "Closed form estimates for parameters are\n",
    "\n",
    "$$\n",
    "\\begin{aligned}\n",
    "\\pi_c &= \\frac{\\sum_i [y_i = c]}{\\sum_i 1} && \\textrm{frequency of class $c$ in training data}\\\\\n",
    "\\theta_{j,c} &= \\frac{\\sum_i [y_i = c]x_{i,j}}{\\sum_i [y_i = c]} && \\textrm{average of feature $j$ among samples in class $c$}\\\\\n",
    "\\sigma &= \\frac{\\sum_i (x_{j,i} - \\theta_{j,y_i})^2}{\\sum_i 1}&& \\textrm{variance across all features}\n",
    "\\end{aligned}\n",
    "$$\n",
    "\n",
    "Note $[x]$ is an indicator function, defined as\n",
    "\n",
    "$$\n",
    "  [x] =\n",
    "  \\begin{cases}\n",
    "    1 & \\text{if $x$ is true} \\\\\n",
    "    0 & \\text{otherwise}\n",
    "  \\end{cases}\n",
    "$$"
   ]
  },
  {
   "cell_type": "markdown",
   "metadata": {
    "slideshow": {
     "slide_type": "slide"
    }
   },
   "source": [
    "# Class Prediction using Naive Bayes with Gaussian Features\n",
    "\n",
    "Recall that \n",
    "$$\n",
    "\\mathop{\\textrm{argmax}}_c p(y=c\\given \\xx) = \n",
    "\\mathop{\\textrm{argmax}}_c \\log  p(y=c\\given\\theta) + \\log p(\\xx\\given y=c,\\theta)\n",
    "$$\n",
    "\n",
    "After a little bit more manipulation\n",
    "$$\n",
    "\\begin{aligned}\n",
    "\\log p(y=c \\given \\xx,\\theta,\\pi) \n",
    "&= \\log \\pi_{c} - \\sum_j \\frac{1}{2\\sigma^2}(x_{j,i} - \\theta_{j,c})^2 + \\textrm{const.} \n",
    "\\end{aligned}\n",
    "$$\n",
    "Predicted class\n",
    "$$\n",
    "y^* = \\mathop{\\textrm{argmax}}_c \\log \\pi_{c} - \\underbrace{\\sum_j (x_{j,i} - \\theta_{j,c})^2}_{\\textrm{distance to class center}} + \\textrm{const.}\n",
    "$$"
   ]
  },
  {
   "cell_type": "markdown",
   "metadata": {
    "slideshow": {
     "slide_type": "slide"
    }
   },
   "source": [
    "\n",
    "# Naive Bayes with Discrete Features -- Spam Filtering\n",
    "\n",
    "**Bag of Words representation**\n",
    "\n",
    "Review 188_7:\n",
    "\"I'm a **huge** **classic** film **buff**, but am just **getting** in to **silent** **movies**. \n",
    "A **lot** of **silent** **films** don't **hold** my **attention**, ...\"\n",
    "\n",
    "Review 196_9:\n",
    "\"... **fans** of the **silent** **era**, with many **cameos**, **adds** to the **overall** **fun** ...\"\n",
    "\n",
    "Converted into a row of word counts\n",
    "\n",
    "<img src=\"./Images/Table1.PNG\" width=\"1000\" align=\"center\"/>"
   ]
  },
  {
   "cell_type": "markdown",
   "metadata": {
    "slideshow": {
     "slide_type": "slide"
    }
   },
   "source": [
    "Converted into a row of word presence/absence\n",
    "\n",
    "<img src=\"./Images/Table2.PNG\" width=\"1000\" align=\"center\"/>\n",
    "\n",
    "Features can also be word presence/absence, rather than counts as before\n",
    "\n",
    "These types of representations are called **bag-of-words**\n",
    "\n",
    "In your first assignment, we use bag-of-words representation of movie reviews to predict sentiment"
   ]
  },
  {
   "cell_type": "markdown",
   "metadata": {
    "slideshow": {
     "slide_type": "slide"
    }
   },
   "source": [
    "# Naive Bayes with Discrete Features -- Spam Filtering\n",
    "\n",
    "One approach to classifying e-mail spam (1) vs not spam (0) is to construct a Naive Bayes model using a bag-of-words representation\n",
    "\n",
    "Feature vector $\\xx$ is $W$ long vector of word presence absence in an e-mail \n",
    "\n",
    "$$\n",
    "\\begin{aligned}\n",
    "p(y =1 ) &= \\pi  &&\\textrm{prior probability that message is spam} \\\\\n",
    "p(y = 0 ) &= 1-\\pi  &&\\textrm{prior probability that message is  not spam} \\\\\n",
    "p(x_{j}  = 1 \\given y=1) &= \\theta_{1,j} && \\textrm{ probability that word $j$ appears in a spam e-mail} \\\\\n",
    "p(x_{j}  = 0 \\given y=1) &= 1-\\theta_{1,j} && \\\\\n",
    "p(x_{j}  = 1 \\given y=0) &= \\theta_{0,j} && \\textrm{ probability that word $j$ appears in non-spam e-mail} \\\\\n",
    "p(x_{j}  = 0 \\given y=0) &= 1-\\theta_{0,j} && \n",
    "\\end{aligned}\n",
    "$$\n",
    "\n",
    "**<font color='red'> Q: What is the size of $\\pi$? </font>**\n",
    "\n",
    "**<font color='red'> Q: What is the size of $\\theta$? </font>**"
   ]
  },
  {
   "cell_type": "markdown",
   "metadata": {
    "slideshow": {
     "slide_type": "slide"
    }
   },
   "source": [
    "# Naive Bayes with Discrete Features -- Spam Filtering\n",
    "\n",
    "$$\n",
    "\\begin{aligned}\n",
    "p(y =1 ) &= \\pi  &&\\textrm{prior probability that message is spam} \\\\\n",
    "p(y =0 ) &= 1-\\pi  &&\\textrm{prior probability that message is  not spam} \\\\\n",
    "p(x_{j}  = 1 \\given y=1) &= \\theta_{1,j} && \\textrm{ probability that word $j$ appears in a spam e-mail} \\\\\n",
    "p(x_{j}  = 0 \\given y=1) &= 1-\\theta_{1,j} && \\textrm{ probability that word $j$ is absent in a spam e-mail}\\\\\n",
    "p(x_{j}  = 1 \\given y=0) &= \\theta_{0,j} && \\textrm{ probability that word $j$ is absent in non-spam e-mail} \\\\\n",
    "p(x_{j}  = 0 \\given y=0) &= 1-\\theta_{0,j} && \n",
    "\\end{aligned}\n",
    "$$\n",
    "\n",
    "More compactly for math purposes using Bernoulli distribution formulas\n",
    "\n",
    "$$\n",
    "\\begin{aligned}\n",
    "p(y) &= \\pi^y(1-\\pi)^{1-y}\\\\\n",
    "p(x_{j}\\given y) &= \\left[\\theta_{1,j}^{x_{j}}(1-\\theta_{1,j})^{1-x_{j}}\\right]^{y}\\left[\\theta_{0,j}^{x_{j}}(1-\\theta_{0,j})^{1-x_{j}}\\right]^{1-y}\n",
    "\\end{aligned}\n",
    "$$"
   ]
  },
  {
   "cell_type": "markdown",
   "metadata": {
    "slideshow": {
     "slide_type": "slide"
    }
   },
   "source": [
    "# Naive Bayes for Spam Filtering -- Joint Log-Likelihood\n",
    "\n",
    "$$\n",
    "\\begin{aligned}\n",
    "\\loglik(\\theta,\\pi\\given X,\\yy)&= \\sum_i \\left[\\log p(y_i\\given\\pi) + \\sum_j \\log p(x_{j,i}\\given y_i,\\theta_j) \\right]\\\\ =& \\underbrace{\\sum_{i=1}^N}_{\\textrm{samples}} \\left[ y_i\\log \\pi + (1-y_i)\\log (1-\\pi) \\right] + \\underbrace{\\sum_{i=1}^N}_{\\textrm{samples}} \\underbrace{\\sum_{j=1}^W}_{\\textrm{words}} y_i x_{i,j}\\log\\theta_{1,j} \\\\\n",
    "+& \\underbrace{\\sum_{i=1}^N}_{\\textrm{samples}} \\underbrace{\\sum_{j=1}^W}_{\\textrm{words}} y_i (1-x_{i,j})\\log(1-\\theta_{1,j}) + \\underbrace{\\sum_{i=1}^N}_{\\textrm{samples}} \\underbrace{\\sum_{j=1}^W}_{\\textrm{words}} (1-y_i) x_{i,j}\\log(\\theta_{0,j}) \\\\\n",
    "+& \\underbrace{\\sum_{i=1}^N}_{\\textrm{samples}} \\underbrace{\\sum_{j=1}^W}_{\\textrm{words}} (1-y_i) (1-x_{i,j})\\log(1-\\theta_{0,j}) \n",
    "\\end{aligned}\n",
    "$$\n",
    "\n",
    "Work out derivatives and updates for $\\pi$, $\\theta_{0,j}$, and $\\theta_{1,j}$ on the board"
   ]
  },
  {
   "cell_type": "markdown",
   "metadata": {
    "slideshow": {
     "slide_type": "slide"
    }
   },
   "source": [
    "# Naive Bayes for Spam Filtering -- Learning\n",
    "\n",
    "Given a training data with $N$ labeled e-mails, training a Naive Bayes spam model is accomplished using\n",
    "\n",
    "$$\n",
    "\\begin{aligned}\n",
    "\\pi &= \\frac{\\sum_{i=1}^N [y_i = 1]}{N} && \\textrm{frequency of spam e-mail in the training data}\\\\\n",
    "\\theta_{1,j} &=  \\frac{\\sum_{i=1}^N [y_i=1]x_{i,j}}{\\sum_{i=1}^N [y_i=1]} && \\textrm{freqency of word $j$ in spam e-mail}\\\\\n",
    "\\theta_{0,j} &=  \\frac{\\sum_{i=1}^N [y_i=0]x_{i,j}}{\\sum_{i=1}^N [y_i=0]} && \\textrm{frequency of word $j$ in non-spam e-mail}\\\\\n",
    "\\end{aligned}\n",
    "$$"
   ]
  },
  {
   "cell_type": "markdown",
   "metadata": {
    "slideshow": {
     "slide_type": "slide"
    }
   },
   "source": [
    "# Naive Bayes for Spam Filtering -- Prediction\n",
    "\n",
    "Prediction for a new e-mail given its bag-of-words representation $\\xx$\n",
    "\n",
    "$$\n",
    "\\begin{aligned}\n",
    "p(y = 1 \\given \\xx) &= \\frac{p(y=1, \\xx)}{p(\\xx)} = \\frac{p(y=1, \\xx)}{p(y=1,\\xx) + p(y=0,\\xx)}\n",
    "\\end{aligned}\n",
    "$$\n",
    "\n",
    "If interested only in the most likely label of a message represented by $\\xx$\n",
    "\n",
    "$$\n",
    "\\argmax_c \\log p(y=c, \\xx) = \\argmax_c \\log\\pi_c + \\sum_{j=1}^W  \\left[ x_{j}\\log\\theta_{c,j} + (1-x_{j})\\log(1 - \\theta_{c,j}) \\right]\n",
    "$$"
   ]
  },
  {
   "cell_type": "markdown",
   "metadata": {
    "slideshow": {
     "slide_type": "slide"
    }
   },
   "source": [
    "# Spam filtering -- Smoothing\n",
    "\n",
    "$$\n",
    "\\begin{aligned}\n",
    "\\pi &= \\frac{\\sum_{i=1}^N [y_i = 1]}{N} && \\textrm{frequency of spam e-mail in the training data}\\\\\n",
    "\\theta_{1,j} &=  \\frac{\\sum_{i=1}^N [y_i=1]x_{i,j}}{\\sum_{i=1}^N [y_i=1]} && \\textrm{freqency of word $j$ in spam e-mail}\\\\\n",
    "\\theta_{0,j} &=  \\frac{\\sum_{i=1}^N [y_i=0]x_{i,j}}{\\sum_{i=1}^N [y_i=0]} && \\textrm{frequency of word $j$ in non-spam e-mail}\\\\\n",
    "\\end{aligned}\n",
    "$$\n",
    "\n",
    "**<font color='red'> Q: What is the value of $\\theta_{1,j}$ if the word has never been seen in a spam e-mail in the dataset? Is this a problem? If so, why and how would you fix it? </font>**\n",
    "\n",
    "Uses Naive Bayes approach with smoothing -- even though a word has not been seen it does not have probability 0"
   ]
  },
  {
   "cell_type": "markdown",
   "metadata": {
    "slideshow": {
     "slide_type": "slide"
    }
   },
   "source": [
    "# Hyperparameters\n",
    "\n",
    "In penalized regression we added ridge term\n",
    "$$\n",
    "\\loglik(\\beta) - \\frac{\\lambda}{2} \\sum_{j>0}\\beta_j^2\n",
    "$$\n",
    "\n",
    "**<font color='red'> Q: How do we choose $\\lambda$? What happens if we try to maximize penalized log-likelihood with respect to $\\lambda$? </font>**\n",
    "\n",
    "**<font color='red'> Q: How do we choose which words to count in our document classifiers? All of them? Do we have enough samples? </font>**"
   ]
  },
  {
   "cell_type": "markdown",
   "metadata": {
    "slideshow": {
     "slide_type": "slide"
    }
   },
   "source": [
    "# Hyperparameters\n",
    "\n",
    "Hyperparameters, unlike parameters, typically constrain the model complexity to avoid overfitting\n",
    "\n",
    "Overfitting occurs when our performance on training set is optimistic compared to performance on test set\n",
    "\n",
    "<img src=\"./Images/tradeoff.png\" width=\"1000\" align=\"center\"/>\n"
   ]
  },
  {
   "cell_type": "markdown",
   "metadata": {
    "slideshow": {
     "slide_type": "slide"
    }
   },
   "source": [
    "# How do we Select Hyperparameters?\n",
    "\n",
    "One approach is to split the dataset into three parts:\n",
    "1. Training set\n",
    "2. Validation set\n",
    "3. Test set\n",
    "\n",
    "Training subset is used to train models for different settings of hyperparameters\n",
    "for example $\\lambda \\in \\{0.1,0.001,0.0001..\\}$\n",
    "\n",
    "Validation subset is used to evaluate accuracy of the different models we trained and\n",
    "select the best model\n",
    "\n",
    "Test set is used to compute the accuracy of the model selected on validation set\n",
    "\n",
    "**<font color='red'> Q: Why can't we just report accuracy of the best model on the validation set? </font>**"
   ]
  },
  {
   "cell_type": "markdown",
   "metadata": {
    "slideshow": {
     "slide_type": "slide"
    }
   },
   "source": [
    "# How do we Select Hyperparameters if the Dataset is Small?\n",
    "\n",
    "Splitting data into three parts makes sense on a large dataset, but can hurt your performance on a small dataset\n",
    "\n",
    "We can't look at the test set during training, but validation set seems to be just sitting around\n",
    "\n",
    "**<font color='red'> Q: Can we somehow use more of the training and validation data for training? What is the problem of leaving just one sample for validation? </font>**"
   ]
  },
  {
   "cell_type": "markdown",
   "metadata": {
    "slideshow": {
     "slide_type": "slide"
    }
   },
   "source": [
    "# The Idea: K-fold Cross-Validation\n",
    "\n",
    "First take out test data, then split the remaining data into $K$ parts and treat each part as validation while training on the rest\n",
    "\n",
    "An example of $5$-fold cross validation:\n",
    "\n",
    "0. Split data into disjoint subsets $\\Data = \\Data_1 \\cup \\Data_2 \\cup \\Data_3 \\cup \\Data_4 \\cup \\Data_5$\n",
    "1. Train on $\\Data_2 \\cup\\Data_3\\cup\\Data_4\\cup\\Data_5$ compute $\\textrm{Error}_1$ on $\\Data_1$ \n",
    "2. Train on $\\Data_1\\cup\\Data_3\\cup\\Data_4\\cup\\Data_5$ compute $\\textrm{Error}_2$ on $\\Data_2$ \n",
    "3. Train on $\\Data_1\\cup\\Data_2\\cup\\Data_4\\cup\\Data_5$ compute $\\textrm{Error}_3$ on $\\Data_3$ \n",
    "4. Train on $\\Data_1\\cup\\Data_2\\cup\\Data_3\\cup\\Data_5$ compute $\\textrm{Error}_4$ on $\\Data_4$ \n",
    "5. Train on $\\Data_1\\cup\\Data_2\\cup\\Data_3\\cup\\Data_4$ compute $\\textrm{Error}_5$ on $\\Data_5$ \n",
    "\n",
    "Report \n",
    "$$\n",
    "\\textrm{CVError} = \\frac{\\textrm{Error}_1 + \\textrm{Error}_2 + \\textrm{Error}_3 + \\textrm{Error}_4 + \\textrm{Error}_5}{5}\n",
    "$$"
   ]
  },
  {
   "cell_type": "markdown",
   "metadata": {
    "slideshow": {
     "slide_type": "slide"
    }
   },
   "source": [
    "# 5-Fold Cross Validation Example\n",
    "\n",
    "<img src=\"./Images/cv.png\" width=\"1000\" align=\"center\"/>\n",
    "\n",
    "Note: If we set $K = N$, then we get a method called **leave-one out cross validation**, or **LOOCV**"
   ]
  },
  {
   "cell_type": "markdown",
   "metadata": {
    "slideshow": {
     "slide_type": "slide"
    }
   },
   "source": [
    "# K-fold Cross-Validation for Linear Regression\n",
    "\n",
    "Foreach $i = 1 : K$\n",
    "\n",
    "1. Set $\\color{red}{Test = Set_{i}}$ and $\\color{blue}{Trian = \\bigcup_{i\\neq k} Set_{k}}$\n",
    "2. Learn $\\beta_0$ and $\\mathbf{\\beta}$ on $\\{(\\xx_{i},y_{i}): i\\in \\color{blue}{Train}\\}$ using $\\alpha$\n",
    "3. $CVErr_{i}(\\alpha) = \\sum_{i\\in\\color{red}{Test}}[(y_i - \\beta_0 - {\\xx_{i}}^{T}\\mathbf{\\beta})^2]$\n",
    "\n",
    "$CVErr(\\alpha) = \\frac{1}{n} \\sum_{k} CVErr_{k}(\\alpha)$\n",
    "\n",
    "**<font color='red'> For K-fold cross validation, what $K$ should be selected? </font>**"
   ]
  },
  {
   "cell_type": "markdown",
   "metadata": {
    "slideshow": {
     "slide_type": "fragment"
    }
   },
   "source": [
    "* **Larger $K$** means **less bias** towards overestimating the true expected error (as training folds will be closer to the total dataset) but **typically higher variance and higher running time** (as you are getting closer to the limit case: Leave-One-Out CV)\n",
    "* If cross-validation were averaging independent estimates, then with large $K$, one should see relatively lower variance between models; however, this is not true when training sets are highly correlated, which is what we typically deal with"
   ]
  },
  {
   "cell_type": "markdown",
   "metadata": {
    "slideshow": {
     "slide_type": "slide"
    }
   },
   "source": [
    "# Classification Performance -- Confusion Matrix\n",
    "\n",
    "Say we trained a classifier and want to see how well it works\n",
    "\n",
    "We can report a single number, accuracy, that tells us how often it is right\n",
    "\n",
    "However, this hides information about where the classifier fails\n",
    "\n",
    "Confusion matrix is given by:\n",
    "\n",
    "<img src=\"./Images/Table3.png\" width=\"1000\" align=\"center\"/>"
   ]
  },
  {
   "cell_type": "markdown",
   "metadata": {
    "slideshow": {
     "slide_type": "slide"
    }
   },
   "source": [
    "# Classification Performance -- Prediction Rate\n",
    "\n",
    "Sensitivity, Recall, or True Positive Rate (TPR) \n",
    "\n",
    "$$ \n",
    "TPR = \\frac{TP}{P} = \\frac{TP}{TP + FN} = 1 - FNR\n",
    "$$\n",
    "\n",
    "Specificity, Selectivity or True Negative Rate (TNR)\n",
    "\n",
    "$$ \n",
    "TNR = \\frac{TN}{N} = \\frac{TN}{TN + FP} = 1 - FPR\n",
    "$$\n",
    "\n",
    "False Positive Rate (FPR)\n",
    "$$ \n",
    "FPR = \\frac{FP}{N} = \\frac{FP}{TN + FP} = 1 - TNR\n",
    "$$\n",
    "\n",
    "False Negative Rate (FNR)\n",
    "$$ \n",
    "FNR = \\frac{FN}{P} = \\frac{FN}{TP + FN} = 1 - TPR\n",
    "$$\n",
    "\n",
    "These measures are computed from either +ve or -ve group, hence they don't depend on classes balance (prevalence = $\\frac{P}{P+N}$)"
   ]
  },
  {
   "cell_type": "markdown",
   "metadata": {
    "slideshow": {
     "slide_type": "slide"
    }
   },
   "source": [
    "Precision or Positive Predictive Value (PPV)\n",
    "\n",
    "$$ \n",
    "PPV = \\frac{TP}{TP+FP}\n",
    "$$\n",
    "\n",
    "Negative Predictive Value (NPV)\n",
    "\n",
    "$$\n",
    "NPV = \\frac{TN}{TN+FN}\n",
    "$$\n",
    "\n",
    "Accuracy (ACC)\n",
    "\n",
    "$$\n",
    "ACC = \\frac{TP+TN}{P+N} = \\frac{TP+TN}{TP + FN + TN + FP} \n",
    "$$\n",
    "\n",
    "These measures are computed from both +ve and -ve groups, hence they depend on classes balance (prevalence = $\\frac{P}{P+N}$)"
   ]
  },
  {
   "cell_type": "markdown",
   "metadata": {
    "slideshow": {
     "slide_type": "slide"
    }
   },
   "source": [
    "# Classification Performance -- ROC Curves\n",
    "\n",
    "Predictions are based on a cutoff\n",
    "\n",
    "$$\n",
    "p(y=1|\\xx)>\\tau\n",
    "$$\n",
    "where $\\tau$ is typically 0.5\n",
    "\n",
    "This particular cutoff will result in a specific prediction rates; however, you may prefer to tradeoff false positives for false negatives -- health industry does\n",
    "\n",
    "<img src=\"./Images/roc.gif\"  width=\"1200\" align=\"center\"/>"
   ]
  },
  {
   "cell_type": "markdown",
   "metadata": {
    "slideshow": {
     "slide_type": "slide"
    }
   },
   "source": [
    "# Classification Performance -- ROC Curves\n",
    "<img src=\"./Images/roc_curve.png\"  width=\"600\" align=\"center\"/>\n",
    "\n",
    "* A good ROC curve – hugs top left corner: high TPR, low FPR\n",
    "* A bad ROC curve – runs along diagonal: TPR equals the FPR"
   ]
  },
  {
   "cell_type": "markdown",
   "metadata": {
    "slideshow": {
     "slide_type": "slide"
    }
   },
   "source": [
    "# Area Under the ROC Curve (AUC)\n",
    "\n",
    "ROC Curve is good for assessing a single classifier, but less suited to comparing different classifiers\n",
    "\n",
    "A solution to this is to use the area under the curve (AUC) to describe the curve with a single number\n",
    "\n",
    "<img src=\"./Images/roc_curve_2.png\"  width=\"800\" align=\"center\"/>\n"
   ]
  },
  {
   "cell_type": "markdown",
   "metadata": {
    "slideshow": {
     "slide_type": "slide"
    }
   },
   "source": [
    "# Probabilistic Interpretation of AUC\n",
    "\n",
    "**AUC Interpretation:** AUC is the probability of correct ranking of a random \"positive\"-\"negative\" pair\n",
    "\n",
    "* So, given a randomly chosen observation $x_{1}$ belonging to class 1, and a randomly chosen observation $x$ belonging to class 0, the AUC is the probability that the evaluated classification algorithm will assign a higher score to $x$ than to $x_{2}$, i.e., the conditional probability of $p(y=1|x_{1}) > p(y=1|x_{2})$\n",
    "\n",
    "**AUC Computation:** Among all \"positive\"-\"negative\" pairs in the dataset compute the proportion of those which are ranked correctly by the evaluated classification algorithm\n",
    "\n",
    "$$\n",
    "\\hat{AUC} = \\frac{1}{P \\times N} \\sum_{i = 1}^{P} \\sum_{j = 1}^{N} [p(y=1|x_{i}) > p(y=1|x_{j})]\n",
    "$$\n",
    "\n"
   ]
  },
  {
   "cell_type": "markdown",
   "metadata": {
    "slideshow": {
     "slide_type": "slide"
    }
   },
   "source": [
    "# Today\n",
    "* Naive Bayes with Gaussian features\n",
    "* Naive Bayes with Bernoulli features\n",
    "* Hyperaparameter selection\n",
    "* K-fold Cross-validation \n",
    "* Prediction rates, confusion matrix and ROC curves"
   ]
  }
 ],
 "metadata": {
  "anaconda-cloud": {},
  "celltoolbar": "Slideshow",
  "kernelspec": {
   "display_name": "Python 3",
   "language": "python",
   "name": "python3"
  },
  "language_info": {
   "codemirror_mode": {
    "name": "ipython",
    "version": 3
   },
   "file_extension": ".py",
   "mimetype": "text/x-python",
   "name": "python",
   "nbconvert_exporter": "python",
   "pygments_lexer": "ipython3",
   "version": "3.7.3"
  }
 },
 "nbformat": 4,
 "nbformat_minor": 1
}
