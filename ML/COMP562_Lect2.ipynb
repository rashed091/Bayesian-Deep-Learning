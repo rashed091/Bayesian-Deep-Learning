{
 "cells": [
  {
   "cell_type": "markdown",
   "metadata": {
    "slideshow": {
     "slide_type": "slide"
    }
   },
   "source": [
    "# <center> COMP 562 : Inroduction to Machine Learning </center>\n",
    "## <center> <font color='red'>Lecture 2 : Probability Review, Likelihood, and Parameter Optimization </font> </center> \n",
    "### <center> Mahmoud Mostapha </center> \n",
    "### <center> Department of Computer Science -- UNC Chapel Hill</center>\n",
    "###  <center> August 27, 2018 </center>"
   ]
  },
  {
   "cell_type": "markdown",
   "metadata": {
    "slideshow": {
     "slide_type": "slide"
    }
   },
   "source": [
    "# COMP 562 – Lecture 2\n",
    "\n",
    "\n",
    "## Plan for today\n",
    "\n",
    "* We will review some of the probability theory you have seen before\n",
    "\n",
    "* Then we will dive into fitting our first model by maximizing likelihood\n",
    "\n",
    "* Throughout the course, you will see the same blueprint over and over again"
   ]
  },
  {
   "cell_type": "markdown",
   "metadata": {
    "slideshow": {
     "slide_type": "slide"
    }
   },
   "source": [
    "# Samples Space, Events, and Probabilities\n",
    "\n",
    "* Sample space ($\\Omega$) \n",
    "\n",
    "* Event $A \\subset \\Omega$ \n",
    "\n",
    "* Probabilty of an event $0\\leq p(A) \\leq 1$\n",
    "\n",
    "* $p(\\Omega) = 1$, $p(\\emptyset) = 0$, $p(A^{c}) = 1 - p(A)$"
   ]
  },
  {
   "cell_type": "markdown",
   "metadata": {
    "slideshow": {
     "slide_type": "slide"
    }
   },
   "source": [
    "# Discrete Random Variables\n",
    "\n",
    "Random variable $X$ takes on values from a state space with some probability\n",
    "\n",
    "* Heads or tails, $X \\in \\{\\textrm{heads},\\textrm{tails}\\}$\n",
    "* Roll of a die, $X \\in \\{1,2,3,4,5,6\\}$\n",
    "* Even or odd roll of a die, $X \\in \\{\\textrm{even},\\textrm{odd}\\}$\n",
    "\n",
    "Probability of random variable $X$ assuming particular value $x$\n",
    "\n",
    "$$ \n",
    "p(X = x) \\, \\textrm{or just} \\, p(x) \\, \\textrm{for short} \n",
    "$$"
   ]
  },
  {
   "cell_type": "markdown",
   "metadata": {
    "slideshow": {
     "slide_type": "slide"
    }
   },
   "source": [
    "# Basic Probabilty Rules\n",
    "## Union\n",
    "$$\n",
    "\\begin{aligned}\n",
    "    p (A \\vee B) &= p(A) + p(B) - p(A \\wedge B)& \\\\\n",
    "    &= p(A) + p(B) &(\\textrm{if } A  \\cap  B = \\emptyset)\n",
    "\\end{aligned}\n",
    "$$"
   ]
  },
  {
   "cell_type": "markdown",
   "metadata": {
    "slideshow": {
     "slide_type": "fragment"
    }
   },
   "source": [
    "\n",
    "$$\n",
    "p(\\textrm{\"Die rolled 1\"} \\vee \\textrm{\"Die rolled 6\"}) = p(\\textrm{\"Die rolled 1\"}) + p(\\textrm{\"Die rolled 6\"})\n",
    "$$"
   ]
  },
  {
   "cell_type": "markdown",
   "metadata": {
    "slideshow": {
     "slide_type": "slide"
    }
   },
   "source": [
    "## Joint and Conditional Probabilities\n",
    "\n",
    "Joint probability:\n",
    "\n",
    "$$\n",
    "p(A, B) = p(A \\wedge B)\n",
    "$$\n",
    "\n",
    "\n",
    "Factoring joint probability (**product rule**):\n",
    "\n",
    "$$    \n",
    "p(A, B) = p(A|B)p(B) = p(B|A)p(A)\n",
    "$$\n",
    "\n",
    "Read $p(A|B)$ as: \"What is the probability of event $A$ given that we know that $B$ occurred?\"\n",
    "\n",
    "Or simply, **probability of A given B**"
   ]
  },
  {
   "cell_type": "markdown",
   "metadata": {
    "slideshow": {
     "slide_type": "slide"
    }
   },
   "source": [
    "## Joint and Conditional Probabilities\n",
    "\n",
    "The product rule can be applied multiple times to yield the **chain rule** of probability:\n",
    "\n",
    "$$\n",
    "p(X_1,X_2,X_3,...,X_n) = p(X_1)p(X_2,X_3,...,X_n|X_1)\n",
    "\\\\ \\\\= p(X_1)p(X_2|X_1)p(X_3|X_2,X_1) ... p(X_n|X_{1:n-1})\n",
    "$$\n",
    "\n",
    "where $X_{1:n-1}$ is shorthand for $X_1,X_2,...,X_{n-1}$\n",
    "\n",
    "Conditional probabilities will be key in building complex models"
   ]
  },
  {
   "cell_type": "markdown",
   "metadata": {
    "slideshow": {
     "slide_type": "slide"
    }
   },
   "source": [
    "## Marginal Probabilities\n",
    "\n",
    "Given a joint distribution on two events $p(A,B)$, we define the marginal distribution as follows:\n",
    "\n",
    "$$\n",
    "p(A) = \\sum_b p(A,B=b) = \\sum_b p(A|B=b)p(B=b).\n",
    "$$\n",
    "\n",
    "This is sometimes called the **sum rule** or the **rule of total probability**"
   ]
  },
  {
   "cell_type": "markdown",
   "metadata": {
    "slideshow": {
     "slide_type": "slide"
    }
   },
   "source": [
    "## Bayes Rule\n",
    "\n",
    "Combining the definition of conditional probability with the product and sum rules yields **Bayes\n",
    "rule**, also called **Bayes Theorem**\n",
    "\n",
    "$$\n",
    "p(B|A) = \\frac{p(A,B)}{p(A)} = \\frac{p(A|B)p(B)}{p(A)} = \\frac{p(A|B)p(B)}{\\sum_b p(A|B=b)p(B=b)}\n",
    "$$\n",
    "\n",
    "Crucial for learning and inference\n",
    "\n"
   ]
  },
  {
   "cell_type": "markdown",
   "metadata": {
    "slideshow": {
     "slide_type": "slide"
    }
   },
   "source": [
    "## Probabilities Sum to 1\n",
    "\n",
    "Remember that for some discrete random variable $A$ with state space $\\mathcal{A}$ \n",
    "\n",
    "$$\n",
    "\\sum_{a \\in \\mathcal{A}}  p(A=a) = 1 \n",
    "$$"
   ]
  },
  {
   "cell_type": "markdown",
   "metadata": {
    "slideshow": {
     "slide_type": "fragment"
    }
   },
   "source": [
    "Further\n",
    "$$\n",
    "\\sum_{a \\in \\mathcal{A}}  p(A=a|B) = 1 \n",
    "$$\n",
    "and also\n",
    "$$\n",
    "\\sum_{a \\in \\mathcal{A}}  p(A=a|B,C) = 1 \n",
    "$$"
   ]
  },
  {
   "cell_type": "markdown",
   "metadata": {
    "slideshow": {
     "slide_type": "fragment"
    }
   },
   "source": [
    "but \n",
    "$$\n",
    "\\sum_{a \\in \\mathcal{A}}  p(A=a,B|C) \\neq 1 \n",
    "$$"
   ]
  },
  {
   "cell_type": "markdown",
   "metadata": {
    "slideshow": {
     "slide_type": "slide"
    }
   },
   "source": [
    "However,\n",
    "\n",
    "$$\n",
    "\\sum_{a \\in \\mathcal{A}}\\sum_{b \\in \\mathcal{B}}  p(A=a,B=b|C)  = 1 \n",
    "$$\n",
    "\n",
    "Hence, sum across all possible assignments to random variables on the left side of the bar will be one\n",
    "\n",
    "$$\n",
    "\\sum_{a \\in \\mathcal{A}} ... \\sum_{X \\in \\mathcal{X}} p(A=a,B=b,...,X=x|Y=y) = 1\n",
    "$$\n"
   ]
  },
  {
   "cell_type": "markdown",
   "metadata": {
    "slideshow": {
     "slide_type": "slide"
    }
   },
   "source": [
    "## Marginalization\n",
    "\n",
    "Joint probabilities usually involve all of the variables in your model\n",
    "\n",
    "$$\n",
    "p(X,Y,Z) \n",
    "$$\n",
    "\n",
    "Examples of Marginal probabilities that can be obtained from this joint probability\n",
    "\n",
    "$$ p(X) = \\sum_{y}\\sum_{z} p(X,Y=y,Z=z)$$\n",
    "\n",
    "$$ p(Y) = \\sum_{x}\\sum_{z} p(X=x,Y, Z=z) $$\n",
    "\n",
    "$$ p(X,Z) = \\sum_{y} p(X,Y=y,Z) $$\n",
    "\n",
    "Operation of computing the marginal probability is called **marginalization**\n"
   ]
  },
  {
   "cell_type": "markdown",
   "metadata": {
    "slideshow": {
     "slide_type": "slide"
    }
   },
   "source": [
    "# A Simple Probabilitic Model\n",
    "\n",
    "Two random variables $LW \\in \\{0,1\\}$ and $R \\in \\{0,1\\}$\n",
    "\n",
    "* LW = 0, lawn is dry, LW = 1, lawn is wet\n",
    "* R = 0, no rain, R = 1, rain\n",
    "\n",
    "$$\n",
    "p(R=0) = 0.9\\\\\n",
    "p(R=1) = ?\n",
    "$$\n",
    "and\n",
    "$$\n",
    "\\begin{aligned}\n",
    "p(LW=0|R=0) = 0.75& & p(LW=0|R=1) = 0.05\\\\\n",
    "p(LW=1|R=0) = 0.25& & p(LW=1|R=1) = 0.95 \n",
    "\\end{aligned}\n",
    "$$"
   ]
  },
  {
   "cell_type": "code",
   "execution_count": 1,
   "metadata": {
    "slideshow": {
     "slide_type": "fragment"
    }
   },
   "outputs": [
    {
     "name": "stdout",
     "output_type": "stream",
     "text": [
      "Sanity check:\n",
      "p(LW=0|R=0) + p(LW=1|R=0) = 1.0\n",
      "p(LW=0|R=1) + p(LW=1|R=1) = 1.0\n"
     ]
    }
   ],
   "source": [
    "p_r = [0.9, 0.1]          # probability of rain must sum up to 1\n",
    "p_l_r = [ [0.75, 0.05],   # p(LW=0 | R=0 )=0.75    p(LW = 0| R=1 )=0.05\n",
    "          [0.25, 0.95] ]  # p(LW=1 | R=0 )=0.25    p(LW = 1| R=1 )=0.95\n",
    "print \"Sanity check:\"\n",
    "print \"p(LW=0|R=0) + p(LW=1|R=0) =\", p_l_r[0][0] + p_l_r[1][0]\n",
    "print \"p(LW=0|R=1) + p(LW=1|R=1) =\", p_l_r[0][1] + p_l_r[1][1]"
   ]
  },
  {
   "cell_type": "markdown",
   "metadata": {
    "slideshow": {
     "slide_type": "slide"
    }
   },
   "source": [
    "# A simple probabilitic model\n",
    "\n",
    "Let's express **marginal probability** $p(LW)$ using $p(LW|R)$ and $p(R)$:\n",
    "\n",
    "$$\n",
    "P(LW) = \\sum_{r \\in \\{0,1\\}} p(LW|R = r) p(R = r)\n",
    "$$\n"
   ]
  },
  {
   "cell_type": "code",
   "execution_count": 2,
   "metadata": {
    "slideshow": {
     "slide_type": "fragment"
    }
   },
   "outputs": [
    {
     "name": "stdout",
     "output_type": "stream",
     "text": [
      "Probability of lawn not being wet 0.68\n",
      "Probability of lawn being wet 0.32\n",
      "Sanity check: p(L=0) + p(L=1) = 1.0\n"
     ]
    }
   ],
   "source": [
    "p_l = [0,0] # preallocate for ease\n",
    "\n",
    "p_l[0] = p_l_r[0][1]*p_r[1] + p_l_r[0][0]*p_r[0]\n",
    "print \"Probability of lawn not being wet\", p_l[0]\n",
    "\n",
    "p_l[1] =  p_l_r[1][0]*p_r[0] + p_l_r[1][1]*p_r[1]\n",
    "print \"Probability of lawn being wet\", p_l[1]\n",
    "print \"Sanity check: p(L=0) + p(L=1) =\", p_l[0] + p_l[1]"
   ]
  },
  {
   "cell_type": "markdown",
   "metadata": {
    "slideshow": {
     "slide_type": "slide"
    }
   },
   "source": [
    "# Commonly Used Discrete Distributions \n",
    "\n",
    "We will look at following distributions\n",
    "* Bernoulli (coin toss) \n",
    "* Categorical (die roll)\n",
    "* Binomial (counts of heads and tails after multiple tosses)\n",
    "* Multinomial (counts of different sides of dies after multiple rolls)"
   ]
  },
  {
   "cell_type": "markdown",
   "metadata": {
    "slideshow": {
     "slide_type": "slide"
    }
   },
   "source": [
    "# Commonly Used Discrete Distributions -- Bernoulli\n",
    "\n",
    "We will use $\\sim$ to indicate that a random variable is assumes values according to a distribution $ X \\sim \\textrm{Bernoulli}(\\theta)$\n",
    "\n",
    "Each of the distributions has **parameters** -- $\\theta$ above\n",
    "\n",
    "To indicate dependence of random variables on parameters we will add parameters behind the conditioning bar \n",
    "\n",
    "$$\n",
    "p(X|\\theta)\n",
    "$$\n"
   ]
  },
  {
   "cell_type": "markdown",
   "metadata": {
    "slideshow": {
     "slide_type": "slide"
    }
   },
   "source": [
    "# Commonly Used Discrete Distributions -- Bernoulli\n",
    "\n",
    "\n",
    "Bernoulli distributed random variable X will be denoted as\n",
    "\n",
    "$$\n",
    "X \\sim \\textrm{Bernoulli}(\\theta)\n",
    "$$\n",
    "\n",
    "State space is $\\{0,1\\}$ -- think coin toss, parameter $\\theta \\in [0,1]$ specifies probability of one of the outcomes\n",
    "\n",
    "$$\n",
    "\\begin{aligned}\n",
    "p(X = 1|\\theta) &= \\theta \\\\\n",
    "p(X = 0|\\theta) &= 1 - \\theta.\n",
    "\\end{aligned}\n",
    "$$\n",
    "\n",
    "Note that we can write this out more compactly as:\n",
    "\n",
    "$$\n",
    "p(X = x|\\theta) = \\theta^x(1-\\theta)^{1-x}\n",
    "$$"
   ]
  },
  {
   "cell_type": "markdown",
   "metadata": {
    "collapsed": true,
    "slideshow": {
     "slide_type": "slide"
    }
   },
   "source": [
    "# Commonly Used Discrete Distributions -- Categorical\n",
    "\n",
    "Categorical distribution is a generalization of Bernoulli to more than two outcomes -- rollin a $k$-sided die\n",
    "\n",
    "$$\n",
    "X \\sim \\textrm{Categorical}(\\theta_1,\\theta_2,...,\\theta_{k-1})\n",
    "$$\n",
    "\n",
    "State space is $\\{1,2,3,...,k\\}$. Parameters $\\theta_1,..\\theta_{k-1}$ specify probability of outcomes $1,...k-1$\n",
    "\n",
    "$$\n",
    "\\begin{aligned}\n",
    "p(X = 1|\\theta_1,..\\theta_{k-1}) &= \\theta_1 \\\\\n",
    "p(X = 2|\\theta_1,..\\theta_{k-1}) &= \\theta_2 \\\\\n",
    "...\\\\\n",
    "p(X = k-1|\\theta_1,..\\theta_{k-1}) &= \\theta_2 \\\\\n",
    "p(X = k|\\theta_1,..\\theta_{k-1}) &= 1 - \\sum_{i=1}^{k-1} \\theta_{k-1} = \\theta_k\n",
    "\\end{aligned}\n",
    "$$\n",
    "\n",
    "We note that $\\theta_k$ is not a parameter but rather computed from parameters for convience"
   ]
  },
  {
   "cell_type": "markdown",
   "metadata": {
    "slideshow": {
     "slide_type": "slide"
    }
   },
   "source": [
    "# Commonly Used Discrete Distributions -- Binomial and Multinomial\n",
    "\n",
    "Binomial and Multinomial distributions are generalizations of Bernoulli and Categorical distributrions\n",
    "\n",
    "Instead of a single trial, a coin toss or die roll, we consider outcomes across multiple trials, multiple coin tosses and die rolls\n",
    "\n",
    "$$\n",
    "\\begin{aligned}\n",
    "X &\\sim \\textrm{Binomial}(n,\\theta)\\\\ \\\\\n",
    "p(X = k|n,\\theta) &= \\binom{n}{k}\\theta^k(1-\\theta)^{n-k}\n",
    "\\end{aligned}\n",
    "$$\n",
    "\n",
    "where\n",
    "\n",
    "$$\n",
    "\\binom{n}{k} = \\frac{n!}{(n-k)!k!}\n",
    "$$"
   ]
  },
  {
   "cell_type": "markdown",
   "metadata": {
    "slideshow": {
     "slide_type": "slide"
    }
   },
   "source": [
    "A random variable distributed according to Multinomial distribution is a vector of counts\n",
    "\n",
    "For example, count of 1s, 2s, 3s, 4s, 5s, 6s observed after multiple six dies rolls\n",
    "\n",
    "$$\n",
    "\\begin{aligned}\n",
    "X = (X_1,X_2,...,X_k) &\\sim \\textrm{Multinomial}(n,\\theta)\\\\\n",
    "p(X = \\mathbf{x}|n,\\theta) &= \\binom{n}{x_1\\dots x_k }\\prod_{j=1}^k\\theta_j^{x_j}\n",
    "\\end{aligned}\n",
    "$$\n",
    "\n",
    "where\n",
    "\n",
    "$$\n",
    "\\binom{n}{x_1\\dots x_k } = \\frac{n!}{x_1!x_2!\\cdots x_k!}\n",
    "$$"
   ]
  },
  {
   "cell_type": "code",
   "execution_count": 3,
   "metadata": {
    "scrolled": true,
    "slideshow": {
     "slide_type": "slide"
    }
   },
   "outputs": [
    {
     "name": "stdout",
     "output_type": "stream",
     "text": [
      "Theta =  [0.2, 0.2, 0.2, 0.2, 0.2]\n",
      "[2 5 1 3 1 4 1 2 1 2 3 1 5 5 3 3 4 2 2 4 2 3 2 1 1 5 1 3 1 2 1 3 5 1 1 2 5\n",
      " 1 5 1 4 4 1 5 3 4 2 5 1 1 3 3 1 4 1 5 3 2 4 3 2 5 1 2 4 5 4 1 4 5 3 5 2 4\n",
      " 5 2 2 1 1 2 3 4 5 3 3 5 5 1 4 1 2 5 2 2 4 1 5 3 3 5]\n"
     ]
    },
    {
     "data": {
      "text/plain": [
       "Text(0,0.5,'count')"
      ]
     },
     "execution_count": 3,
     "metadata": {},
     "output_type": "execute_result"
    },
    {
     "data": {
      "image/png": "[encoded data removed]",
      "text/plain": [
       "<Figure size 432x288 with 1 Axes>"
      ]
     },
     "metadata": {},
     "output_type": "display_data"
    }
   ],
   "source": [
    "import numpy\n",
    "import matplotlib.pyplot as plt\n",
    "%matplotlib inline  \n",
    "theta = [1.0/5.0]*5 # this makes an array of length 5 with entries all being 1.0/5.0\n",
    "print \"Theta = \", theta\n",
    "state_space = [1,2,3,4,5]\n",
    "x = numpy.random.choice(state_space,size=100,p=theta)\n",
    "print x\n",
    "plt.hist(x,bins=[0.5,1.5,2.5,3.5,4.5,5.5],align='mid')\n",
    "plt.xlabel('X')\n",
    "plt.ylabel('count')"
   ]
  },
  {
   "cell_type": "code",
   "execution_count": 4,
   "metadata": {
    "slideshow": {
     "slide_type": "slide"
    }
   },
   "outputs": [
    {
     "name": "stdout",
     "output_type": "stream",
     "text": [
      "Theta =  [0.1, 0.5, 0.2, 0.01, 0.19]\n",
      "Counts of different outcomes across n = 20 trials: [4 5 6 0 5]\n",
      "Counts of different outcomes across n = 20 trials: [ 0 10  6  0  4]\n",
      "Counts of different outcomes across n = 20 trials: [ 2 12  4  0  2]\n",
      "Counts of different outcomes across n = 20 trials: [ 0 13  3  0  4]\n",
      "Counts of different outcomes across n = 20 trials: [ 1 12  5  0  2]\n"
     ]
    }
   ],
   "source": [
    "import numpy\n",
    "import matplotlib.pyplot as plt\n",
    "%matplotlib inline  \n",
    "theta = [0.1,0.5,0.2,0.01,0.19] \n",
    "assert(abs(numpy.sum(theta) - 1.0)<1e-10) # why abs(... - ...)<1e-10?\n",
    "print \"Theta = \", theta\n",
    "n = 20;\n",
    "for i in range(5):\n",
    "    x = numpy.random.multinomial(n,theta)\n",
    "    print \"Counts of different outcomes across n =\", n, \"trials:\", x\n"
   ]
  },
  {
   "cell_type": "markdown",
   "metadata": {
    "slideshow": {
     "slide_type": "slide"
    }
   },
   "source": [
    "# Intermission\n",
    "\n",
    "* Probabilities and their representations: tables vs analytic specification\n",
    "\n",
    "* Everything thus far was generative in nature: given parameters generate data\n",
    "\n",
    "* Learning works in the opposite direction: find thetas that explain the data\n",
    "\n",
    "* When working with discrete probabilities make sure that things \"add up\"\n",
    "\n",
    "* We will frequently use marginalization and Bayes rule since they are crucial in inference\n",
    "\n"
   ]
  },
  {
   "cell_type": "markdown",
   "metadata": {
    "slideshow": {
     "slide_type": "slide"
    }
   },
   "source": [
    "# Continuous Distributions\n",
    "\n",
    "Continous distributions spread their probability across infinite sets of possible outcomes (think real values)\n",
    "\n",
    "As a consequence, we can no longer simply sum over possible outcomes, but rather we integrate over the domain of the random variable\n",
    "\n",
    "$$\n",
    "\\int_x p(X = x) dx = 1\n",
    "$$\n",
    "\n",
    "Marginalization\n",
    "\n",
    "$$\n",
    "p(A) = \\int_b p(A,B=b) db \n",
    "$$\n",
    "\n",
    "Bayes rule:\n",
    "\n",
    "$$\n",
    "p(B|A) = \\frac{p(A,B)}{p(A)} = \\frac{p(A|B)p(B)}{p(A)} = \\frac{p(A|B)p(B)}{\\int_b p(A|B=b)p(B=b) db}\n",
    "$$"
   ]
  },
  {
   "cell_type": "markdown",
   "metadata": {
    "slideshow": {
     "slide_type": "slide"
    }
   },
   "source": [
    "# Commonly Used Continuous Distributions -- Gaussian\n",
    "\n",
    "$X$ is distributed according to normal (or Gaussian) distribution with mean $\\mu$ and variance $\\sigma^2$\n",
    "\n",
    "$$ \n",
    "\\begin{aligned}\n",
    "X &\\sim \\mathcal{N}(\\mu,\\sigma^2) \\\\ \\\\\n",
    "p(X = x|\\mu,\\sigma^2)&= \\frac{1}{\\sqrt{2\\pi\\sigma^2}} e^{-\\frac{1}{2\\sigma^2}(x-\\mu)^2}\n",
    "\\end{aligned}\n",
    "$$\n",
    "\n",
    "Note that the variance is $\\sigma^2$ and standard deviation is $\\sigma$\n",
    "\n",
    "**<font color='red'> The Gaussian distribution is the most widely used distribution in statistics, Why? </font>**"
   ]
  },
  {
   "cell_type": "code",
   "execution_count": 5,
   "metadata": {
    "slideshow": {
     "slide_type": "slide"
    }
   },
   "outputs": [
    {
     "name": "stdout",
     "output_type": "stream",
     "text": [
      "Mean: 0.9929806419525169 Standard Deviation: 0.995104881300027\n",
      "Mean: 9.997294832402066 Standard Deviation: 1.019005894416569\n",
      "Mean: -7.0491992864591895 Standard Deviation: 2.029047018691665\n"
     ]
    },
    {
     "data": {
      "text/plain": [
       "<matplotlib.legend.Legend at 0x79efcc0>"
      ]
     },
     "execution_count": 5,
     "metadata": {},
     "output_type": "execute_result"
    },
    {
     "data": {
      "image/png": "[encoded data removed]",
      "text/plain": [
       "<Figure size 432x288 with 1 Axes>"
      ]
     },
     "metadata": {},
     "output_type": "display_data"
    }
   ],
   "source": [
    "import numpy\n",
    "import matplotlib.pyplot as plt\n",
    "%matplotlib inline  \n",
    "mus =    [1.0,10.0,-7.0]\n",
    "sigmas = [1.0, 1.0, 2.0]\n",
    "for (mu,sigma) in zip(mus,sigmas):\n",
    "    x = numpy.random.normal(mu,sigma,2000)\n",
    "    print \"Mean: \" + str(numpy.mean(x)) + \" Standard Deviation: \" + str(numpy.std(x))\n",
    "    plt.xlim(-15,15)\n",
    "    plt.hist(x,40,density=True,label='mu:'+str(mu)+' sigma:'+str(sigma))\n",
    "\n",
    "plt.legend(bbox_to_anchor=(1.05, 1), loc=2)"
   ]
  },
  {
   "cell_type": "markdown",
   "metadata": {
    "slideshow": {
     "slide_type": "slide"
    }
   },
   "source": [
    "# Commonly Used Continuous Distributions -- Laplace\n",
    "\n",
    "\n",
    "$X$ is distributed according to Laplace distribution with location $\\mu$ and scale $b$\n",
    "\n",
    "$$ \n",
    "\\begin{aligned}\n",
    "X &\\sim \\textrm{Laplace}(\\mu,b) \\\\ \\\\\n",
    "p(X = x|\\mu,b))&= \\frac{1}{2b}\\exp{\\left\\{-\\frac{|x - \\mu|}{b}\\right\\}} \\\\\n",
    "\\end{aligned}\n",
    "$$\n",
    "\n",
    "Location and scale are analogous to mean and variance in normal distribution\n",
    "\n",
    "Note:for Laplace distibution: mean = $\\mu$ and variance is = $2b^2$"
   ]
  },
  {
   "cell_type": "code",
   "execution_count": 6,
   "metadata": {
    "slideshow": {
     "slide_type": "slide"
    }
   },
   "outputs": [
    {
     "name": "stdout",
     "output_type": "stream",
     "text": [
      "Location: 1.0048758907857347 Scale: 0.9681543549640969\n",
      "Location: 10.016527289435839 Scale: 0.9818575421907466\n",
      "Location: -7.04562336330534 Scale: 1.94532927715726\n"
     ]
    },
    {
     "data": {
      "text/plain": [
       "<matplotlib.legend.Legend at 0x7a4de10>"
      ]
     },
     "execution_count": 6,
     "metadata": {},
     "output_type": "execute_result"
    },
    {
     "data": {
      "image/png": "[encoded data removed]",
      "text/plain": [
       "<Figure size 432x288 with 1 Axes>"
      ]
     },
     "metadata": {},
     "output_type": "display_data"
    }
   ],
   "source": [
    "import numpy\n",
    "import matplotlib.pyplot as plt\n",
    "%matplotlib inline  \n",
    "locs =    [1.0,10.0,-7.0]\n",
    "scales = [1.0, 1.0, 2.0]\n",
    "for (loc,scale) in zip(locs,scales):\n",
    "    x = numpy.random.laplace(loc,scale,2000)\n",
    "    print \"Location: \" + str(numpy.mean(x)) + \" Scale: \" + str(numpy.sqrt(numpy.var(x)/2))    \n",
    "    plt.hist(x,50,density=True,label=\"Location: \"+str(loc)+' Scale:'+str(scale))\n",
    "    plt.xlim(-15,15)\n",
    "\n",
    "plt.legend(bbox_to_anchor=(1.05, 1), loc=2)"
   ]
  },
  {
   "cell_type": "markdown",
   "metadata": {
    "slideshow": {
     "slide_type": "slide"
    }
   },
   "source": [
    "# Parameters and Likelihood Function\n",
    "\n",
    "Say we performed $N$ coin tosses and obtained a sequence of heads and tails\n",
    "\n",
    "$$\n",
    "\\mathbf{x} = \\{1,0,1,1,0,1,1,0...\\}\n",
    "$$\n",
    "\n",
    "**<font color='red'> Q: If we wanted to predict the result of the next coin toss what should we do? </font>**"
   ]
  },
  {
   "cell_type": "markdown",
   "metadata": {
    "slideshow": {
     "slide_type": "slide"
    }
   },
   "source": [
    "# Parameters and Likelihood Function\n",
    "\n",
    "Each of the coin tosses can be thought of as a realization of a random variable\n",
    "\n",
    "Hence we can write probability of the data $\\mathbf{x}$\n",
    "\n",
    "$$\n",
    "p(\\mathbf{x}|\\theta) = \\prod_{i=1}^N p(X = x_i|\\theta) = \\prod_{i=1}^N \\theta^{x_i}(1-\\theta)^{1-x_i}\n",
    "$$\n",
    "\n",
    "Pluging in different $\\theta$s give different probability of the data\n",
    "\n",
    "**<font color='red'> Q: Could this help us figure out what the next toss could be? </font>**"
   ]
  },
  {
   "cell_type": "code",
   "execution_count": 7,
   "metadata": {
    "slideshow": {
     "slide_type": "slide"
    }
   },
   "outputs": [
    {
     "name": "stdout",
     "output_type": "stream",
     "text": [
      "Number of heads:  11\n",
      "Number of tails:  15\n",
      "7.61830655495e-09\n",
      "1.49011611938e-08\n",
      "2.02946410945e-08\n"
     ]
    }
   ],
   "source": [
    "def likelihood(theta,xs):\n",
    "    p = 1.0\n",
    "    for x in xs:\n",
    "        p = p*(theta**x * (1-theta)**(1-x))\n",
    "    return p\n",
    "\n",
    "xs = [0,1,0,0,1,0,1,0,1,0,0,0,1,0,0,1,0,0,1,0,1,0,0,1,1,1]\n",
    "n_heads = numpy.sum(xs)  #  since count of ones is the same as sum of all entries in xs\n",
    "n_tails = len(xs) - n_heads \n",
    "print 'Number of heads: ', n_heads\n",
    "print 'Number of tails: ', n_tails\n",
    "print likelihood(0.56,xs)\n",
    "print likelihood(0.5,xs)\n",
    "print likelihood(11.0/26.0,xs)"
   ]
  },
  {
   "cell_type": "markdown",
   "metadata": {
    "slideshow": {
     "slide_type": "slide"
    }
   },
   "source": [
    "# Parameters and Likelihood Function\n",
    "\n",
    "Hence, we can try to find parameter $\\theta$ for which $p(\\mathbf{x}|\\theta)$ is the largest\n",
    "\n",
    "$p(\\mathbf{x}|\\theta)$ can be seen as a function of **parameter** $\\theta$\n",
    "\n",
    "This function is called *likelihood* \n",
    "\n",
    "$$\n",
    "\\mathcal{L(\\theta|\\mathbf{x})} = p(\\mathbf{x}|\\theta)\n",
    "$$\n",
    "\n",
    "$\\theta$ which results in the largest likelihood is called **maximum-likelihood estimate**\n",
    "\n",
    "In many cases, learning is nothing more than maximizing likelihood"
   ]
  },
  {
   "cell_type": "markdown",
   "metadata": {
    "slideshow": {
     "slide_type": "slide"
    }
   },
   "source": [
    "# Specifying Optimization Problems\n",
    "\n",
    "Optimization problems such as finding maximum of likelihood are typically written in a particular form\n",
    "\n",
    "Maximization problem:\n",
    "$$\n",
    "\\begin{aligned}\n",
    "\\mathop{\\textrm{maximize}}_{\\theta}&& f(\\theta)\n",
    "\\end{aligned}\n",
    "$$\n",
    "\n",
    "Equivalent minimization problem:\n",
    "\n",
    "$$\n",
    "\\begin{aligned}\n",
    "\\mathop{\\textrm{minimize}}_{\\theta}&& -f(\\theta)\n",
    "\\end{aligned}\n",
    "$$\n"
   ]
  },
  {
   "cell_type": "markdown",
   "metadata": {
    "slideshow": {
     "slide_type": "slide"
    }
   },
   "source": [
    "# Specifying Optimization Problems\n",
    "\n",
    "We need to distinguish between **minimum** of a function and a **minimizer** of a function\n",
    "\n",
    "Minimum is the least value that the function achieves, minimizer is the argument for which the minimum is achived \n",
    "\n",
    "For example: $f(x) = 6 + (x-1)^2$ has minimum of $6$, that minimum is achieved at $x=1$, hence, its minimizer is $1$"
   ]
  },
  {
   "cell_type": "code",
   "execution_count": 8,
   "metadata": {
    "slideshow": {
     "slide_type": "slide"
    }
   },
   "outputs": [
    {
     "data": {
      "text/plain": [
       "<matplotlib.legend.Legend at 0x86bfba8>"
      ]
     },
     "execution_count": 8,
     "metadata": {},
     "output_type": "execute_result"
    },
    {
     "data": {
      "image/png": "[encoded data removed]",
      "text/plain": [
       "<Figure size 432x288 with 1 Axes>"
      ]
     },
     "metadata": {},
     "output_type": "display_data"
    }
   ],
   "source": [
    "import matplotlib.pyplot as plt\n",
    "%matplotlib inline\n",
    "import numpy\n",
    "xlimits = [-2,4]\n",
    "ylimits = [0,20]\n",
    "x = numpy.linspace(xlimits[0],xlimits[1],40)\n",
    "y = 6 + (x - 1.0)**2.0\n",
    "plt.plot(x,y,label = 'f(x) = 6 + (x - 1.0)**2.0')\n",
    "plt.ylim([ylimits[0],ylimits[1]])\n",
    "plt.plot([xlimits[0], xlimits[1]],[6.0, 6.0])\n",
    "plt.plot([1.0,1.0],[ylimits[0],6.0])\n",
    "plt.annotate('Minimizer x is 1.0',(1.0,ylimits[0]))\n",
    "plt.annotate('Minimum of f(x) is 6.0',(xlimits[0],6.0))\n",
    "plt.xlabel('x')\n",
    "plt.ylabel('f(x)')\n",
    "plt.legend()\n"
   ]
  },
  {
   "cell_type": "markdown",
   "metadata": {
    "slideshow": {
     "slide_type": "slide"
    }
   },
   "source": [
    "# Specifying Optimization Problems\n",
    "\n",
    "Minimum is value of function -- output, minimizer is value of function's argument -- input\n",
    "\n",
    "* Minimum: \n",
    "\n",
    "$$ \n",
    "\\begin{aligned}\n",
    "\\mathop{\\textrm{min}}_x f(x)\n",
    "\\end{aligned}\n",
    "$$\n",
    "\n",
    "* Minimizer: \n",
    "\n",
    "$$ \n",
    "\\begin{aligned}\n",
    "\\mathop{\\textrm{argmin}}_x f(x)\n",
    "\\end{aligned}\n",
    "$$\n"
   ]
  },
  {
   "cell_type": "markdown",
   "metadata": {
    "slideshow": {
     "slide_type": "slide"
    }
   },
   "source": [
    "* Maximum: \n",
    "\n",
    "$$ \n",
    "\\begin{aligned}\n",
    "\\mathop{\\textrm{max}}_x f(x)\n",
    "\\end{aligned}\n",
    "$$\n",
    "\n",
    "* Maximizer: \n",
    "\n",
    "$$ \n",
    "\\begin{aligned}\n",
    "\\mathop{\\textrm{argmax}}_x f(x)\n",
    "\\end{aligned}\n",
    "$$"
   ]
  },
  {
   "cell_type": "markdown",
   "metadata": {
    "slideshow": {
     "slide_type": "slide"
    }
   },
   "source": [
    "# Transforming Optimization Problems\n",
    "\n",
    "Monotonic transformations of functions do not change location of their minimizers/maximizers\n",
    "\n",
    "$$\n",
    "\\begin{aligned}\n",
    "\\mathop{\\textrm{argmin}}_x f(x) = \\mathop{\\textrm{argmin}}_x f(x) + c\n",
    "\\end{aligned}\n",
    "$$\n",
    "\n",
    "$$\n",
    "\\begin{aligned}\n",
    "\\mathop{\\textrm{argmin}}_x f(x) = \\mathop{\\textrm{argmin}}_x cf(x), c>0\n",
    "\\end{aligned}\n",
    "$$\n",
    "\n",
    "$$\n",
    "\\begin{aligned}\n",
    "\\mathop{\\textrm{argmin}}_x f(x) = \\mathop{\\textrm{argmin}}_x \\log f(x)\n",
    "\\end{aligned}\n",
    "$$\n",
    "\n",
    "$$\n",
    "\\begin{aligned}\n",
    "\\mathop{\\textrm{argmin}}_x f(x) = \\mathop{\\textrm{argmin}}_x \\exp f(x)\n",
    "\\end{aligned}\n",
    "$$\n"
   ]
  },
  {
   "cell_type": "code",
   "execution_count": 9,
   "metadata": {
    "slideshow": {
     "slide_type": "slide"
    }
   },
   "outputs": [
    {
     "data": {
      "text/plain": [
       "<matplotlib.legend.Legend at 0x87678d0>"
      ]
     },
     "execution_count": 9,
     "metadata": {},
     "output_type": "execute_result"
    },
    {
     "data": {
      "image/png": "[encoded data removed]",
      "text/plain": [
       "<Figure size 432x288 with 1 Axes>"
      ]
     },
     "metadata": {},
     "output_type": "display_data"
    }
   ],
   "source": [
    "import matplotlib.pyplot as plt\n",
    "%matplotlib inline\n",
    "import numpy\n",
    "xlimits = [-2,4]\n",
    "ylimits = [-1.0,20]\n",
    "x = numpy.linspace(xlimits[0],xlimits[1],40)\n",
    "y = (x - 1.0)**2.0\n",
    "plt.plot(x,y,label = 'f(x) = (x - 1)**2')\n",
    "plt.plot(x,y+6.0, label = 'g(x) = 6 +f(x)')\n",
    "plt.plot(x,y*1.5, label = 'g(x) = 1.5*f(x)')\n",
    "plt.plot(x,numpy.exp(1./3.*y), label = 'g(x) = exp(f(x))')\n",
    "plt.plot(x,numpy.log(1.0 + y), label = 'g(x) = log(1.0 + f(x))')\n",
    "plt.xlabel('x')\n",
    "plt.ylabel('f(x)')\n",
    "plt.ylim(ylimits)\n",
    "plt.annotate('Same minimizer for all, x=1.0',(1.0,ylimits[0]))\n",
    "plt.plot([1.0,1.0],[ylimits[0],ylimits[1]])\n",
    "plt.legend()"
   ]
  },
  {
   "cell_type": "markdown",
   "metadata": {
    "slideshow": {
     "slide_type": "slide"
    }
   },
   "source": [
    "# Log-Likelihood\n",
    "\n",
    "Maximization of likelihood can be tricky when datasets are large, computing product of probabilities, by definition smaller than 1, can easily underflow\n",
    "\n",
    "Typically, we maximize likelihood by finding maxima of log-likelihood, the location of the maximum's of these two functions coincide, and the only difference is that we avoid numerical problems\n",
    "\n",
    "$$\n",
    "\\log \\mathcal{L}(\\theta|\\mathbf{x}) = \\log p(\\mathbf{x}|\\theta) = \\log \\prod_i p(x_i|\\theta) = \\sum_i \\log p(x_i|\\theta)\n",
    "$$\n",
    "\n",
    "In general, we will compute log probabilities and only convert them to probabilities when we need to perform marginalization"
   ]
  },
  {
   "cell_type": "code",
   "execution_count": 10,
   "metadata": {
    "slideshow": {
     "slide_type": "fragment"
    }
   },
   "outputs": [
    {
     "name": "stdout",
     "output_type": "stream",
     "text": [
      "0.0\n",
      "-1203.97280433\n"
     ]
    }
   ],
   "source": [
    "from math import log\n",
    "theta = 0.1\n",
    "n_h = 500\n",
    "n_t = 500\n",
    "print theta**n_h*(1.0 - theta)**n_t\n",
    "print log(theta)*n_h + log(1.0 - theta)*n_t"
   ]
  },
  {
   "cell_type": "markdown",
   "metadata": {
    "slideshow": {
     "slide_type": "slide"
    }
   },
   "source": [
    "# Maximizing Likelihood \n",
    "\n",
    "Log-Likelihood in detail:\n",
    "$$\n",
    "\\log \\mathcal{L}(\\theta|\\mathbf{x}) = \\sum_i \\log p(x_i|\\theta)\n",
    "$$\n",
    "We plug in our Bernoulli distribution\n",
    "$$\n",
    "p(x_i|\\theta) = \\theta^{x_i} (1-\\theta)^{1 - x_i}\n",
    "$$\n",
    "and it's log is\n",
    "$$\n",
    "\\log p(x_i|\\theta) = {x_i}\\log \\theta + (1-x_i)\\log(1-\\theta)\n",
    "$$\n",
    "Putting it all together\n",
    "$$\n",
    "\\log \\mathcal{L}(\\theta|\\mathbf{x}) = \\sum_i \\left[{x_i}\\log \\theta + (1-x_i)\\log(1-\\theta)\\right]\n",
    "$$\n",
    "\n"
   ]
  },
  {
   "cell_type": "code",
   "execution_count": 11,
   "metadata": {
    "slideshow": {
     "slide_type": "fragment"
    }
   },
   "outputs": [
    {
     "name": "stdout",
     "output_type": "stream",
     "text": [
      "-19.363442839538223\n",
      "-18.021826694558573\n",
      "-17.712908971243312\n"
     ]
    }
   ],
   "source": [
    "def loglikelihood(theta,xs):\n",
    "    lp = 0.0\n",
    "    for x in xs:\n",
    "        lp = lp + numpy.log(theta)*x  + numpy.log(1-theta)*(1-x)\n",
    "    return lp\n",
    "xs = [0,1,0,0,1,0,1,0,1,0,0,0,1,0,0,1,0,0,1,0,1,0,0,1,1,1]\n",
    "print loglikelihood(0.6,xs) \n",
    "print loglikelihood(0.5,xs) \n",
    "print loglikelihood(11.0/26.0,xs) "
   ]
  },
  {
   "cell_type": "markdown",
   "metadata": {
    "slideshow": {
     "slide_type": "slide"
    }
   },
   "source": [
    "# Maximizing Likelihood  \n",
    "\n",
    "Our coin toss example:\n",
    "\n",
    "Data: $$\n",
    "\\mathbf{x} = \\{0,1,0,0,1,0,1,0,1,...\\}\n",
    "$$\n",
    "Log-Likelihood: \n",
    "$$\n",
    "\\log \\mathcal{L}(\\theta|\\mathbf{x}) = \\log p(\\mathbf{x}|\\theta) = \\log \\prod_i p(x_i|\\theta) = \\sum_i \\log p(x_i|\\theta)\n",
    "$$\n",
    "Maximum likelihood estimate: $$\\theta^{\\textrm{ML}} = \\mathop{\\textrm{argmax}}_\\theta \\log \\mathcal{L}(\\theta|\\mathbf{x})$$\n",
    "\n",
    "**<font color='red'> Q: How do we find maxima/minima of functions? </font>**"
   ]
  },
  {
   "cell_type": "markdown",
   "metadata": {
    "slideshow": {
     "slide_type": "slide"
    }
   },
   "source": [
    "# Finding Maximum/Minimum of a Function\n",
    "\n",
    "For a differentiable function $f(\\cdot)$, $x$ is a critical point if it's first derivative at that point is zero\n",
    "\n",
    "$$\n",
    "f'(x) = 0\n",
    "$$\n",
    "\n",
    "A critical point may be a maximizer, minimizer of a saddle point, and you can check whether you have a minimizer or maximizer inspect second derivative\n",
    "\n",
    "* Convex functions have nonnegative second derivative $\\forall x, f''(x) \\geq 0$, for a convex function, $f'(x) = 0$ implies that $x$ is a global minimizer\n",
    "\n",
    "* Concave functions have nonpositive second derivative $\\forall x, f''(x) \\leq 0$, for a concave function, $f'(x) = 0$ implies that $x$ is a global maximizer\n",
    "\n",
    "For next few weeks, all the optimization problems will be convex/Concave\n",
    "\n",
    "Notation: I will write $\\frac{\\partial}{\\partial x} f(x)$ to make it clear which derivative we are computing"
   ]
  },
  {
   "cell_type": "markdown",
   "metadata": {
    "slideshow": {
     "slide_type": "slide"
    }
   },
   "source": [
    "# Finding Maximum/Minimum of log-Likelihood\n",
    "\n",
    "Coin toss example again:\n",
    "\n",
    "$$\n",
    "\\log \\mathcal{L}(\\theta|\\mathbf{x}) = \\sum_i \\left[{x_i}\\log \\theta + (1-x_i)\\log(1-\\theta)\\right]\n",
    "$$\n",
    "\n",
    "Let's compute first derivative\n",
    "\n",
    "$$\n",
    "\\frac{\\partial}{\\partial \\theta}\\log \\mathcal{L}(\\theta|\\mathbf{x}) = \\sum_i \\left[{x_i}\\frac{1}{\\theta} + (1-x_i)(-\\frac{1}{1 - \\theta})\\right]\n",
    "$$\n"
   ]
  },
  {
   "cell_type": "markdown",
   "metadata": {
    "slideshow": {
     "slide_type": "fragment"
    }
   },
   "source": [
    "To find best $\\theta$ we equate the derivative $\\frac{\\partial}{\\partial \\theta}\\log \\mathcal{L}(\\theta|\\mathbf{x})$ to zero  and solve\n",
    "\n",
    "$$\n",
    "\\frac{\\partial}{\\partial \\theta}\\log \\mathcal{L}(\\theta|\\mathbf{x}) = 0 \n",
    "$$"
   ]
  },
  {
   "cell_type": "markdown",
   "metadata": {
    "slideshow": {
     "slide_type": "slide"
    }
   },
   "source": [
    "# Finding Maximum/Minimum of log-Likelihood\n",
    "\n",
    "For our coin toss example this amounts to:\n",
    "\n",
    "$$\n",
    "%\\begin{aligned}\n",
    "\\sum_i \\left[{x_i}\\frac{1}{\\theta} + (1-x_i)\\frac{-1}{1 - \\theta}\\right] = 0\\\\\n",
    "\\sum_i {x_i}\\frac{1}{\\theta} - \\sum_i (1-x_i)\\frac{1}{1 - \\theta} = 0\\\\\n",
    "\\sum_i {x_i}\\frac{1}{\\theta} = \\sum_i (1-x_i)\\frac{1}{1 - \\theta} \\\\\n",
    "\\frac{1}{\\theta}\\underbrace{\\sum_i {x_i}}_{n_h} = \\frac{1}{1 - \\theta}\\underbrace{\\sum_i (1-x_i)}_{n_t} \\\\\n",
    "%\\end{aligned}\n",
    "$$"
   ]
  },
  {
   "cell_type": "markdown",
   "metadata": {
    "slideshow": {
     "slide_type": "slide"
    }
   },
   "source": [
    "\n",
    "$$\n",
    "%\\begin{aligned}\n",
    "(1 - \\theta)n_h = \\theta n_t \\\\ \\\\\n",
    "n_h  = \\theta (n_t+n_h)\\\\ \\\\\n",
    "\\theta = \\frac{n_h}{n_t + n_h}\n",
    "%\\end{aligned}\n",
    "$$\n",
    "\n",
    "Anti-climactic? Reassuring? From the first principles?"
   ]
  },
  {
   "cell_type": "markdown",
   "metadata": {
    "slideshow": {
     "slide_type": "slide"
    }
   },
   "source": [
    "# Exercise: Find MLE for Parameter $\\mu$ of Gaussian Distributed Data\n",
    "\n",
    "$$\n",
    "\\begin{aligned}\n",
    "\\log \\mathcal{L}(\\mu|\\mathbf{x}) &= \\sum_{i=1}^N \\log \\frac{1}{\\sqrt{2\\pi\\sigma^2}} e^{-\\frac{1}{2\\sigma^2}(x_i-\\mu)^2} \\\\\n",
    "&= \\sum_{i=1}^N \\left[-\\frac{1}{2}\\log 2\\pi\\sigma^2 - \\frac{1}{2\\sigma^2}(x_i-\\mu)^2\\right] \\\\\n",
    "\\end{aligned}\n",
    "$$\n",
    "\n",
    "Equate to zero and solve\n",
    "\n",
    "$$\n",
    "\\frac{\\partial}{\\partial \\mu} \\log \\mathcal{L}(\\mu|\\mathbf{x}) = 0\n",
    "$$\n",
    "\n",
    "Hints: \n",
    "1. Recall that a constant added to a function does not change location of its minimizer\n",
    "2. The answer is mean of the ${x_1,...,x_N}$. The point of the exercise is to get there\n",
    "\n",
    "**<font color='red'> Please do this before next lecture, I will solve it at the beginning of the lecture </font>**"
   ]
  },
  {
   "cell_type": "markdown",
   "metadata": {
    "slideshow": {
     "slide_type": "slide"
    }
   },
   "source": [
    "# If you want to see the slides ...\n",
    "\n",
    "Go to Course Website or Sakai and in resources find\n",
    "* link to the html version of the slides (COMP562_Lect2.slides.html)\n",
    "\n",
    "**Just browse from there**\n",
    "**Note that this is static content -- you won't be able to run the code**"
   ]
  },
  {
   "cell_type": "markdown",
   "metadata": {
    "slideshow": {
     "slide_type": "slide"
    }
   },
   "source": [
    "# If you want to run the code in this notebook ...\n",
    "\n",
    "Go to Course Website and you will find instructions on \n",
    "* Install python (use 2.7) and jupyter notebook through Anaconda\n",
    "* link to the notebook (COMP562_Lect2.ipynb)\n",
    "\n",
    "1. Install Anaconda. \n",
    "2. Download the notebook. \n",
    "3. In Anaconda command prompt:\n",
    "\n",
    "```\n",
    "cd <directory_where_you_saved_the_notebook>\n",
    "jupyter notebook\n",
    "```\n",
    "4. A browser window will pop up, click on the notebook file (COMP562-Lect2.ipynb)\n",
    "5. Mess with it as much as you like\n"
   ]
  }
 ],
 "metadata": {
  "anaconda-cloud": {},
  "celltoolbar": "Slideshow",
  "kernelspec": {
   "display_name": "Python 2",
   "language": "python",
   "name": "python2"
  },
  "language_info": {
   "codemirror_mode": {
    "name": "ipython",
    "version": 2
   },
   "file_extension": ".py",
   "mimetype": "text/x-python",
   "name": "python",
   "nbconvert_exporter": "python",
   "pygments_lexer": "ipython2",
   "version": "2.7.15"
  }
 },
 "nbformat": 4,
 "nbformat_minor": 1
}
