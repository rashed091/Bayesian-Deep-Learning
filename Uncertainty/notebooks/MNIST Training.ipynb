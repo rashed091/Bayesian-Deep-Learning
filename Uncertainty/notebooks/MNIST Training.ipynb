{
 "cells": [
  {
   "cell_type": "code",
   "execution_count": 2,
   "metadata": {},
   "outputs": [],
   "source": [
    "import sys\n",
    "sys.path.append(\"../\") # go to parent dir to allow imports"
   ]
  },
  {
   "cell_type": "code",
   "execution_count": 3,
   "metadata": {},
   "outputs": [
    {
     "name": "stdout",
     "output_type": "stream",
     "text": [
      "Extracting ../data/MNIST-data/train-images-idx3-ubyte.gz\n",
      "Extracting ../data/MNIST-data/train-labels-idx1-ubyte.gz\n",
      "Extracting ../data/MNIST-data/t10k-images-idx3-ubyte.gz\n",
      "Extracting ../data/MNIST-data/t10k-labels-idx1-ubyte.gz\n"
     ]
    }
   ],
   "source": [
    "from models import mnist_model\n",
    "from tensorflow.examples.tutorials.mnist import input_data\n",
    "\n",
    "import tensorflow as tf\n",
    "import numpy as np\n",
    "import numpy.ma as ma\n",
    "from scipy.stats import bernoulli\n",
    "\n",
    "import matplotlib\n",
    "%matplotlib inline\n",
    "import matplotlib.pyplot as plt\n",
    "import seaborn as sns\n",
    "\n",
    "%load_ext autoreload\n",
    "%autoreload 2\n",
    "\n",
    "mnist = input_data.read_data_sets(\"../data/MNIST-data\", one_hot=True)"
   ]
  },
  {
   "cell_type": "code",
   "execution_count": 4,
   "metadata": {},
   "outputs": [],
   "source": [
    "import imageio"
   ]
  },
  {
   "cell_type": "code",
   "execution_count": 5,
   "metadata": {},
   "outputs": [],
   "source": [
    "labels = [str(x) for x in range(10)]\n",
    "\n",
    "def show(img):\n",
    "    \"\"\"Displays single mnist digit\"\"\"\n",
    "    plt.imshow(img.reshape([28, 28]), cmap=\"gray\")\n",
    "    plt.show()\n",
    "    \n",
    "def show_with_var(img, prob, var):\n",
    "    \"\"\"Display single mnist digit next to the variance per class\"\"\"\n",
    "    fig, axs = plt.subplots(1, 3, figsize=(10,5))\n",
    "    axs[0].imshow(img.reshape([28, 28]))\n",
    "    axs[1].bar(labels, prob)\n",
    "    axs[2].bar(labels, var)\n",
    "    plt.show()"
   ]
  },
  {
   "cell_type": "markdown",
   "metadata": {},
   "source": [
    "# Training Dropout model"
   ]
  },
  {
   "cell_type": "code",
   "execution_count": 4,
   "metadata": {},
   "outputs": [
    {
     "name": "stdout",
     "output_type": "stream",
     "text": [
      "Extracting ../data/MNIST-data/train-images-idx3-ubyte.gz\n",
      "Extracting ../data/MNIST-data/train-labels-idx1-ubyte.gz\n",
      "Extracting ../data/MNIST-data/t10k-images-idx3-ubyte.gz\n",
      "Extracting ../data/MNIST-data/t10k-labels-idx1-ubyte.gz\n",
      "Epoch 0\n",
      "Accuracy: 0.179999992251\n",
      "Epoch 2000\n",
      "Accuracy: 1.0\n",
      "Epoch 4000\n",
      "Accuracy: 0.959999978542\n",
      "Epoch 6000\n",
      "Accuracy: 1.0\n",
      "Epoch 8000\n",
      "Accuracy: 1.0\n",
      "Epoch 10000\n",
      "Accuracy: 0.960000038147\n",
      "Epoch 12000\n",
      "Accuracy: 0.980000019073\n",
      "Epoch 14000\n",
      "Accuracy: 1.0\n",
      "Epoch 16000\n",
      "Accuracy: 1.0\n",
      "Epoch 18000\n",
      "Accuracy: 1.0\n"
     ]
    }
   ],
   "source": [
    "tf.reset_default_graph()\n",
    "n_passes=50\n",
    "dropout_rate=0.3\n",
    "learning_rate=1e-4\n",
    "epochs=20000\n",
    "display_step=2000\n",
    "\n",
    "mnist = input_data.read_data_sets(\"../data/MNIST-data\", one_hot=True)\n",
    "\n",
    "x_data = tf.placeholder(tf.float32, shape=[None, 784])\n",
    "y_data = tf.placeholder(tf.float32, shape=[None, 10])\n",
    "dropout_rate_data = tf.placeholder(tf.float32)\n",
    "\n",
    "logits, class_prob = mnist_model.dropout_cnn_mnist_model(x_data, dropout_rate_data)\n",
    "\n",
    "loss = tf.losses.softmax_cross_entropy(onehot_labels=y_data, logits=logits)\n",
    "correct_prediction = tf.equal(tf.argmax(class_prob, 1), tf.argmax(y_data, 1))\n",
    "accuracy = tf.reduce_mean(tf.cast(correct_prediction, tf.float32))\n",
    "\n",
    "optimizer = tf.train.AdamOptimizer(learning_rate)\n",
    "train_step = optimizer.minimize(loss)\n",
    "\n",
    "init = tf.global_variables_initializer()\n",
    "sess = tf.Session(config=tf.ConfigProto(log_device_placement=True))\n",
    "sess.run(init)\n",
    "\n",
    "for epoch in range(epochs):\n",
    "    batch = mnist.train.next_batch(50)\n",
    "\n",
    "    sess.run(train_step, feed_dict={x_data: batch[0], y_data: batch[1], dropout_rate_data: 0.5})\n",
    "\n",
    "    if epoch % display_step == 0:\n",
    "        print(\"Epoch {}\".format(epoch))\n",
    "        # cur_loss = sess.run(loss, feed_dict={x_data: batch[0],\n",
    "        #                                      y_data: batch[1]})\n",
    "        train_accuracy = sess.run(accuracy, feed_dict={\n",
    "            x_data: batch[0], y_data: batch[1], dropout_rate_data:0}) # no dropout on single accuracy\n",
    "        print(\"Accuracy: {}\".format(train_accuracy))\n",
    "        \n",
    "        # tf.get_collection(tf.GraphKeys.GLOBAL_VARIABLES)\n",
    "variable_list = tf.get_collection(tf.GraphKeys.GLOBAL_VARIABLES, scope=\"mnist\")[:8]\n",
    "saver = tf.train.Saver(var_list=variable_list)\n",
    "save_path = saver.save(sess, \"mnist_dropout.ckpt\")"
   ]
  },
  {
   "cell_type": "markdown",
   "metadata": {},
   "source": [
    "# Training Bootstrap model"
   ]
  },
  {
   "cell_type": "code",
   "execution_count": 4,
   "metadata": {},
   "outputs": [
    {
     "name": "stdout",
     "output_type": "stream",
     "text": [
      "Extracting ../data/MNIST-data/train-images-idx3-ubyte.gz\n",
      "Extracting ../data/MNIST-data/train-labels-idx1-ubyte.gz\n",
      "Extracting ../data/MNIST-data/t10k-images-idx3-ubyte.gz\n",
      "Extracting ../data/MNIST-data/t10k-labels-idx1-ubyte.gz\n"
     ]
    }
   ],
   "source": [
    "tf.reset_default_graph()\n",
    "n_heads = 5\n",
    "dropout_rate=0.3\n",
    "learning_rate=1e-4\n",
    "epochs=20000\n",
    "display_step=50\n",
    "\n",
    "mnist = input_data.read_data_sets(\"../data/MNIST-data\", one_hot=True)\n",
    "\n",
    "x_data = tf.placeholder(tf.float32, shape=[None, 784])\n",
    "y_data = tf.placeholder(tf.float32, shape=[None, 10])\n",
    "dropout_rate_data = tf.placeholder(tf.float32)\n",
    "\n",
    "heads = mnist_model.dropout_cnn_mnist_model(x_data, dropout_rate_data)\n",
    "optimizer = tf.train.AdamOptimizer(learning_rate)"
   ]
  },
  {
   "cell_type": "code",
   "execution_count": 5,
   "metadata": {},
   "outputs": [],
   "source": [
    "loss_per_head = []\n",
    "train_per_head = []\n",
    "accuracy_per_head = []\n",
    "for head in heads:\n",
    "    logits, class_prob = head  # unpack\n",
    "    loss = tf.losses.softmax_cross_entropy(onehot_labels=y_data, logits=logits)\n",
    "    loss_per_head.append(loss)\n",
    "    train_per_head.append(optimizer.minimize(loss))\n",
    "    \n",
    "    correct_prediction = tf.equal(tf.argmax(class_prob, 1), tf.argmax(y_data, 1))\n",
    "    accuracy = tf.reduce_mean(tf.cast(correct_prediction, tf.float32))\n",
    "    accuracy_per_head.append(accuracy)\n",
    "    \n",
    "#loss = tf.losses.softmax_cross_entropy(onehot_labels=y_data, logits=logits)\n",
    "#correct_prediction = tf.equal(tf.argmax(class_prob, 1), tf.argmax(y_data, 1))\n",
    "#accuracy = tf.reduce_mean(tf.cast(correct_prediction, tf.float32))\n",
    "\n",
    "rv = bernoulli(0.5)\n",
    "mask = rv.rvs(size=(n_heads, 50)) # x is the length\n",
    "\n",
    "init = tf.global_variables_initializer()\n",
    "sess = tf.Session(config=tf.ConfigProto(log_device_placement=True))\n",
    "sess.run(init)\n",
    "\n",
    "# masked is defined only for the most recent batch\n",
    "for epoch in range(epochs):\n",
    "    \n",
    "    batch = mnist.train.next_batch(50)\n",
    "    x = batch[0]\n",
    "    y = batch[1]\n",
    "    \n",
    "    for i, train_step in enumerate(train_per_head):\n",
    "        masked_x = x[mask[i] == 1, :]\n",
    "        masked_y = y[mask[i] == 1, :]\n",
    "        sess.run(train_step, feed_dict={x_data: masked_x, y_data: masked_y, dropout_rate_data: 0.5})\n",
    "    \n",
    "    if epoch % display_step == 0:\n",
    "        print(\"Epoch {}\".format(epoch))\n",
    "        for i, a in enumerate(accuracy_per_head):\n",
    "            cur_acc = sess.run(a, feed_dict={x_data: x, y_data: y, dropout_rate_data: 0.5})\n",
    "            print(\"Head {}: Accuracy: {}\".format(i, cur_acc))\n",
    "\n",
    "        #train_accuracy = sess.run(accuracy, feed_dict={\n",
    "        #    x_data: batch[0], y_data: batch[1], dropout_rate_data:0}) # no dropout on single accuracy\n",
    "        #print(\"Accuracy: {}\".format(train_accuracy))\n",
    "        \n",
    "        # tf.get_collection(tf.GraphKeys.GLOBAL_VARIABLES)\n",
    "    variable_list = tf.get_collection(tf.GraphKeys.GLOBAL_VARIABLES, scope=\"mnist\")[:8]\n",
    "    saver = tf.train.Saver(var_list=variable_list)\n",
    "    save_path = saver.save(sess, \"mnist_bootstrap.ckpt\")"
   ]
  },
  {
   "cell_type": "markdown",
   "metadata": {},
   "source": [
    "# Training Combined Model"
   ]
  },
  {
   "cell_type": "markdown",
   "metadata": {},
   "source": [
    "![grafik.png](attachment:grafik.png)"
   ]
  },
  {
   "cell_type": "code",
   "execution_count": 6,
   "metadata": {},
   "outputs": [
    {
     "name": "stdout",
     "output_type": "stream",
     "text": [
      "Epoch 0\n",
      "Accuracy: 2.26391482353\n",
      "Epoch 2000\n",
      "Accuracy: 0.18221488595\n",
      "Epoch 4000\n",
      "Accuracy: 0.113076582551\n",
      "Epoch 6000\n",
      "Accuracy: 0.148344576359\n",
      "Epoch 8000\n",
      "Accuracy: 0.0655926764011\n",
      "Epoch 10000\n",
      "Accuracy: 0.0806975513697\n",
      "Epoch 12000\n",
      "Accuracy: 0.0791413784027\n",
      "Epoch 14000\n",
      "Accuracy: 0.0218307301402\n",
      "Epoch 16000\n",
      "Accuracy: 0.0398176498711\n",
      "Epoch 18000\n",
      "Accuracy: 0.0348564088345\n"
     ]
    }
   ],
   "source": [
    "tf.reset_default_graph()\n",
    "dropout_rate=0.3\n",
    "learning_rate=1e-4\n",
    "epochs=20000\n",
    "display_step=2000\n",
    "T = 20 # Number of Monte Carlo Integration steps for adding noise to the uncertainty\n",
    "\n",
    "x_data = tf.placeholder(tf.float32, shape=[None, 784])\n",
    "y_data = tf.placeholder(tf.float32, shape=[None, 10])   # only contains correct label, shape[None] \n",
    "dropout_rate_data = tf.placeholder(tf.float32)\n",
    "\n",
    "# uncertainty (sigma) is per logit\n",
    "logits, props, uncertainty = mnist_model.combined_cnn_mnist_model(x_data, dropout_rate_data)\n",
    "\n",
    "batch_size = tf.shape(logits)[0]\n",
    "\n",
    "eps = tf.random_normal([batch_size, T, 10])\n",
    "logits_T = tf.tile(tf.reshape(logits, [-1, 1, 10]), [1, T, 1])\n",
    "uncertainty_T = tf.tile(tf.reshape(uncertainty, [-1, 1, 10]), [1, T, 1])\n",
    "\n",
    "\n",
    "# Combined loss from What Uncertainties do we need\n",
    "xi = logits_T + uncertainty_T * eps\n",
    "y = tf.tile(tf.reshape(y_data, [-1, 1, 10]), [1, T, 1])\n",
    "onehot_logit = tf.reduce_sum(xi * y, axis=2)\n",
    "loss = tf.reduce_sum(-tf.log(tf.reduce_mean(tf.exp(onehot_logit - tf.reduce_logsumexp(xi, axis=2)), axis=1)))\n",
    "\n",
    "# Aleatoric Uncertainty loss\n",
    "#loss = tf.losses.softmax_cross_entropy(onehot_labels=y, logits=xi)\n",
    "\n",
    "#l = onehot_logit - tf.reduce_logsumexp(xi, axis=2)\n",
    "\n",
    "optimizer = tf.train.AdamOptimizer(learning_rate)\n",
    "train_step = optimizer.minimize(loss)\n",
    "\n",
    "init = tf.global_variables_initializer()\n",
    "sess = tf.Session(config=tf.ConfigProto(log_device_placement=True))\n",
    "sess.run(init)\n",
    "\n",
    "for epoch in range(epochs):\n",
    "    batch = mnist.train.next_batch(50)\n",
    "    sess.run(train_step, feed_dict={x_data: batch[0], y_data: batch[1], dropout_rate_data: 0.5})\n",
    "\n",
    "    if epoch % display_step == 0:\n",
    "        print(\"Epoch {}\".format(epoch))\n",
    "        # cur_loss = sess.run(loss, feed_dict={x_data: batch[0],\n",
    "        #                                      y_data: batch[1]})\n",
    "        train_accuracy = sess.run(loss, feed_dict={\n",
    "            x_data: batch[0], y_data: batch[1], dropout_rate_data:0}) # no dropout on single accuracy\n",
    "        print(\"Accuracy: {}\".format(train_accuracy))\n",
    "        \n",
    "variable_list = tf.get_collection(tf.GraphKeys.GLOBAL_VARIABLES, scope=\"mnist\")[:10]\n",
    "saver = tf.train.Saver(var_list=variable_list)\n",
    "save_path = saver.save(sess, \"mnist_combined.ckpt\")"
   ]
  },
  {
   "cell_type": "code",
   "execution_count": 20,
   "metadata": {},
   "outputs": [],
   "source": [
    "adv_img = imageio.imread(\"adv_img.png\").reshape(784)\n",
    "img = imageio.imread(\"img.png\").reshape(784)\n",
    "ticks = [str(x) for x in range(10)]"
   ]
  },
  {
   "cell_type": "code",
   "execution_count": 32,
   "metadata": {},
   "outputs": [
    {
     "name": "stdout",
     "output_type": "stream",
     "text": [
      "INFO:tensorflow:Restoring parameters from mnist_combined.ckpt\n"
     ]
    }
   ],
   "source": [
    "tf.reset_default_graph()\n",
    "dropout_rate=0.3\n",
    "\n",
    "x_data = tf.placeholder(tf.float32, 784)\n",
    "dropout_rate_data = tf.placeholder(tf.float32)\n",
    "\n",
    "# uncertainty (sigma) is per logit\n",
    "logits,props, uncertainty = mnist_model.combined_cnn_mnist_model(x_data, dropout_rate_data)\n",
    "\n",
    "init = tf.global_variables_initializer()\n",
    "sess = tf.Session(config=tf.ConfigProto(log_device_placement=True))\n",
    "sess.run(init)\n",
    "\n",
    "variable_list = tf.get_collection(tf.GraphKeys.GLOBAL_VARIABLES, scope=\"mnist\")[:10]\n",
    "saver = tf.train.Saver(var_list=variable_list)\n",
    "saver.restore(sess, \"mnist_combined.ckpt\")\n",
    "\n",
    "def combined_inference(img):\n",
    "    uncertainties = []\n",
    "    ys = []\n",
    "    for i in range(50):\n",
    "        ys.append(sess.run(props, feed_dict={x_data: img, dropout_rate_data: 0.5})[0])\n",
    "        uncertainties.append(sess.run(tf.square(uncertainty), feed_dict={x_data: img,\n",
    "                                                                         dropout_rate_data: 0.5})[0])\n",
    "    fig, axs = plt.subplots(2, 3, figsize=[15, 5])\n",
    "    fig.suptitle(\"Adversarial Attack in Combined Network - {}\".format(np.mean(entropies)), fontsize=16)\n",
    "    axs[0, 0].bar(ticks, np.array(ys).var(axis=0))\n",
    "    axs[0, 0].set_title(\"Var\")\n",
    "    axs[0, 1].bar(ticks, np.array(ys).mean(axis=0))\n",
    "    axs[0, 1].set_title(\"Mean\")\n",
    "    axs[0, 2].imshow(img.reshape(28, 28), cmap=\"gray\")\n",
    "    \n",
    "#    fig, axs = plt.subplots(1, 3, figsize=[15, 5])\n",
    "    axs[1, 0].bar(ticks, np.array(uncertainties).var(axis=0))\n",
    "    axs[1, 0].set_title(\"Uncertainty Variance\")\n",
    "    axs[1, 1].bar(ticks, np.array(uncertainties).mean(axis=0))\n",
    "    axs[1, 1].set_title(\"Uncertainty Mean\")\n",
    "    axs[1, 2].imshow(img.reshape(28, 28), cmap=\"gray\")\n",
    "    fig.tight_layout(rect=[0, 0.03, 1, 0.95])\n",
    "    \n",
    "#combined_inference(np.random.uniform(size=(784)))\n",
    "#combined_inference(adv_img)"
   ]
  },
  {
   "cell_type": "markdown",
   "metadata": {},
   "source": [
    "## Evaluation and display wrongly classified"
   ]
  },
  {
   "cell_type": "code",
   "execution_count": 8,
   "metadata": {
    "collapsed": true
   },
   "outputs": [
    {
     "name": "stdout",
     "output_type": "stream",
     "text": [
      "Correct: 9\n",
      "Predicted: 4\n"
     ]
    },
    {
     "data": {
      "image/png": "[encoded data removed]",
      "text/plain": [
       "<matplotlib.figure.Figure at 0x7f8f4318e610>"
      ]
     },
     "metadata": {},
     "output_type": "display_data"
    },
    {
     "name": "stdout",
     "output_type": "stream",
     "text": [
      "Correct: 7\n",
      "Predicted: 9\n"
     ]
    },
    {
     "data": {
      "image/png": "[encoded data removed]",
      "text/plain": [
       "<matplotlib.figure.Figure at 0x7f8f3459bc90>"
      ]
     },
     "metadata": {},
     "output_type": "display_data"
    },
    {
     "name": "stdout",
     "output_type": "stream",
     "text": [
      "Correct: 9\n",
      "Predicted: 5\n"
     ]
    },
    {
     "data": {
      "image/png": "[encoded data removed]",
      "text/plain": [
       "<matplotlib.figure.Figure at 0x7f8f3470bed0>"
      ]
     },
     "metadata": {},
     "output_type": "display_data"
    },
    {
     "name": "stdout",
     "output_type": "stream",
     "text": [
      "Correct: 0\n",
      "Predicted: 6\n"
     ]
    },
    {
     "data": {
      "image/png": "[encoded data removed]",
      "text/plain": [
       "<matplotlib.figure.Figure at 0x7f8f3e77bd90>"
      ]
     },
     "metadata": {},
     "output_type": "display_data"
    },
    {
     "name": "stdout",
     "output_type": "stream",
     "text": [
      "Correct: 6\n",
      "Predicted: 0\n"
     ]
    },
    {
     "data": {
      "image/png": "[encoded data removed]",
      "text/plain": [
       "<matplotlib.figure.Figure at 0x7f8f346b3790>"
      ]
     },
     "metadata": {},
     "output_type": "display_data"
    }
   ],
   "source": [
    "x_test = mnist.test.images\n",
    "y_test = mnist.test.labels\n",
    "\n",
    "\n",
    "results = []\n",
    "for i in xrange(10):\n",
    "    x_batch, y_batch = mnist.test.next_batch(100)\n",
    "    # Use tile instead of repeat, because np.repeat flattens results\n",
    "    x_batch_multipass = np.tile(x_batch, n_passes).reshape(-1, 784)\n",
    "\n",
    "\n",
    "    pred_y_multipass = sess.run(class_prob, feed_dict={\n",
    "        x_data: x_batch_multipass, dropout_rate_data: 0.5})\n",
    "\n",
    "    pred_y_multipass = pred_y_multipass.reshape(-1, n_passes, 10)\n",
    "    pred_y_mean = pred_y_multipass.mean(axis=1)\n",
    "    pred_y_var = pred_y_multipass.var(axis=1)\n",
    "\n",
    "    acc = sess.run(accuracy, feed_dict={\n",
    "        x_data: x_batch, y_data:y_batch, dropout_rate_data: 0.5})\n",
    "    \n",
    "    wrong_idx = np.where(np.equal(np.argmax(y_batch, axis=1), np.argmax(pred_y_mean, axis=1)) == False)[0]\n",
    "    if len(wrong_idx) > 0:\n",
    "        for idx in np.nditer(wrong_idx):\n",
    "            print(\"Correct: \" + str(np.argmax(y_batch[idx])))\n",
    "            print(\"Predicted: \" + str(np.argmax(pred_y_mean[idx])))\n",
    "            show_with_var(x_batch[idx], pred_y_mean[idx], pred_y_var[idx])"
   ]
  }
 ],
 "metadata": {
  "kernelspec": {
   "display_name": "ros_e2e",
   "language": "python",
   "name": "ros_e2e"
  },
  "language_info": {
   "codemirror_mode": {
    "name": "ipython",
    "version": 2
   },
   "file_extension": ".py",
   "mimetype": "text/x-python",
   "name": "python",
   "nbconvert_exporter": "python",
   "pygments_lexer": "ipython2",
   "version": "2.7.6"
  }
 },
 "nbformat": 4,
 "nbformat_minor": 2
}
